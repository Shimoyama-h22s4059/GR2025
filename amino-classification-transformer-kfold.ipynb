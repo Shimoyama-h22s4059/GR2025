{
 "cells": [
  {
   "metadata": {},
   "cell_type": "markdown",
   "source": "# アミノ酸配列のグラフ表示画像のTransformerによるタンパク質ファミリー分類（5分割交差検証）",
   "id": "77ee9b7a25aaeddf"
  },
  {
   "metadata": {},
   "cell_type": "markdown",
   "source": "## 1. 画像とラベルの対応を取る `Dataset` を作成",
   "id": "70840541844d7ece"
  },
  {
   "cell_type": "code",
   "id": "initial_id",
   "metadata": {
    "collapsed": true,
    "ExecuteTime": {
     "end_time": "2025-07-24T07:58:32.333024Z",
     "start_time": "2025-07-24T07:58:32.329676Z"
    }
   },
   "source": [
    "from torch.utils.data import Dataset\n",
    "from PIL import Image\n",
    "\n",
    "import os\n",
    "\n",
    "label2id = {\"A\": 0, \"B\": 1, \"C\": 2, \"D\": 3, \"E\": 4}\n",
    "id2label = {v: k for k, v in label2id.items()}\n",
    "\n",
    "class GPCRImageDataset(Dataset):\n",
    "    def __init__(self, csv_path, img_dir, transform=None):\n",
    "        self.data = pd.read_csv(csv_path, header=None, names=[\"num\", \"label\", \"accession\"])\n",
    "        self.img_dir = img_dir\n",
    "        self.transform = transform\n",
    "\n",
    "    def __len__(self):\n",
    "        return len(self.data)\n",
    "\n",
    "    def __getitem__(self, idx):\n",
    "        row = self.data.iloc[idx]\n",
    "        img_path = os.path.join(self.img_dir, f\"{row['num']}.png\")\n",
    "        image = Image.open(img_path).convert(\"RGB\")\n",
    "        label = label2id[row[\"label\"]]\n",
    "\n",
    "        if self.transform:\n",
    "            image = self.transform(image)\n",
    "\n",
    "        return {\n",
    "            \"pixel_values\": image,\n",
    "            \"label\": label\n",
    "        }"
   ],
   "outputs": [],
   "execution_count": 4
  },
  {
   "metadata": {},
   "cell_type": "markdown",
   "source": "## 2. 画像前処理（ViT用）",
   "id": "41059fcff6fe9730"
  },
  {
   "metadata": {
    "ExecuteTime": {
     "end_time": "2025-07-24T07:58:34.356952Z",
     "start_time": "2025-07-24T07:58:34.097994Z"
    }
   },
   "cell_type": "code",
   "source": [
    "from torchvision.transforms import Compose, Resize, ToTensor, Normalize\n",
    "# from transformers import AutoImageProcessor\n",
    "from transformers import ViTImageProcessorFast, ViTForImageClassification\n",
    "\n",
    "processor = ViTImageProcessorFast.from_pretrained(\"google/vit-base-patch16-224-in21k\")\n",
    "transform = Compose([\n",
    "    Resize((224, 224)),\n",
    "    ToTensor(),\n",
    "    Normalize(mean=processor.image_mean, std=processor.image_std)\n",
    "])"
   ],
   "id": "9e201e85617b406f",
   "outputs": [],
   "execution_count": 5
  },
  {
   "metadata": {},
   "cell_type": "markdown",
   "source": "## 3. `Trainer` を使って学習",
   "id": "9923a9de9fcc34d3"
  },
  {
   "metadata": {
    "ExecuteTime": {
     "end_time": "2025-07-24T12:32:05.880975Z",
     "start_time": "2025-07-24T10:55:24.062765Z"
    }
   },
   "cell_type": "code",
   "source": [
    "from transformers import TrainingArguments, Trainer\n",
    "import matplotlib.pyplot as plt\n",
    "import numpy as np\n",
    "import evaluate\n",
    "from sklearn.model_selection import KFold\n",
    "from sklearn.metrics import classification_report, confusion_matrix, f1_score, ConfusionMatrixDisplay\n",
    "from torch.utils.data import Subset\n",
    "import pandas as pd\n",
    "\n",
    "accuracy = evaluate.load(\"accuracy\")\n",
    "\n",
    "# 5分割交差検証の設定\n",
    "kfold = KFold(n_splits=5, shuffle=True, random_state=42)\n",
    "\n",
    "dataset = GPCRImageDataset(\"gpcr_labels.csv\", \"./graphs\", transform=transform)\n",
    "\n",
    "all_f1_scores = []\n",
    "all_conf_matrices = []\n",
    "\n",
    "for fold, (train_idx, val_idx) in enumerate(kfold.split(dataset)):\n",
    "    print(f\"\\033[34m[Fold {fold+1} / 5]\\033[0m\")\n",
    "\n",
    "    # Subset 作成\n",
    "    train_dataset = Subset(dataset, train_idx)\n",
    "    val_dataset = Subset(dataset, val_idx)\n",
    "\n",
    "    # モデルを毎回初期化\n",
    "    model = ViTForImageClassification.from_pretrained(\n",
    "        \"google/vit-base-patch16-224-in21k\",\n",
    "        num_labels=5,\n",
    "        id2label=id2label,\n",
    "        label2id=label2id\n",
    "    )\n",
    "\n",
    "    training_args = TrainingArguments(\n",
    "        output_dir=f\"./vit-gpcr-fold{fold}\",\n",
    "        per_device_train_batch_size=32,\n",
    "        eval_strategy=\"epoch\",\n",
    "        save_strategy=\"epoch\",\n",
    "        num_train_epochs=10,\n",
    "        logging_dir=\"./logs\",\n",
    "        report_to=\"none\"\n",
    "    )\n",
    "\n",
    "    def compute_metrics(eval_pred):\n",
    "        logits, labels = eval_pred\n",
    "        preds = np.argmax(logits, axis=-1)\n",
    "        f1 = f1_score(labels, preds, average=\"weighted\")\n",
    "        return {\n",
    "            \"accuracy\": accuracy.compute(predictions=preds, references=labels)[\"accuracy\"],\n",
    "            \"f1\": f1\n",
    "        }\n",
    "\n",
    "    trainer = Trainer(\n",
    "        model=model,\n",
    "        args=training_args,\n",
    "        train_dataset=train_dataset,\n",
    "        eval_dataset=val_dataset,\n",
    "        tokenizer=processor,\n",
    "        compute_metrics=compute_metrics\n",
    "    )\n",
    "\n",
    "    trainer.train()\n",
    "\n",
    "    # 推論 & 評価\n",
    "    preds = trainer.predict(val_dataset)\n",
    "    y_true = preds.label_ids\n",
    "    y_pred = np.argmax(preds.predictions, axis=1)\n",
    "\n",
    "    # ラベルIDのリストを明示的に渡す\n",
    "    label_ids = list(range(len(label2id)))  # [0, 1, 2, 3, 4]\n",
    "    display_names = list(label2id.keys())  # [\"A\", \"B\", \"C\", \"D\", \"E\"]\n",
    "\n",
    "    f1 = f1_score(y_true, y_pred, average=\"weighted\")\n",
    "    cm = confusion_matrix(y_true, y_pred, labels=label_ids)\n",
    "\n",
    "    report = classification_report(y_true, y_pred, target_names=display_names, output_dict=True)\n",
    "    report_df = pd.DataFrame(report).T\n",
    "\n",
    "    print(f\"Fold {fold+1} F1 Score: \\033[32m{f1:.4f}\\033[0m\")\n",
    "    print(\"Confusion Matrix:\\n\", cm)\n",
    "    print(report_df)\n",
    "\n",
    "    all_f1_scores.append(f1)\n",
    "    all_conf_matrices.append(cm)\n",
    "\n",
    "    # 混同行列を可視化\n",
    "    disp = ConfusionMatrixDisplay(confusion_matrix=cm, display_labels=display_names)\n",
    "    disp.plot(cmap=\"Blues\")\n",
    "    plt.title(f\"Confusion Matrix - Fold {fold+1}\")\n",
    "    plt.show()\n",
    "\n",
    "# 最終結果をまとめる\n",
    "print(\"\\nAverage F1 Score:\", np.mean(all_f1_scores))\n",
    "print(\"Confusion Matrix:\\n\", sum(all_conf_matrices))"
   ],
   "id": "5dc3bdc2aeae531c",
   "outputs": [
    {
     "name": "stdout",
     "output_type": "stream",
     "text": [
      "\u001B[34m[Fold 1 / 5]\u001B[0m\n"
     ]
    },
    {
     "name": "stderr",
     "output_type": "stream",
     "text": [
      "Some weights of ViTForImageClassification were not initialized from the model checkpoint at google/vit-base-patch16-224-in21k and are newly initialized: ['classifier.bias', 'classifier.weight']\n",
      "You should probably TRAIN this model on a down-stream task to be able to use it for predictions and inference.\n",
      "C:\\Users\\ArchWizard7\\AppData\\Local\\Temp\\ipykernel_11508\\1019390587.py:54: FutureWarning: `tokenizer` is deprecated and will be removed in version 5.0.0 for `Trainer.__init__`. Use `processing_class` instead.\n",
      "  trainer = Trainer(\n"
     ]
    },
    {
     "data": {
      "text/plain": [
       "<IPython.core.display.HTML object>"
      ],
      "text/html": [
       "\n",
       "    <div>\n",
       "      \n",
       "      <progress value='1930' max='1930' style='width:300px; height:20px; vertical-align: middle;'></progress>\n",
       "      [1930/1930 19:34, Epoch 10/10]\n",
       "    </div>\n",
       "    <table border=\"1\" class=\"dataframe\">\n",
       "  <thead>\n",
       " <tr style=\"text-align: left;\">\n",
       "      <th>Epoch</th>\n",
       "      <th>Training Loss</th>\n",
       "      <th>Validation Loss</th>\n",
       "      <th>Accuracy</th>\n",
       "      <th>F1</th>\n",
       "    </tr>\n",
       "  </thead>\n",
       "  <tbody>\n",
       "    <tr>\n",
       "      <td>1</td>\n",
       "      <td>No log</td>\n",
       "      <td>0.263807</td>\n",
       "      <td>0.926813</td>\n",
       "      <td>0.922609</td>\n",
       "    </tr>\n",
       "    <tr>\n",
       "      <td>2</td>\n",
       "      <td>No log</td>\n",
       "      <td>0.216066</td>\n",
       "      <td>0.939767</td>\n",
       "      <td>0.936938</td>\n",
       "    </tr>\n",
       "    <tr>\n",
       "      <td>3</td>\n",
       "      <td>0.276400</td>\n",
       "      <td>0.158389</td>\n",
       "      <td>0.961140</td>\n",
       "      <td>0.958514</td>\n",
       "    </tr>\n",
       "    <tr>\n",
       "      <td>4</td>\n",
       "      <td>0.276400</td>\n",
       "      <td>0.139040</td>\n",
       "      <td>0.963083</td>\n",
       "      <td>0.961815</td>\n",
       "    </tr>\n",
       "    <tr>\n",
       "      <td>5</td>\n",
       "      <td>0.276400</td>\n",
       "      <td>0.121209</td>\n",
       "      <td>0.970207</td>\n",
       "      <td>0.969370</td>\n",
       "    </tr>\n",
       "    <tr>\n",
       "      <td>6</td>\n",
       "      <td>0.067300</td>\n",
       "      <td>0.136531</td>\n",
       "      <td>0.968912</td>\n",
       "      <td>0.967586</td>\n",
       "    </tr>\n",
       "    <tr>\n",
       "      <td>7</td>\n",
       "      <td>0.067300</td>\n",
       "      <td>0.138783</td>\n",
       "      <td>0.965026</td>\n",
       "      <td>0.964204</td>\n",
       "    </tr>\n",
       "    <tr>\n",
       "      <td>8</td>\n",
       "      <td>0.028100</td>\n",
       "      <td>0.116949</td>\n",
       "      <td>0.974093</td>\n",
       "      <td>0.973974</td>\n",
       "    </tr>\n",
       "    <tr>\n",
       "      <td>9</td>\n",
       "      <td>0.028100</td>\n",
       "      <td>0.121318</td>\n",
       "      <td>0.970855</td>\n",
       "      <td>0.970608</td>\n",
       "    </tr>\n",
       "    <tr>\n",
       "      <td>10</td>\n",
       "      <td>0.028100</td>\n",
       "      <td>0.117386</td>\n",
       "      <td>0.972798</td>\n",
       "      <td>0.972614</td>\n",
       "    </tr>\n",
       "  </tbody>\n",
       "</table><p>"
      ]
     },
     "metadata": {},
     "output_type": "display_data"
    },
    {
     "data": {
      "text/plain": [
       "<IPython.core.display.HTML object>"
      ],
      "text/html": []
     },
     "metadata": {},
     "output_type": "display_data"
    },
    {
     "name": "stdout",
     "output_type": "stream",
     "text": [
      "Fold 1 F1 Score: \u001B[32m0.9726\u001B[0m\n",
      "Confusion Matrix:\n",
      " [[1036    2   16    0    2]\n",
      " [   7   85    2    0    0]\n",
      " [   9    2  377    0    0]\n",
      " [   0    0    2    1    0]\n",
      " [   0    0    0    0    3]]\n",
      "              precision    recall  f1-score      support\n",
      "A              0.984791  0.981061  0.982922  1056.000000\n",
      "B              0.955056  0.904255  0.928962    94.000000\n",
      "C              0.949622  0.971649  0.960510   388.000000\n",
      "D              1.000000  0.333333  0.500000     3.000000\n",
      "E              0.600000  1.000000  0.750000     3.000000\n",
      "accuracy       0.972798  0.972798  0.972798     0.972798\n",
      "macro avg      0.897894  0.838060  0.824479  1544.000000\n",
      "weighted avg   0.973425  0.972798  0.972614  1544.000000\n"
     ]
    },
    {
     "data": {
      "text/plain": [
       "<Figure size 640x480 with 2 Axes>"
      ],
      "image/png": "[encoded data removed]"
     },
     "metadata": {},
     "output_type": "display_data"
    },
    {
     "name": "stdout",
     "output_type": "stream",
     "text": [
      "\u001B[34m[Fold 2 / 5]\u001B[0m\n"
     ]
    },
    {
     "name": "stderr",
     "output_type": "stream",
     "text": [
      "Some weights of ViTForImageClassification were not initialized from the model checkpoint at google/vit-base-patch16-224-in21k and are newly initialized: ['classifier.bias', 'classifier.weight']\n",
      "You should probably TRAIN this model on a down-stream task to be able to use it for predictions and inference.\n",
      "C:\\Users\\ArchWizard7\\AppData\\Local\\Temp\\ipykernel_11508\\1019390587.py:54: FutureWarning: `tokenizer` is deprecated and will be removed in version 5.0.0 for `Trainer.__init__`. Use `processing_class` instead.\n",
      "  trainer = Trainer(\n"
     ]
    },
    {
     "data": {
      "text/plain": [
       "<IPython.core.display.HTML object>"
      ],
      "text/html": [
       "\n",
       "    <div>\n",
       "      \n",
       "      <progress value='1930' max='1930' style='width:300px; height:20px; vertical-align: middle;'></progress>\n",
       "      [1930/1930 19:03, Epoch 10/10]\n",
       "    </div>\n",
       "    <table border=\"1\" class=\"dataframe\">\n",
       "  <thead>\n",
       " <tr style=\"text-align: left;\">\n",
       "      <th>Epoch</th>\n",
       "      <th>Training Loss</th>\n",
       "      <th>Validation Loss</th>\n",
       "      <th>Accuracy</th>\n",
       "      <th>F1</th>\n",
       "    </tr>\n",
       "  </thead>\n",
       "  <tbody>\n",
       "    <tr>\n",
       "      <td>1</td>\n",
       "      <td>No log</td>\n",
       "      <td>0.233741</td>\n",
       "      <td>0.942968</td>\n",
       "      <td>0.940408</td>\n",
       "    </tr>\n",
       "    <tr>\n",
       "      <td>2</td>\n",
       "      <td>No log</td>\n",
       "      <td>0.158940</td>\n",
       "      <td>0.957874</td>\n",
       "      <td>0.955971</td>\n",
       "    </tr>\n",
       "    <tr>\n",
       "      <td>3</td>\n",
       "      <td>0.274900</td>\n",
       "      <td>0.185783</td>\n",
       "      <td>0.951393</td>\n",
       "      <td>0.949743</td>\n",
       "    </tr>\n",
       "    <tr>\n",
       "      <td>4</td>\n",
       "      <td>0.274900</td>\n",
       "      <td>0.168037</td>\n",
       "      <td>0.955930</td>\n",
       "      <td>0.955763</td>\n",
       "    </tr>\n",
       "    <tr>\n",
       "      <td>5</td>\n",
       "      <td>0.274900</td>\n",
       "      <td>0.201270</td>\n",
       "      <td>0.952690</td>\n",
       "      <td>0.950934</td>\n",
       "    </tr>\n",
       "    <tr>\n",
       "      <td>6</td>\n",
       "      <td>0.061700</td>\n",
       "      <td>0.168732</td>\n",
       "      <td>0.961115</td>\n",
       "      <td>0.961087</td>\n",
       "    </tr>\n",
       "    <tr>\n",
       "      <td>7</td>\n",
       "      <td>0.061700</td>\n",
       "      <td>0.164967</td>\n",
       "      <td>0.963707</td>\n",
       "      <td>0.963225</td>\n",
       "    </tr>\n",
       "    <tr>\n",
       "      <td>8</td>\n",
       "      <td>0.022000</td>\n",
       "      <td>0.161216</td>\n",
       "      <td>0.962411</td>\n",
       "      <td>0.962083</td>\n",
       "    </tr>\n",
       "    <tr>\n",
       "      <td>9</td>\n",
       "      <td>0.022000</td>\n",
       "      <td>0.182178</td>\n",
       "      <td>0.961763</td>\n",
       "      <td>0.961232</td>\n",
       "    </tr>\n",
       "    <tr>\n",
       "      <td>10</td>\n",
       "      <td>0.022000</td>\n",
       "      <td>0.177669</td>\n",
       "      <td>0.962411</td>\n",
       "      <td>0.961969</td>\n",
       "    </tr>\n",
       "  </tbody>\n",
       "</table><p>"
      ]
     },
     "metadata": {},
     "output_type": "display_data"
    },
    {
     "data": {
      "text/plain": [
       "<IPython.core.display.HTML object>"
      ],
      "text/html": []
     },
     "metadata": {},
     "output_type": "display_data"
    },
    {
     "name": "stdout",
     "output_type": "stream",
     "text": [
      "Fold 2 F1 Score: \u001B[32m0.9620\u001B[0m\n",
      "Confusion Matrix:\n",
      " [[1048    7   10    0    0]\n",
      " [  11   83    2    0    0]\n",
      " [  19    6  350    1    0]\n",
      " [   0    0    2    0    0]\n",
      " [   0    0    0    0    4]]\n",
      "              precision    recall  f1-score      support\n",
      "A              0.972171  0.984038  0.978068  1065.000000\n",
      "B              0.864583  0.864583  0.864583    96.000000\n",
      "C              0.961538  0.930851  0.945946   376.000000\n",
      "D              0.000000  0.000000  0.000000     2.000000\n",
      "E              1.000000  1.000000  1.000000     4.000000\n",
      "accuracy       0.962411  0.962411  0.962411     0.962411\n",
      "macro avg      0.759658  0.755894  0.757719  1543.000000\n",
      "weighted avg   0.961698  0.962411  0.961969  1543.000000\n"
     ]
    },
    {
     "data": {
      "text/plain": [
       "<Figure size 640x480 with 2 Axes>"
      ],
      "image/png": "[encoded data removed]"
     },
     "metadata": {},
     "output_type": "display_data"
    },
    {
     "name": "stdout",
     "output_type": "stream",
     "text": [
      "\u001B[34m[Fold 3 / 5]\u001B[0m\n"
     ]
    },
    {
     "name": "stderr",
     "output_type": "stream",
     "text": [
      "Some weights of ViTForImageClassification were not initialized from the model checkpoint at google/vit-base-patch16-224-in21k and are newly initialized: ['classifier.bias', 'classifier.weight']\n",
      "You should probably TRAIN this model on a down-stream task to be able to use it for predictions and inference.\n",
      "C:\\Users\\ArchWizard7\\AppData\\Local\\Temp\\ipykernel_11508\\1019390587.py:54: FutureWarning: `tokenizer` is deprecated and will be removed in version 5.0.0 for `Trainer.__init__`. Use `processing_class` instead.\n",
      "  trainer = Trainer(\n"
     ]
    },
    {
     "data": {
      "text/plain": [
       "<IPython.core.display.HTML object>"
      ],
      "text/html": [
       "\n",
       "    <div>\n",
       "      \n",
       "      <progress value='1930' max='1930' style='width:300px; height:20px; vertical-align: middle;'></progress>\n",
       "      [1930/1930 18:43, Epoch 10/10]\n",
       "    </div>\n",
       "    <table border=\"1\" class=\"dataframe\">\n",
       "  <thead>\n",
       " <tr style=\"text-align: left;\">\n",
       "      <th>Epoch</th>\n",
       "      <th>Training Loss</th>\n",
       "      <th>Validation Loss</th>\n",
       "      <th>Accuracy</th>\n",
       "      <th>F1</th>\n",
       "    </tr>\n",
       "  </thead>\n",
       "  <tbody>\n",
       "    <tr>\n",
       "      <td>1</td>\n",
       "      <td>No log</td>\n",
       "      <td>0.261145</td>\n",
       "      <td>0.927414</td>\n",
       "      <td>0.922549</td>\n",
       "    </tr>\n",
       "    <tr>\n",
       "      <td>2</td>\n",
       "      <td>No log</td>\n",
       "      <td>0.242950</td>\n",
       "      <td>0.930006</td>\n",
       "      <td>0.927364</td>\n",
       "    </tr>\n",
       "    <tr>\n",
       "      <td>3</td>\n",
       "      <td>0.273400</td>\n",
       "      <td>0.194243</td>\n",
       "      <td>0.954634</td>\n",
       "      <td>0.951330</td>\n",
       "    </tr>\n",
       "    <tr>\n",
       "      <td>4</td>\n",
       "      <td>0.273400</td>\n",
       "      <td>0.246210</td>\n",
       "      <td>0.938432</td>\n",
       "      <td>0.935258</td>\n",
       "    </tr>\n",
       "    <tr>\n",
       "      <td>5</td>\n",
       "      <td>0.273400</td>\n",
       "      <td>0.198496</td>\n",
       "      <td>0.952690</td>\n",
       "      <td>0.952116</td>\n",
       "    </tr>\n",
       "    <tr>\n",
       "      <td>6</td>\n",
       "      <td>0.063600</td>\n",
       "      <td>0.186919</td>\n",
       "      <td>0.957874</td>\n",
       "      <td>0.958345</td>\n",
       "    </tr>\n",
       "    <tr>\n",
       "      <td>7</td>\n",
       "      <td>0.063600</td>\n",
       "      <td>0.194890</td>\n",
       "      <td>0.959170</td>\n",
       "      <td>0.959685</td>\n",
       "    </tr>\n",
       "    <tr>\n",
       "      <td>8</td>\n",
       "      <td>0.022700</td>\n",
       "      <td>0.189228</td>\n",
       "      <td>0.958522</td>\n",
       "      <td>0.959431</td>\n",
       "    </tr>\n",
       "    <tr>\n",
       "      <td>9</td>\n",
       "      <td>0.022700</td>\n",
       "      <td>0.203101</td>\n",
       "      <td>0.957226</td>\n",
       "      <td>0.957727</td>\n",
       "    </tr>\n",
       "    <tr>\n",
       "      <td>10</td>\n",
       "      <td>0.022700</td>\n",
       "      <td>0.191476</td>\n",
       "      <td>0.957874</td>\n",
       "      <td>0.958693</td>\n",
       "    </tr>\n",
       "  </tbody>\n",
       "</table><p>"
      ]
     },
     "metadata": {},
     "output_type": "display_data"
    },
    {
     "data": {
      "text/plain": [
       "<IPython.core.display.HTML object>"
      ],
      "text/html": []
     },
     "metadata": {},
     "output_type": "display_data"
    },
    {
     "name": "stdout",
     "output_type": "stream",
     "text": [
      "Fold 3 F1 Score: \u001B[32m0.9587\u001B[0m\n",
      "Confusion Matrix:\n",
      " [[1041    2   14    0    0]\n",
      " [   9   74   12    0    0]\n",
      " [  15    3  360    6    0]\n",
      " [   0    0    0    0    0]\n",
      " [   1    0    3    0    3]]\n",
      "              precision    recall  f1-score      support\n",
      "A              0.976548  0.984863  0.980688  1057.000000\n",
      "B              0.936709  0.778947  0.850575    95.000000\n",
      "C              0.925450  0.937500  0.931436   384.000000\n",
      "D              0.000000  0.000000  0.000000     0.000000\n",
      "E              1.000000  0.428571  0.600000     7.000000\n",
      "accuracy       0.957874  0.957874  0.957874     0.957874\n",
      "macro avg      0.767741  0.625976  0.672540  1543.000000\n",
      "weighted avg   0.961485  0.957874  0.958693  1543.000000\n"
     ]
    },
    {
     "name": "stderr",
     "output_type": "stream",
     "text": [
      "E:\\GR2025\\.venv\\Lib\\site-packages\\sklearn\\metrics\\_classification.py:1731: UndefinedMetricWarning: Recall is ill-defined and being set to 0.0 in labels with no true samples. Use `zero_division` parameter to control this behavior.\n",
      "  _warn_prf(average, modifier, f\"{metric.capitalize()} is\", result.shape[0])\n",
      "E:\\GR2025\\.venv\\Lib\\site-packages\\sklearn\\metrics\\_classification.py:1731: UndefinedMetricWarning: Recall is ill-defined and being set to 0.0 in labels with no true samples. Use `zero_division` parameter to control this behavior.\n",
      "  _warn_prf(average, modifier, f\"{metric.capitalize()} is\", result.shape[0])\n",
      "E:\\GR2025\\.venv\\Lib\\site-packages\\sklearn\\metrics\\_classification.py:1731: UndefinedMetricWarning: Recall is ill-defined and being set to 0.0 in labels with no true samples. Use `zero_division` parameter to control this behavior.\n",
      "  _warn_prf(average, modifier, f\"{metric.capitalize()} is\", result.shape[0])\n"
     ]
    },
    {
     "data": {
      "text/plain": [
       "<Figure size 640x480 with 2 Axes>"
      ],
      "image/png": "[encoded data removed]"
     },
     "metadata": {},
     "output_type": "display_data"
    },
    {
     "name": "stdout",
     "output_type": "stream",
     "text": [
      "\u001B[34m[Fold 4 / 5]\u001B[0m\n"
     ]
    },
    {
     "name": "stderr",
     "output_type": "stream",
     "text": [
      "Some weights of ViTForImageClassification were not initialized from the model checkpoint at google/vit-base-patch16-224-in21k and are newly initialized: ['classifier.bias', 'classifier.weight']\n",
      "You should probably TRAIN this model on a down-stream task to be able to use it for predictions and inference.\n",
      "C:\\Users\\ArchWizard7\\AppData\\Local\\Temp\\ipykernel_11508\\1019390587.py:54: FutureWarning: `tokenizer` is deprecated and will be removed in version 5.0.0 for `Trainer.__init__`. Use `processing_class` instead.\n",
      "  trainer = Trainer(\n"
     ]
    },
    {
     "data": {
      "text/plain": [
       "<IPython.core.display.HTML object>"
      ],
      "text/html": [
       "\n",
       "    <div>\n",
       "      \n",
       "      <progress value='1930' max='1930' style='width:300px; height:20px; vertical-align: middle;'></progress>\n",
       "      [1930/1930 19:10, Epoch 10/10]\n",
       "    </div>\n",
       "    <table border=\"1\" class=\"dataframe\">\n",
       "  <thead>\n",
       " <tr style=\"text-align: left;\">\n",
       "      <th>Epoch</th>\n",
       "      <th>Training Loss</th>\n",
       "      <th>Validation Loss</th>\n",
       "      <th>Accuracy</th>\n",
       "      <th>F1</th>\n",
       "    </tr>\n",
       "  </thead>\n",
       "  <tbody>\n",
       "    <tr>\n",
       "      <td>1</td>\n",
       "      <td>No log</td>\n",
       "      <td>0.268406</td>\n",
       "      <td>0.929358</td>\n",
       "      <td>0.925933</td>\n",
       "    </tr>\n",
       "    <tr>\n",
       "      <td>2</td>\n",
       "      <td>No log</td>\n",
       "      <td>0.218935</td>\n",
       "      <td>0.938432</td>\n",
       "      <td>0.937761</td>\n",
       "    </tr>\n",
       "    <tr>\n",
       "      <td>3</td>\n",
       "      <td>0.278600</td>\n",
       "      <td>0.186334</td>\n",
       "      <td>0.947505</td>\n",
       "      <td>0.945938</td>\n",
       "    </tr>\n",
       "    <tr>\n",
       "      <td>4</td>\n",
       "      <td>0.278600</td>\n",
       "      <td>0.207267</td>\n",
       "      <td>0.952041</td>\n",
       "      <td>0.950430</td>\n",
       "    </tr>\n",
       "    <tr>\n",
       "      <td>5</td>\n",
       "      <td>0.278600</td>\n",
       "      <td>0.206850</td>\n",
       "      <td>0.956578</td>\n",
       "      <td>0.954636</td>\n",
       "    </tr>\n",
       "    <tr>\n",
       "      <td>6</td>\n",
       "      <td>0.060900</td>\n",
       "      <td>0.214986</td>\n",
       "      <td>0.955930</td>\n",
       "      <td>0.953828</td>\n",
       "    </tr>\n",
       "    <tr>\n",
       "      <td>7</td>\n",
       "      <td>0.060900</td>\n",
       "      <td>0.215254</td>\n",
       "      <td>0.957226</td>\n",
       "      <td>0.956097</td>\n",
       "    </tr>\n",
       "    <tr>\n",
       "      <td>8</td>\n",
       "      <td>0.021900</td>\n",
       "      <td>0.221765</td>\n",
       "      <td>0.955930</td>\n",
       "      <td>0.955245</td>\n",
       "    </tr>\n",
       "    <tr>\n",
       "      <td>9</td>\n",
       "      <td>0.021900</td>\n",
       "      <td>0.219762</td>\n",
       "      <td>0.955282</td>\n",
       "      <td>0.954878</td>\n",
       "    </tr>\n",
       "    <tr>\n",
       "      <td>10</td>\n",
       "      <td>0.021900</td>\n",
       "      <td>0.227510</td>\n",
       "      <td>0.954634</td>\n",
       "      <td>0.954042</td>\n",
       "    </tr>\n",
       "  </tbody>\n",
       "</table><p>"
      ]
     },
     "metadata": {},
     "output_type": "display_data"
    },
    {
     "data": {
      "text/plain": [
       "<IPython.core.display.HTML object>"
      ],
      "text/html": []
     },
     "metadata": {},
     "output_type": "display_data"
    },
    {
     "name": "stdout",
     "output_type": "stream",
     "text": [
      "Fold 4 F1 Score: \u001B[32m0.9540\u001B[0m\n",
      "Confusion Matrix:\n",
      " [[1045    2   16    0    0]\n",
      " [   8   67    2    0    0]\n",
      " [  30    5  359    3    0]\n",
      " [   0    0    4    1    0]\n",
      " [   0    0    0    0    1]]\n",
      "              precision    recall  f1-score      support\n",
      "A              0.964912  0.983067  0.973905  1063.000000\n",
      "B              0.905405  0.870130  0.887417    77.000000\n",
      "C              0.942257  0.904282  0.922879   397.000000\n",
      "D              0.250000  0.200000  0.222222     5.000000\n",
      "E              1.000000  1.000000  1.000000     1.000000\n",
      "accuracy       0.954634  0.954634  0.954634     0.954634\n",
      "macro avg      0.812515  0.791496  0.801285  1543.000000\n",
      "weighted avg   0.953820  0.954634  0.954042  1543.000000\n"
     ]
    },
    {
     "data": {
      "text/plain": [
       "<Figure size 640x480 with 2 Axes>"
      ],
      "image/png": "[encoded data removed]"
     },
     "metadata": {},
     "output_type": "display_data"
    },
    {
     "name": "stdout",
     "output_type": "stream",
     "text": [
      "\u001B[34m[Fold 5 / 5]\u001B[0m\n"
     ]
    },
    {
     "name": "stderr",
     "output_type": "stream",
     "text": [
      "Some weights of ViTForImageClassification were not initialized from the model checkpoint at google/vit-base-patch16-224-in21k and are newly initialized: ['classifier.bias', 'classifier.weight']\n",
      "You should probably TRAIN this model on a down-stream task to be able to use it for predictions and inference.\n",
      "C:\\Users\\ArchWizard7\\AppData\\Local\\Temp\\ipykernel_11508\\1019390587.py:54: FutureWarning: `tokenizer` is deprecated and will be removed in version 5.0.0 for `Trainer.__init__`. Use `processing_class` instead.\n",
      "  trainer = Trainer(\n"
     ]
    },
    {
     "data": {
      "text/plain": [
       "<IPython.core.display.HTML object>"
      ],
      "text/html": [
       "\n",
       "    <div>\n",
       "      \n",
       "      <progress value='1930' max='1930' style='width:300px; height:20px; vertical-align: middle;'></progress>\n",
       "      [1930/1930 19:14, Epoch 10/10]\n",
       "    </div>\n",
       "    <table border=\"1\" class=\"dataframe\">\n",
       "  <thead>\n",
       " <tr style=\"text-align: left;\">\n",
       "      <th>Epoch</th>\n",
       "      <th>Training Loss</th>\n",
       "      <th>Validation Loss</th>\n",
       "      <th>Accuracy</th>\n",
       "      <th>F1</th>\n",
       "    </tr>\n",
       "  </thead>\n",
       "  <tbody>\n",
       "    <tr>\n",
       "      <td>1</td>\n",
       "      <td>No log</td>\n",
       "      <td>0.295119</td>\n",
       "      <td>0.912508</td>\n",
       "      <td>0.912291</td>\n",
       "    </tr>\n",
       "    <tr>\n",
       "      <td>2</td>\n",
       "      <td>No log</td>\n",
       "      <td>0.152931</td>\n",
       "      <td>0.961115</td>\n",
       "      <td>0.958940</td>\n",
       "    </tr>\n",
       "    <tr>\n",
       "      <td>3</td>\n",
       "      <td>0.277600</td>\n",
       "      <td>0.146665</td>\n",
       "      <td>0.959819</td>\n",
       "      <td>0.957552</td>\n",
       "    </tr>\n",
       "    <tr>\n",
       "      <td>4</td>\n",
       "      <td>0.277600</td>\n",
       "      <td>0.139502</td>\n",
       "      <td>0.964355</td>\n",
       "      <td>0.962849</td>\n",
       "    </tr>\n",
       "    <tr>\n",
       "      <td>5</td>\n",
       "      <td>0.277600</td>\n",
       "      <td>0.137907</td>\n",
       "      <td>0.962411</td>\n",
       "      <td>0.961300</td>\n",
       "    </tr>\n",
       "    <tr>\n",
       "      <td>6</td>\n",
       "      <td>0.066400</td>\n",
       "      <td>0.142130</td>\n",
       "      <td>0.968244</td>\n",
       "      <td>0.967421</td>\n",
       "    </tr>\n",
       "    <tr>\n",
       "      <td>7</td>\n",
       "      <td>0.066400</td>\n",
       "      <td>0.143929</td>\n",
       "      <td>0.967596</td>\n",
       "      <td>0.966514</td>\n",
       "    </tr>\n",
       "    <tr>\n",
       "      <td>8</td>\n",
       "      <td>0.023500</td>\n",
       "      <td>0.145030</td>\n",
       "      <td>0.968892</td>\n",
       "      <td>0.967861</td>\n",
       "    </tr>\n",
       "    <tr>\n",
       "      <td>9</td>\n",
       "      <td>0.023500</td>\n",
       "      <td>0.145341</td>\n",
       "      <td>0.968892</td>\n",
       "      <td>0.967854</td>\n",
       "    </tr>\n",
       "    <tr>\n",
       "      <td>10</td>\n",
       "      <td>0.023500</td>\n",
       "      <td>0.146343</td>\n",
       "      <td>0.968244</td>\n",
       "      <td>0.967261</td>\n",
       "    </tr>\n",
       "  </tbody>\n",
       "</table><p>"
      ]
     },
     "metadata": {},
     "output_type": "display_data"
    },
    {
     "data": {
      "text/plain": [
       "<IPython.core.display.HTML object>"
      ],
      "text/html": []
     },
     "metadata": {},
     "output_type": "display_data"
    },
    {
     "name": "stdout",
     "output_type": "stream",
     "text": [
      "Fold 5 F1 Score: \u001B[32m0.9673\u001B[0m\n",
      "Confusion Matrix:\n",
      " [[1041    5   15    0    0]\n",
      " [   4   80    8    0    0]\n",
      " [  12    2  370    0    0]\n",
      " [   1    0    2    0    0]\n",
      " [   0    0    0    0    3]]\n",
      "              precision    recall  f1-score      support\n",
      "A              0.983932  0.981150  0.982539  1061.000000\n",
      "B              0.919540  0.869565  0.893855    92.000000\n",
      "C              0.936709  0.963542  0.949936   384.000000\n",
      "D              0.000000  0.000000  0.000000     3.000000\n",
      "E              1.000000  1.000000  1.000000     3.000000\n",
      "accuracy       0.968244  0.968244  0.968244     0.968244\n",
      "macro avg      0.768036  0.762851  0.765266  1543.000000\n",
      "weighted avg   0.966459  0.968244  0.967261  1543.000000\n"
     ]
    },
    {
     "name": "stderr",
     "output_type": "stream",
     "text": [
      "E:\\GR2025\\.venv\\Lib\\site-packages\\sklearn\\metrics\\_classification.py:1731: UndefinedMetricWarning: Precision is ill-defined and being set to 0.0 in labels with no predicted samples. Use `zero_division` parameter to control this behavior.\n",
      "  _warn_prf(average, modifier, f\"{metric.capitalize()} is\", result.shape[0])\n",
      "E:\\GR2025\\.venv\\Lib\\site-packages\\sklearn\\metrics\\_classification.py:1731: UndefinedMetricWarning: Precision is ill-defined and being set to 0.0 in labels with no predicted samples. Use `zero_division` parameter to control this behavior.\n",
      "  _warn_prf(average, modifier, f\"{metric.capitalize()} is\", result.shape[0])\n",
      "E:\\GR2025\\.venv\\Lib\\site-packages\\sklearn\\metrics\\_classification.py:1731: UndefinedMetricWarning: Precision is ill-defined and being set to 0.0 in labels with no predicted samples. Use `zero_division` parameter to control this behavior.\n",
      "  _warn_prf(average, modifier, f\"{metric.capitalize()} is\", result.shape[0])\n"
     ]
    },
    {
     "data": {
      "text/plain": [
       "<Figure size 640x480 with 2 Axes>"
      ],
      "image/png": "[encoded data removed]"
     },
     "metadata": {},
     "output_type": "display_data"
    },
    {
     "name": "stdout",
     "output_type": "stream",
     "text": [
      "\n",
      "Average F1 Score: 0.962915684643453\n",
      "Confusion Matrix:\n",
      " [[5211   18   71    0    2]\n",
      " [  39  389   26    0    0]\n",
      " [  85   18 1816   10    0]\n",
      " [   1    0   10    2    0]\n",
      " [   1    0    3    0   14]]\n"
     ]
    }
   ],
   "execution_count": 11
  }
 ],
 "metadata": {
  "kernelspec": {
   "display_name": "Python 3",
   "language": "python",
   "name": "python3"
  },
  "language_info": {
   "codemirror_mode": {
    "name": "ipython",
    "version": 2
   },
   "file_extension": ".py",
   "mimetype": "text/x-python",
   "name": "python",
   "nbconvert_exporter": "python",
   "pygments_lexer": "ipython2",
   "version": "2.7.6"
  }
 },
 "nbformat": 4,
 "nbformat_minor": 5
}
