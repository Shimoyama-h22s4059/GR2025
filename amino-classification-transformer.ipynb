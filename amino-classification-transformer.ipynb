{
 "cells": [
  {
   "metadata": {},
   "cell_type": "markdown",
   "source": "# アミノ酸配列のグラフ表示画像のTransformerによるタンパク質ファミリー分類",
   "id": "77ee9b7a25aaeddf"
  },
  {
   "metadata": {},
   "cell_type": "markdown",
   "source": "## 1. 画像とラベルの対応を取る `Dataset` を作成",
   "id": "70840541844d7ece"
  },
  {
   "cell_type": "code",
   "id": "initial_id",
   "metadata": {
    "collapsed": true,
    "ExecuteTime": {
     "end_time": "2025-07-24T01:12:25.807303Z",
     "start_time": "2025-07-24T01:12:24.610135Z"
    }
   },
   "source": [
    "from torch.utils.data import Dataset\n",
    "from PIL import Image\n",
    "import pandas as pd\n",
    "\n",
    "import os\n",
    "\n",
    "label2id = {\"A\": 0, \"B\": 1, \"C\": 2, \"D\": 3, \"E\": 4}\n",
    "id2label = {v: k for k, v in label2id.items()}\n",
    "\n",
    "class GPCRImageDataset(Dataset):\n",
    "    def __init__(self, csv_path, img_dir, transform=None):\n",
    "        self.data = pd.read_csv(csv_path, header=None, names=[\"num\", \"label\", \"accession\"])\n",
    "        self.img_dir = img_dir\n",
    "        self.transform = transform\n",
    "\n",
    "    def __len__(self):\n",
    "        return len(self.data)\n",
    "\n",
    "    def __getitem__(self, idx):\n",
    "        row = self.data.iloc[idx]\n",
    "        img_path = os.path.join(self.img_dir, f\"{row['num']}.png\")\n",
    "        image = Image.open(img_path).convert(\"RGB\")\n",
    "        label = label2id[row[\"label\"]]\n",
    "\n",
    "        if self.transform:\n",
    "            image = self.transform(image)\n",
    "\n",
    "        return {\n",
    "            \"pixel_values\": image,\n",
    "            \"label\": label\n",
    "        }"
   ],
   "outputs": [],
   "execution_count": 1
  },
  {
   "metadata": {},
   "cell_type": "markdown",
   "source": "## 2. 画像前処理（ViT用）",
   "id": "41059fcff6fe9730"
  },
  {
   "metadata": {
    "ExecuteTime": {
     "end_time": "2025-07-24T01:15:42.063413Z",
     "start_time": "2025-07-24T01:15:41.871040Z"
    }
   },
   "cell_type": "code",
   "source": [
    "from torchvision.transforms import Compose, Resize, ToTensor, Normalize\n",
    "# from transformers import AutoImageProcessor\n",
    "from transformers import ViTImageProcessorFast\n",
    "\n",
    "processor = ViTImageProcessorFast.from_pretrained(\"google/vit-base-patch16-224-in21k\")\n",
    "transform = Compose([\n",
    "    Resize((224, 224)),\n",
    "    ToTensor(),\n",
    "    Normalize(mean=processor.image_mean, std=processor.image_std)\n",
    "])"
   ],
   "id": "9e201e85617b406f",
   "outputs": [],
   "execution_count": 4
  },
  {
   "metadata": {},
   "cell_type": "markdown",
   "source": "## 3. ViTモデルの準備",
   "id": "ff6481ce25e13787"
  },
  {
   "metadata": {
    "ExecuteTime": {
     "end_time": "2025-07-24T01:15:52.855770Z",
     "start_time": "2025-07-24T01:15:52.414555Z"
    }
   },
   "cell_type": "code",
   "source": [
    "# from transformers import AutoModelForImageClassification\n",
    "from transformers import ViTForImageClassification\n",
    "\n",
    "model = ViTForImageClassification.from_pretrained(\n",
    "    \"google/vit-base-patch16-224-in21k\",\n",
    "    num_labels=5,\n",
    "    id2label=id2label,\n",
    "    label2id=label2id\n",
    ")"
   ],
   "id": "37924507806a4d57",
   "outputs": [
    {
     "name": "stderr",
     "output_type": "stream",
     "text": [
      "Some weights of ViTForImageClassification were not initialized from the model checkpoint at google/vit-base-patch16-224-in21k and are newly initialized: ['classifier.bias', 'classifier.weight']\n",
      "You should probably TRAIN this model on a down-stream task to be able to use it for predictions and inference.\n"
     ]
    }
   ],
   "execution_count": 5
  },
  {
   "metadata": {},
   "cell_type": "markdown",
   "source": "## 4. `Trainer` を使って学習",
   "id": "9923a9de9fcc34d3"
  },
  {
   "metadata": {
    "ExecuteTime": {
     "end_time": "2025-07-24T01:39:48.456575Z",
     "start_time": "2025-07-24T01:39:47.289760Z"
    }
   },
   "cell_type": "code",
   "source": [
    "from transformers import TrainingArguments, Trainer\n",
    "import numpy as np\n",
    "import evaluate\n",
    "\n",
    "accuracy = evaluate.load(\"accuracy\")\n",
    "\n",
    "def compute_metrics(eval_pred):\n",
    "    logits, labels = eval_pred\n",
    "    preds = np.argmax(logits, axis=-1)\n",
    "    return accuracy.compute(predictions=preds, references=labels)\n",
    "\n",
    "training_args = TrainingArguments(\n",
    "    output_dir=\"./vit-gpcr\",\n",
    "    per_device_train_batch_size=64,\n",
    "    eval_strategy=\"epoch\",\n",
    "    save_strategy=\"epoch\",\n",
    "    num_train_epochs=20,\n",
    "    logging_dir=\"./logs\",\n",
    "    report_to=\"none\"\n",
    ")"
   ],
   "id": "5dc3bdc2aeae531c",
   "outputs": [],
   "execution_count": 13
  },
  {
   "metadata": {
    "ExecuteTime": {
     "end_time": "2025-07-24T07:19:16.215929Z",
     "start_time": "2025-07-24T01:39:50.111557Z"
    }
   },
   "cell_type": "code",
   "source": [
    "from torch.utils.data import random_split\n",
    "\n",
    "dataset = GPCRImageDataset(\"gpcr_labels.csv\", \"./graphs\", transform=transform)\n",
    "train_size = int(0.8 * len(dataset))\n",
    "val_size = len(dataset) - train_size\n",
    "train_ds, eval_ds = random_split(dataset, [train_size, val_size])\n",
    "\n",
    "trainer = Trainer(\n",
    "    model=model,\n",
    "    args=training_args,\n",
    "    train_dataset=train_ds,\n",
    "    eval_dataset=eval_ds,\n",
    "    tokenizer=processor,\n",
    "    compute_metrics=compute_metrics\n",
    ")\n",
    "\n",
    "trainer.train()  # 学習"
   ],
   "id": "1bd32366ee342912",
   "outputs": [
    {
     "name": "stderr",
     "output_type": "stream",
     "text": [
      "C:\\Users\\ArchWizard7\\AppData\\Local\\Temp\\ipykernel_37688\\1133778327.py:8: FutureWarning: `tokenizer` is deprecated and will be removed in version 5.0.0 for `Trainer.__init__`. Use `processing_class` instead.\n",
      "  trainer = Trainer(\n"
     ]
    },
    {
     "data": {
      "text/plain": [
       "<IPython.core.display.HTML object>"
      ],
      "text/html": [
       "\n",
       "    <div>\n",
       "      \n",
       "      <progress value='1940' max='1940' style='width:300px; height:20px; vertical-align: middle;'></progress>\n",
       "      [1940/1940 5:39:22, Epoch 20/20]\n",
       "    </div>\n",
       "    <table border=\"1\" class=\"dataframe\">\n",
       "  <thead>\n",
       " <tr style=\"text-align: left;\">\n",
       "      <th>Epoch</th>\n",
       "      <th>Training Loss</th>\n",
       "      <th>Validation Loss</th>\n",
       "      <th>Accuracy</th>\n",
       "    </tr>\n",
       "  </thead>\n",
       "  <tbody>\n",
       "    <tr>\n",
       "      <td>1</td>\n",
       "      <td>No log</td>\n",
       "      <td>0.045695</td>\n",
       "      <td>0.988990</td>\n",
       "    </tr>\n",
       "    <tr>\n",
       "      <td>2</td>\n",
       "      <td>No log</td>\n",
       "      <td>0.043663</td>\n",
       "      <td>0.987047</td>\n",
       "    </tr>\n",
       "    <tr>\n",
       "      <td>3</td>\n",
       "      <td>No log</td>\n",
       "      <td>0.055463</td>\n",
       "      <td>0.986399</td>\n",
       "    </tr>\n",
       "    <tr>\n",
       "      <td>4</td>\n",
       "      <td>No log</td>\n",
       "      <td>0.041327</td>\n",
       "      <td>0.990285</td>\n",
       "    </tr>\n",
       "    <tr>\n",
       "      <td>5</td>\n",
       "      <td>No log</td>\n",
       "      <td>0.046440</td>\n",
       "      <td>0.989637</td>\n",
       "    </tr>\n",
       "    <tr>\n",
       "      <td>6</td>\n",
       "      <td>0.032600</td>\n",
       "      <td>0.082145</td>\n",
       "      <td>0.980570</td>\n",
       "    </tr>\n",
       "    <tr>\n",
       "      <td>7</td>\n",
       "      <td>0.032600</td>\n",
       "      <td>0.054933</td>\n",
       "      <td>0.988342</td>\n",
       "    </tr>\n",
       "    <tr>\n",
       "      <td>8</td>\n",
       "      <td>0.032600</td>\n",
       "      <td>0.053973</td>\n",
       "      <td>0.985751</td>\n",
       "    </tr>\n",
       "    <tr>\n",
       "      <td>9</td>\n",
       "      <td>0.032600</td>\n",
       "      <td>0.043728</td>\n",
       "      <td>0.990285</td>\n",
       "    </tr>\n",
       "    <tr>\n",
       "      <td>10</td>\n",
       "      <td>0.032600</td>\n",
       "      <td>0.049267</td>\n",
       "      <td>0.989637</td>\n",
       "    </tr>\n",
       "    <tr>\n",
       "      <td>11</td>\n",
       "      <td>0.012600</td>\n",
       "      <td>0.052252</td>\n",
       "      <td>0.988990</td>\n",
       "    </tr>\n",
       "    <tr>\n",
       "      <td>12</td>\n",
       "      <td>0.012600</td>\n",
       "      <td>0.050002</td>\n",
       "      <td>0.987694</td>\n",
       "    </tr>\n",
       "    <tr>\n",
       "      <td>13</td>\n",
       "      <td>0.012600</td>\n",
       "      <td>0.049697</td>\n",
       "      <td>0.989637</td>\n",
       "    </tr>\n",
       "    <tr>\n",
       "      <td>14</td>\n",
       "      <td>0.012600</td>\n",
       "      <td>0.052399</td>\n",
       "      <td>0.990933</td>\n",
       "    </tr>\n",
       "    <tr>\n",
       "      <td>15</td>\n",
       "      <td>0.012600</td>\n",
       "      <td>0.051609</td>\n",
       "      <td>0.990933</td>\n",
       "    </tr>\n",
       "    <tr>\n",
       "      <td>16</td>\n",
       "      <td>0.010300</td>\n",
       "      <td>0.051584</td>\n",
       "      <td>0.989637</td>\n",
       "    </tr>\n",
       "    <tr>\n",
       "      <td>17</td>\n",
       "      <td>0.010300</td>\n",
       "      <td>0.050847</td>\n",
       "      <td>0.988342</td>\n",
       "    </tr>\n",
       "    <tr>\n",
       "      <td>18</td>\n",
       "      <td>0.010300</td>\n",
       "      <td>0.051124</td>\n",
       "      <td>0.988990</td>\n",
       "    </tr>\n",
       "    <tr>\n",
       "      <td>19</td>\n",
       "      <td>0.010300</td>\n",
       "      <td>0.051777</td>\n",
       "      <td>0.989637</td>\n",
       "    </tr>\n",
       "    <tr>\n",
       "      <td>20</td>\n",
       "      <td>0.010300</td>\n",
       "      <td>0.051761</td>\n",
       "      <td>0.989637</td>\n",
       "    </tr>\n",
       "  </tbody>\n",
       "</table><p>"
      ]
     },
     "metadata": {},
     "output_type": "display_data"
    },
    {
     "data": {
      "text/plain": [
       "TrainOutput(global_step=1940, training_loss=0.016316788466935305, metrics={'train_runtime': 20365.6042, 'train_samples_per_second': 6.061, 'train_steps_per_second': 0.095, 'total_flos': 9.565868398667858e+18, 'train_loss': 0.016316788466935305, 'epoch': 20.0})"
      ]
     },
     "execution_count": 14,
     "metadata": {},
     "output_type": "execute_result"
    }
   ],
   "execution_count": 14
  },
  {
   "metadata": {},
   "cell_type": "markdown",
   "source": "## 5. ログを残す",
   "id": "b4843fe09e50807b"
  },
  {
   "metadata": {
    "ExecuteTime": {
     "end_time": "2025-07-24T07:21:33.692191Z",
     "start_time": "2025-07-24T07:21:33.687809Z"
    }
   },
   "cell_type": "code",
   "source": [
    "for log in trainer.state.log_history:\n",
    "    print(log)"
   ],
   "id": "c7375968246e0d57",
   "outputs": [
    {
     "name": "stdout",
     "output_type": "stream",
     "text": [
      "{'eval_loss': 0.045695431530475616, 'eval_accuracy': 0.9889896373056994, 'eval_runtime': 48.3552, 'eval_samples_per_second': 31.93, 'eval_steps_per_second': 3.991, 'epoch': 1.0, 'step': 97}\n",
      "{'eval_loss': 0.04366319254040718, 'eval_accuracy': 0.9870466321243523, 'eval_runtime': 48.3747, 'eval_samples_per_second': 31.918, 'eval_steps_per_second': 3.99, 'epoch': 2.0, 'step': 194}\n",
      "{'eval_loss': 0.05546291172504425, 'eval_accuracy': 0.9863989637305699, 'eval_runtime': 47.6635, 'eval_samples_per_second': 32.394, 'eval_steps_per_second': 4.049, 'epoch': 3.0, 'step': 291}\n",
      "{'eval_loss': 0.04132659360766411, 'eval_accuracy': 0.9902849740932642, 'eval_runtime': 47.3107, 'eval_samples_per_second': 32.635, 'eval_steps_per_second': 4.079, 'epoch': 4.0, 'step': 388}\n",
      "{'eval_loss': 0.04644036665558815, 'eval_accuracy': 0.9896373056994818, 'eval_runtime': 48.1165, 'eval_samples_per_second': 32.089, 'eval_steps_per_second': 4.011, 'epoch': 5.0, 'step': 485}\n",
      "{'loss': 0.0326, 'grad_norm': 0.08705567568540573, 'learning_rate': 3.713917525773196e-05, 'epoch': 5.154639175257732, 'step': 500}\n",
      "{'eval_loss': 0.0821453258395195, 'eval_accuracy': 0.9805699481865285, 'eval_runtime': 48.1083, 'eval_samples_per_second': 32.094, 'eval_steps_per_second': 4.012, 'epoch': 6.0, 'step': 582}\n",
      "{'eval_loss': 0.05493275076150894, 'eval_accuracy': 0.9883419689119171, 'eval_runtime': 47.2101, 'eval_samples_per_second': 32.705, 'eval_steps_per_second': 4.088, 'epoch': 7.0, 'step': 679}\n",
      "{'eval_loss': 0.053973399102687836, 'eval_accuracy': 0.9857512953367875, 'eval_runtime': 47.2335, 'eval_samples_per_second': 32.689, 'eval_steps_per_second': 4.086, 'epoch': 8.0, 'step': 776}\n",
      "{'eval_loss': 0.043728459626436234, 'eval_accuracy': 0.9902849740932642, 'eval_runtime': 47.3034, 'eval_samples_per_second': 32.64, 'eval_steps_per_second': 4.08, 'epoch': 9.0, 'step': 873}\n",
      "{'eval_loss': 0.04926687479019165, 'eval_accuracy': 0.9896373056994818, 'eval_runtime': 47.3398, 'eval_samples_per_second': 32.615, 'eval_steps_per_second': 4.077, 'epoch': 10.0, 'step': 970}\n",
      "{'loss': 0.0126, 'grad_norm': 0.007640562951564789, 'learning_rate': 2.425257731958763e-05, 'epoch': 10.309278350515465, 'step': 1000}\n",
      "{'eval_loss': 0.05225230008363724, 'eval_accuracy': 0.9889896373056994, 'eval_runtime': 47.2799, 'eval_samples_per_second': 32.657, 'eval_steps_per_second': 4.082, 'epoch': 11.0, 'step': 1067}\n",
      "{'eval_loss': 0.05000150948762894, 'eval_accuracy': 0.9876943005181347, 'eval_runtime': 47.6195, 'eval_samples_per_second': 32.424, 'eval_steps_per_second': 4.053, 'epoch': 12.0, 'step': 1164}\n",
      "{'eval_loss': 0.04969746991991997, 'eval_accuracy': 0.9896373056994818, 'eval_runtime': 48.0741, 'eval_samples_per_second': 32.117, 'eval_steps_per_second': 4.015, 'epoch': 13.0, 'step': 1261}\n",
      "{'eval_loss': 0.05239864066243172, 'eval_accuracy': 0.9909326424870466, 'eval_runtime': 48.3492, 'eval_samples_per_second': 31.934, 'eval_steps_per_second': 3.992, 'epoch': 14.0, 'step': 1358}\n",
      "{'eval_loss': 0.051609329879283905, 'eval_accuracy': 0.9909326424870466, 'eval_runtime': 47.7358, 'eval_samples_per_second': 32.345, 'eval_steps_per_second': 4.043, 'epoch': 15.0, 'step': 1455}\n",
      "{'loss': 0.0103, 'grad_norm': 0.06942500174045563, 'learning_rate': 1.1365979381443299e-05, 'epoch': 15.463917525773196, 'step': 1500}\n",
      "{'eval_loss': 0.051584482192993164, 'eval_accuracy': 0.9896373056994818, 'eval_runtime': 47.606, 'eval_samples_per_second': 32.433, 'eval_steps_per_second': 4.054, 'epoch': 16.0, 'step': 1552}\n",
      "{'eval_loss': 0.05084739625453949, 'eval_accuracy': 0.9883419689119171, 'eval_runtime': 81.6346, 'eval_samples_per_second': 18.914, 'eval_steps_per_second': 2.364, 'epoch': 17.0, 'step': 1649}\n",
      "{'eval_loss': 0.051123619079589844, 'eval_accuracy': 0.9889896373056994, 'eval_runtime': 94.6175, 'eval_samples_per_second': 16.318, 'eval_steps_per_second': 2.04, 'epoch': 18.0, 'step': 1746}\n",
      "{'eval_loss': 0.05177708715200424, 'eval_accuracy': 0.9896373056994818, 'eval_runtime': 90.8894, 'eval_samples_per_second': 16.988, 'eval_steps_per_second': 2.123, 'epoch': 19.0, 'step': 1843}\n",
      "{'eval_loss': 0.051760900765657425, 'eval_accuracy': 0.9896373056994818, 'eval_runtime': 69.8293, 'eval_samples_per_second': 22.111, 'eval_steps_per_second': 2.764, 'epoch': 20.0, 'step': 1940}\n",
      "{'train_runtime': 20365.6042, 'train_samples_per_second': 6.061, 'train_steps_per_second': 0.095, 'total_flos': 9.565868398667858e+18, 'train_loss': 0.016316788466935305, 'epoch': 20.0, 'step': 1940}\n"
     ]
    }
   ],
   "execution_count": 15
  },
  {
   "metadata": {},
   "cell_type": "markdown",
   "source": "## 6. 評価",
   "id": "37d7cf4089caec7d"
  },
  {
   "metadata": {},
   "cell_type": "markdown",
   "source": "### 6.1 全体評価",
   "id": "74e6027a4e422df5"
  },
  {
   "metadata": {
    "ExecuteTime": {
     "end_time": "2025-07-24T07:23:16.282982Z",
     "start_time": "2025-07-24T07:22:06.710292Z"
    }
   },
   "cell_type": "code",
   "source": [
    "metrics = trainer.evaluate()\n",
    "print(metrics)"
   ],
   "id": "d39680dc0d2c494",
   "outputs": [
    {
     "data": {
      "text/plain": [
       "<IPython.core.display.HTML object>"
      ],
      "text/html": []
     },
     "metadata": {},
     "output_type": "display_data"
    },
    {
     "name": "stdout",
     "output_type": "stream",
     "text": [
      "{'eval_loss': 0.051760900765657425, 'eval_accuracy': 0.9896373056994818, 'eval_runtime': 69.5689, 'eval_samples_per_second': 22.194, 'eval_steps_per_second': 2.774, 'epoch': 20.0}\n"
     ]
    }
   ],
   "execution_count": 16
  },
  {
   "metadata": {
    "ExecuteTime": {
     "end_time": "2025-07-24T07:34:12.961797Z",
     "start_time": "2025-07-24T07:32:03.793623Z"
    }
   },
   "cell_type": "code",
   "source": [
    "# 推論\n",
    "preds = trainer.predict(eval_ds)\n",
    "\n",
    "# 正解ラベルと予測ラベル\n",
    "y_true = preds.label_ids\n",
    "y_pred = np.argmax(preds.predictions, axis=1)"
   ],
   "id": "c60882c94fad55d1",
   "outputs": [],
   "execution_count": 17
  },
  {
   "metadata": {
    "ExecuteTime": {
     "end_time": "2025-07-24T07:36:01.991128Z",
     "start_time": "2025-07-24T07:36:00.806549Z"
    }
   },
   "cell_type": "code",
   "source": [
    "import matplotlib.pyplot as plt\n",
    "from sklearn.metrics import confusion_matrix, f1_score, ConfusionMatrixDisplay\n",
    "\n",
    "# 混同行列\n",
    "cm = confusion_matrix(y_true, y_pred)\n",
    "f1 = f1_score(y_true, y_pred, average=\"weighted\")\n",
    "\n",
    "print(\"Weighted F1 Score:\", f1)\n",
    "print(\"Confusion Matrix:\\n\", cm)\n",
    "\n",
    "# 可視化\n",
    "disp = ConfusionMatrixDisplay(confusion_matrix=cm, display_labels=list(label2id.keys()))\n",
    "disp.plot(cmap=\"Blues\")\n",
    "plt.title(\"Confusion Matrix (BIAS-PROFS GPCR dataset)\")\n",
    "plt.show()"
   ],
   "id": "516cf192a7a5c569",
   "outputs": [
    {
     "name": "stdout",
     "output_type": "stream",
     "text": [
      "Weighted F1 Score: 0.9896226554610129\n",
      "Confusion Matrix:\n",
      " [[1065    1    4    0    0]\n",
      " [   2   86    2    0    0]\n",
      " [   4    1  375    1    0]\n",
      " [   0    0    1    0    0]\n",
      " [   0    0    0    0    2]]\n"
     ]
    },
    {
     "data": {
      "text/plain": [
       "<Figure size 640x480 with 2 Axes>"
      ],
      "image/png": "[encoded data removed]"
     },
     "metadata": {},
     "output_type": "display_data"
    }
   ],
   "execution_count": 18
  },
  {
   "metadata": {},
   "cell_type": "markdown",
   "source": "### 6.2 クラスごとの評価",
   "id": "ec24f6641e0568c4"
  },
  {
   "metadata": {
    "ExecuteTime": {
     "end_time": "2025-07-24T07:39:57.747173Z",
     "start_time": "2025-07-24T07:39:57.738561Z"
    }
   },
   "cell_type": "code",
   "source": [
    "from sklearn.metrics import classification_report\n",
    "\n",
    "# ラベル名リスト\n",
    "target_names = list(label2id.keys())\n",
    "\n",
    "# 各クラスごとの評価指標を出力\n",
    "report = classification_report(y_true, y_pred, target_names=target_names, digits=4)\n",
    "print(report)"
   ],
   "id": "f2357b13f5cccc",
   "outputs": [
    {
     "name": "stdout",
     "output_type": "stream",
     "text": [
      "              precision    recall  f1-score   support\n",
      "\n",
      "           A     0.9944    0.9953    0.9949      1070\n",
      "           B     0.9773    0.9556    0.9663        90\n",
      "           C     0.9817    0.9843    0.9830       381\n",
      "           D     0.0000    0.0000    0.0000         1\n",
      "           E     1.0000    1.0000    1.0000         2\n",
      "\n",
      "    accuracy                         0.9896      1544\n",
      "   macro avg     0.7907    0.7870    0.7888      1544\n",
      "weighted avg     0.9896    0.9896    0.9896      1544\n",
      "\n"
     ]
    }
   ],
   "execution_count": 20
  }
 ],
 "metadata": {
  "kernelspec": {
   "display_name": "Python 3",
   "language": "python",
   "name": "python3"
  },
  "language_info": {
   "codemirror_mode": {
    "name": "ipython",
    "version": 2
   },
   "file_extension": ".py",
   "mimetype": "text/x-python",
   "name": "python",
   "nbconvert_exporter": "python",
   "pygments_lexer": "ipython2",
   "version": "2.7.6"
  }
 },
 "nbformat": 4,
 "nbformat_minor": 5
}
