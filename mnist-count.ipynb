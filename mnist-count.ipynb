{
 "cells": [
  {
   "metadata": {},
   "cell_type": "markdown",
   "source": "# MNIST 確認用",
   "id": "c70cd6fe678b790b"
  },
  {
   "cell_type": "code",
   "id": "initial_id",
   "metadata": {
    "collapsed": true,
    "ExecuteTime": {
     "end_time": "2025-07-20T19:18:44.041284Z",
     "start_time": "2025-07-20T19:18:24.071367Z"
    }
   },
   "source": [
    "from datasets import load_dataset\n",
    "from collections import Counter\n",
    "\n",
    "# MNISTのtrain/testデータを読み込み\n",
    "train_dataset = load_dataset(\"mnist\", split=\"train\")\n",
    "test_dataset = load_dataset(\"mnist\", split=\"test\")\n",
    "\n",
    "# ラベルをカウント\n",
    "train_counts = Counter(train_dataset[\"label\"])\n",
    "test_counts = Counter(test_dataset[\"label\"])\n",
    "\n",
    "# 表示\n",
    "print(\"🔢 MNISTラベル分布（Train）:\")\n",
    "for i in range(10):\n",
    "    print(f\"  {i}: {train_counts[i]} 枚\")\n",
    "\n",
    "print(\"\\n🔢 MNISTラベル分布（Test）:\")\n",
    "for i in range(10):\n",
    "    print(f\"  {i}: {test_counts[i]} 枚\")"
   ],
   "outputs": [
    {
     "name": "stdout",
     "output_type": "stream",
     "text": [
      "🔢 MNISTラベル分布（Train）:\n",
      "  0: 5923 枚\n",
      "  1: 6742 枚\n",
      "  2: 5958 枚\n",
      "  3: 6131 枚\n",
      "  4: 5842 枚\n",
      "  5: 5421 枚\n",
      "  6: 5918 枚\n",
      "  7: 6265 枚\n",
      "  8: 5851 枚\n",
      "  9: 5949 枚\n",
      "\n",
      "🔢 MNISTラベル分布（Test）:\n",
      "  0: 980 枚\n",
      "  1: 1135 枚\n",
      "  2: 1032 枚\n",
      "  3: 1010 枚\n",
      "  4: 982 枚\n",
      "  5: 892 枚\n",
      "  6: 958 枚\n",
      "  7: 1028 枚\n",
      "  8: 974 枚\n",
      "  9: 1009 枚\n"
     ]
    }
   ],
   "execution_count": 1
  }
 ],
 "metadata": {
  "kernelspec": {
   "display_name": "Python 3",
   "language": "python",
   "name": "python3"
  },
  "language_info": {
   "codemirror_mode": {
    "name": "ipython",
    "version": 2
   },
   "file_extension": ".py",
   "mimetype": "text/x-python",
   "name": "python",
   "nbconvert_exporter": "python",
   "pygments_lexer": "ipython2",
   "version": "2.7.6"
  }
 },
 "nbformat": 4,
 "nbformat_minor": 5
}
