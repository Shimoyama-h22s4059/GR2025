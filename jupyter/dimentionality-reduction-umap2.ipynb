{
 "cells": [
  {
   "cell_type": "markdown",
   "id": "e30bb62cb939aed5",
   "metadata": {},
   "source": [
    "# UMAPによる次元削減（50 → 2）"
   ]
  },
  {
   "cell_type": "markdown",
   "id": "f5be63940c43c218",
   "metadata": {},
   "source": [
    "## 1. ライブラリのインポート"
   ]
  },
  {
   "cell_type": "code",
   "execution_count": 1,
   "id": "initial_id",
   "metadata": {
    "ExecuteTime": {
     "end_time": "2025-10-08T08:46:16.335386Z",
     "start_time": "2025-10-08T08:46:11.148555Z"
    }
   },
   "outputs": [],
   "source": [
    "import numpy as np\n",
    "from cuml import UMAP\n",
    "import os\n",
    "from tqdm import tqdm"
   ]
  },
  {
   "cell_type": "markdown",
   "id": "45a5c5a8a8b6bb70",
   "metadata": {},
   "source": [
    "## 2. データの読み込み"
   ]
  },
  {
   "cell_type": "code",
   "execution_count": 2,
   "id": "ba3845cfbf6012d6",
   "metadata": {
    "ExecuteTime": {
     "end_time": "2025-10-08T07:09:32.112052Z",
     "start_time": "2025-10-08T07:09:32.101283Z"
    }
   },
   "outputs": [],
   "source": [
    "model_name = \"esm1b\"\n",
    "\n",
    "pca_dir = f\"../data/embedding-vectors/{model_name}/pca50\"  # PCA50データの読み込み\n",
    "\n",
    "files = [os.path.join(pca_dir, f) for f in os.listdir(pca_dir) if f.endswith(\".npy\")]  # .npy ファイルを全て取得\n",
    "files.sort()  # 一応ソート"
   ]
  },
  {
   "cell_type": "markdown",
   "id": "e26e8586bbad70d3",
   "metadata": {},
   "source": [
    "### 2.1 データを（ランダムに）抽出（件数を選んだりもできる）"
   ]
  },
  {
   "cell_type": "code",
   "execution_count": 25,
   "id": "a16d44cf083f78ff",
   "metadata": {
    "ExecuteTime": {
     "end_time": "2025-10-08T05:47:13.190885Z",
     "start_time": "2025-10-08T05:46:59.399928Z"
    }
   },
   "outputs": [
    {
     "name": "stderr",
     "output_type": "stream",
     "text": [
      "100%|█████████████████████████████████████████████████████████████████████████████| 7716/7716 [00:01<00:00, 5216.62it/s]\n"
     ]
    }
   ],
   "source": [
    "sample = []\n",
    "\n",
    "for filename in tqdm(files):\n",
    "    arr = np.load(filename, mmap_mode=\"r\")\n",
    "    m = arr.shape[0]\n",
    "\n",
    "    # ランダムに 100件 抽出するやつ\n",
    "    # k = min(100, m)\n",
    "    k = m\n",
    "    idxs = np.random.choice(m, size=k, replace=False)\n",
    "\n",
    "    sample.append(arr[idxs])"
   ]
  },
  {
   "cell_type": "markdown",
   "id": "829f85d7c39235e6",
   "metadata": {},
   "source": [
    "### 2.2 UMAP で次元削減"
   ]
  },
  {
   "cell_type": "code",
   "execution_count": 29,
   "id": "9f4fdd1388cdbeba",
   "metadata": {
    "ExecuteTime": {
     "end_time": "2025-10-08T07:09:25.456714Z",
     "start_time": "2025-10-08T05:47:21.848414Z"
    }
   },
   "outputs": [
    {
     "name": "stdout",
     "output_type": "stream",
     "text": [
      "[2025-10-09 13:01:53.797] [CUML] [info] build_algo set to brute_force_knn because random_state is given\n"
     ]
    }
   ],
   "source": [
    "sample = np.vstack(sample)\n",
    "reducer = UMAP(n_components=2, random_state=42)\n",
    "embedding = reducer.fit_transform(sample)"
   ]
  },
  {
   "cell_type": "markdown",
   "id": "82406f67b4cde33",
   "metadata": {},
   "source": [
    "## 3. 各 seq ファイルごとに transform して保存"
   ]
  },
  {
   "cell_type": "code",
   "execution_count": 30,
   "id": "5ec6a7d26b690c23",
   "metadata": {},
   "outputs": [
    {
     "name": "stderr",
     "output_type": "stream",
     "text": [
      "100%|███████████████████████████████████████████████████████████████████████████████| 7716/7716 [14:49<00:00,  8.67it/s]\n"
     ]
    }
   ],
   "source": [
    "output_dir = f\"../data/embedding-vectors/{model_name}/umap2\"\n",
    "os.makedirs(output_dir, exist_ok=True)\n",
    "\n",
    "for filename in tqdm(files):\n",
    "    arr50 = np.load(filename, mmap_mode=\"r\")\n",
    "    coords2 = reducer.transform(arr50)\n",
    "\n",
    "    save_filename = os.path.basename(filename).replace(\"pca50\", \"umap2\")\n",
    "    np.save(os.path.join(output_dir, save_filename), coords2)"
   ]
  }
 ],
 "metadata": {
  "kernelspec": {
   "display_name": "Python 3 (ipykernel)",
   "language": "python",
   "name": "python3"
  },
  "language_info": {
   "codemirror_mode": {
    "name": "ipython",
    "version": 3
   },
   "file_extension": ".py",
   "mimetype": "text/x-python",
   "name": "python",
   "nbconvert_exporter": "python",
   "pygments_lexer": "ipython3",
   "version": "3.13.7"
  }
 },
 "nbformat": 4,
 "nbformat_minor": 5
}
