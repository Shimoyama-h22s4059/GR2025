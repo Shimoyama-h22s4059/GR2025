{
 "cells": [
  {
   "cell_type": "markdown",
   "id": "a1a27d6e-bc7b-4b9c-b969-d55caeeb25a4",
   "metadata": {},
   "source": [
    "# 作成した2次元埋め込みベクトルを偏角10～170°にスケーリングする"
   ]
  },
  {
   "cell_type": "markdown",
   "id": "6ba21efb-e27e-49b6-9e71-9743b439d648",
   "metadata": {},
   "source": [
    "## 1. ライブラリのインポート"
   ]
  },
  {
   "cell_type": "code",
   "execution_count": 35,
   "id": "221c48c4-9d42-4809-a217-0368a219a9ad",
   "metadata": {},
   "outputs": [],
   "source": [
    "import numpy as np\n",
    "import os\n",
    "from tqdm import tqdm"
   ]
  },
  {
   "cell_type": "code",
   "execution_count": 36,
   "id": "2f7c27c2-f326-4626-9e1f-0d05c759a495",
   "metadata": {},
   "outputs": [],
   "source": [
    "model_name = \"esm1b\"  # モデル名\n",
    "method_name = \"umap2\"  # 使った次元削減の手法\n",
    "\n",
    "vectors_dir = f\"../data/embedding-vectors/{model_name}/{method_name}\"\n",
    "\n",
    "files = [os.path.join(vectors_dir, f) for f in os.listdir(vectors_dir) if f.endswith(\".npy\")]  # .npy ファイルを全て取得\n",
    "files.sort()  # 一応ソート"
   ]
  },
  {
   "cell_type": "code",
   "execution_count": 37,
   "id": "bdee7513-f434-4082-bc8d-5eeb44b0bd86",
   "metadata": {},
   "outputs": [],
   "source": [
    "def map_range(x, a, b, c, d):\n",
    "    \"\"\"\n",
    "    変数 $x$ を 範囲 [$a$, $b$] から [$c$, $d$] にリマップします\n",
    "    :param x: 変換する対象\n",
    "    :param a: 変換前の下端\n",
    "    :param b: 変換前の上端\n",
    "    :param c: 変換後の下端\n",
    "    :param d: 変換後の上端\n",
    "    :return: リマップした値\n",
    "    \"\"\"\n",
    "    return (x - a) / (b - a) * (d - c) + c"
   ]
  },
  {
   "cell_type": "markdown",
   "id": "fd0db232-2408-4111-b2bb-a764cf550199",
   "metadata": {},
   "source": [
    "## 2. データを保存"
   ]
  },
  {
   "cell_type": "code",
   "execution_count": 38,
   "id": "46421e08-4009-4bdf-bda3-3c9b483d8419",
   "metadata": {},
   "outputs": [],
   "source": [
    "output_dir = f\"../data/embedding-vectors/{model_name}/{method_name}_scaled_10_170\"\n",
    "os.makedirs(output_dir, exist_ok=True)"
   ]
  },
  {
   "cell_type": "code",
   "execution_count": 39,
   "id": "aca9af4e-d0d1-4d0e-8c58-2e4068119dac",
   "metadata": {},
   "outputs": [
    {
     "name": "stderr",
     "output_type": "stream",
     "text": [
      "100%|██████████████████████████████████████████████████████████████████████████████| 7716/7716 [00:40<00:00, 191.74it/s]\n"
     ]
    }
   ],
   "source": [
    "# import matplotlib.pyplot as plt\n",
    "\n",
    "for filename in tqdm(files):\n",
    "    old_vec = np.load(filename, mmap_mode=\"r\")\n",
    "    new_vec = np.zeros(old_vec.shape)\n",
    "    h = old_vec.shape[0]\n",
    "\n",
    "    for i in range(h):\n",
    "        x = old_vec[i][0]\n",
    "        y = old_vec[i][1]\n",
    "        z = x + 1j * y\n",
    "        r = np.abs(z)\n",
    "        theta = np.angle(z, deg=True)\n",
    "        \n",
    "        new_theta = np.radians(map_range(theta, -180, 180, 10, 170))\n",
    "        new_x = r * np.cos(new_theta)\n",
    "        new_y = r * np.sin(new_theta)\n",
    "        new_vec[i] = [new_x, new_y]\n",
    "\n",
    "    save_filename = os.path.basename(filename).replace(method_name, f\"{method_name}_scaled_10_170\")\n",
    "    np.save(os.path.join(output_dir, save_filename), new_vec)\n",
    "\n",
    "    # --- プロット部 ---\n",
    "    # fig, axs = plt.subplots(1, 2, figsize=(12, 6))\n",
    "\n",
    "    # old_vec プロット\n",
    "    # axs[0].scatter(old_vec[:, 0], old_vec[:, 1], c='blue', s=1)\n",
    "    # axs[0].set_title('Old Vectors')\n",
    "    # axs[0].axis('equal')\n",
    "\n",
    "    # new_vec プロット\n",
    "    # axs[1].scatter(new_vec[:, 0], new_vec[:, 1], c='red', s=1)\n",
    "    # axs[1].set_title('New Vectors')\n",
    "     #axs[1].axis('equal')\n",
    "\n",
    "    # plt.tight_layout()\n",
    "    # plt.show()"
   ]
  }
 ],
 "metadata": {
  "kernelspec": {
   "display_name": "Python 3 (ipykernel)",
   "language": "python",
   "name": "python3"
  },
  "language_info": {
   "codemirror_mode": {
    "name": "ipython",
    "version": 3
   },
   "file_extension": ".py",
   "mimetype": "text/x-python",
   "name": "python",
   "nbconvert_exporter": "python",
   "pygments_lexer": "ipython3",
   "version": "3.13.7"
  }
 },
 "nbformat": 4,
 "nbformat_minor": 5
}
