{
 "cells": [
  {
   "cell_type": "markdown",
   "id": "40b27a545df400e5",
   "metadata": {},
   "source": [
    "# PCAによる次元削減（1280 → 50）"
   ]
  },
  {
   "cell_type": "markdown",
   "id": "5ca86a3728acdab4",
   "metadata": {},
   "source": [
    "## 1. ライブラリのインポート"
   ]
  },
  {
   "cell_type": "code",
   "execution_count": 2,
   "id": "1192585818799f6a",
   "metadata": {
    "ExecuteTime": {
     "end_time": "2025-10-08T03:57:06.193643Z",
     "start_time": "2025-10-08T03:57:05.356266Z"
    }
   },
   "outputs": [],
   "source": [
    "import os\n",
    "import numpy as np\n",
    "from sklearn.preprocessing import StandardScaler\n",
    "from sklearn.decomposition import IncrementalPCA\n",
    "from tqdm import tqdm"
   ]
  },
  {
   "cell_type": "markdown",
   "id": "8909746bee64905a",
   "metadata": {},
   "source": [
    "## 2. データの読み込み"
   ]
  },
  {
   "cell_type": "code",
   "execution_count": 3,
   "id": "199b114ad4cfa128",
   "metadata": {
    "ExecuteTime": {
     "end_time": "2025-10-08T03:59:03.220595Z",
     "start_time": "2025-10-08T03:59:03.218774Z"
    }
   },
   "outputs": [],
   "source": [
    "model_name = \"esm1b\"\n",
    "\n",
    "data_dir = f\"../data/embedding-vectors/{model_name}/base\"  # 1280次元のデータの読み込み\n",
    "pca_components = 50  # 50次元にまで落とす\n",
    "batch_rows = 50000  # partial_fit に投入する 行数 の目安（調整可）"
   ]
  },
  {
   "cell_type": "markdown",
   "id": "7414be1901819d17",
   "metadata": {},
   "source": [
    "### 2.1 ファイル一覧の取得"
   ]
  },
  {
   "cell_type": "code",
   "execution_count": 4,
   "id": "298c8607e786750a",
   "metadata": {
    "ExecuteTime": {
     "end_time": "2025-10-08T04:00:06.053993Z",
     "start_time": "2025-10-08T04:00:06.045736Z"
    }
   },
   "outputs": [],
   "source": [
    "files = [os.path.join(data_dir, f) for f in os.listdir(data_dir) if f.endswith(\".npy\")]  # .npy ファイルを全て取得\n",
    "files.sort()  # 一応ソート"
   ]
  },
  {
   "cell_type": "markdown",
   "id": "ecd9a8bfe30d62db",
   "metadata": {},
   "source": [
    "## 3. StandardScaler を バッチで学習（float32）"
   ]
  },
  {
   "cell_type": "code",
   "execution_count": 6,
   "id": "e4131d631048f29e",
   "metadata": {
    "ExecuteTime": {
     "end_time": "2025-10-08T04:07:30.776669Z",
     "start_time": "2025-10-08T04:04:07.065388Z"
    }
   },
   "outputs": [
    {
     "name": "stderr",
     "output_type": "stream",
     "text": [
      "100%|██████████████████████████████████████████████████████████████████████████████| 7716/7716 [00:22<00:00, 347.48it/s]\n"
     ]
    }
   ],
   "source": [
    "scaler = StandardScaler()\n",
    "\n",
    "for filename in tqdm(files):\n",
    "    arr = np.load(filename, mmap_mode=\"r\")  # mmap_mode により 一気に読み込むことを防止できる\n",
    "\n",
    "    # arr shape: (L, 1280)\n",
    "    n = arr.shape[0]  # 配列長を取得\n",
    "    start = 0\n",
    "\n",
    "    while start < n:\n",
    "        end = min(n, start + batch_rows)\n",
    "        chunk = arr[start:end].astype(np.float32)\n",
    "        scaler.partial_fit(chunk)\n",
    "        start = end"
   ]
  },
  {
   "cell_type": "markdown",
   "id": "84fac3cca7f6c201",
   "metadata": {},
   "source": [
    "## 4. IncrementalPCA をバッチで学習"
   ]
  },
  {
   "cell_type": "code",
   "execution_count": 7,
   "id": "d18bcb05f36f5b8b",
   "metadata": {
    "ExecuteTime": {
     "end_time": "2025-10-08T04:47:44.225432Z",
     "start_time": "2025-10-08T04:11:00.229770Z"
    }
   },
   "outputs": [
    {
     "name": "stderr",
     "output_type": "stream",
     "text": [
      "100%|█████████████████████████████████████████████████████████████████████████████| 7716/7716 [2:44:26<00:00,  1.28s/it]\n"
     ]
    }
   ],
   "source": [
    "ipca = IncrementalPCA(n_components=pca_components)\n",
    "\n",
    "for filename in tqdm(files):\n",
    "    arr = np.load(filename, mmap_mode=\"r\")  # 上と同様に\n",
    "    n = arr.shape[0]\n",
    "    start = 0\n",
    "\n",
    "    while start < n:\n",
    "        end = min(n, start + batch_rows)\n",
    "        chunk = arr[start:end].astype(np.float32)\n",
    "        chunk = (chunk - scaler.mean_) / np.sqrt(scaler.var_ + 1e-8)\n",
    "        ipca.partial_fit(chunk)\n",
    "        start = end"
   ]
  },
  {
   "cell_type": "markdown",
   "id": "54981327afae06",
   "metadata": {},
   "source": [
    "## 5. 各配列を変換して保存（PCA済みを保管）"
   ]
  },
  {
   "cell_type": "code",
   "execution_count": 8,
   "id": "f8350ef0dcff0cef",
   "metadata": {
    "ExecuteTime": {
     "end_time": "2025-10-08T04:52:43.718688Z",
     "start_time": "2025-10-08T04:48:40.428857Z"
    }
   },
   "outputs": [
    {
     "name": "stderr",
     "output_type": "stream",
     "text": [
      "100%|███████████████████████████████████████████████████████████████████████████████| 7716/7716 [01:29<00:00, 86.56it/s]\n"
     ]
    }
   ],
   "source": [
    "output_dir = f\"../data/embedding-vectors/{model_name}/pca50\"\n",
    "os.makedirs(output_dir, exist_ok=True)\n",
    "\n",
    "for filename in tqdm(files):\n",
    "    arr = np.load(filename, mmap_mode=\"r\").astype(np.float32)\n",
    "\n",
    "    # 逐次的に transform\n",
    "    n = arr.shape[0]\n",
    "    out = np.zeros((n, pca_components), dtype=np.float32)\n",
    "    start = 0\n",
    "    idx = 0\n",
    "\n",
    "    while start < n:\n",
    "        end = min(n, start + batch_rows)\n",
    "        chunk = arr[start:end]\n",
    "        chunk = (chunk - scaler.mean_) / np.sqrt(scaler.var_ + 1e-8)\n",
    "        out[idx: idx + (end - start), :] = ipca.transform(chunk)\n",
    "        start = end\n",
    "        idx += (end - start)\n",
    "\n",
    "    base = os.path.basename(filename).replace(\".npy\", \"\")\n",
    "    np.save(os.path.join(output_dir, base + \"_pca50.npy\"), out)"
   ]
  }
 ],
 "metadata": {
  "kernelspec": {
   "display_name": "Python 3 (ipykernel)",
   "language": "python",
   "name": "python3"
  },
  "language_info": {
   "codemirror_mode": {
    "name": "ipython",
    "version": 3
   },
   "file_extension": ".py",
   "mimetype": "text/x-python",
   "name": "python",
   "nbconvert_exporter": "python",
   "pygments_lexer": "ipython3",
   "version": "3.13.7"
  }
 },
 "nbformat": 4,
 "nbformat_minor": 5
}
