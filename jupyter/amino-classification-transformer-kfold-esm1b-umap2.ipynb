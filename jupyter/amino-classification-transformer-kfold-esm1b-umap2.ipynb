{
 "cells": [
  {
   "cell_type": "markdown",
   "id": "77ee9b7a25aaeddf",
   "metadata": {},
   "source": [
    "# アミノ酸配列のグラフ表示画像のTransformerによるタンパク質ファミリー分類（5分割交差検証）\n",
    "- 埋め込みベクトルに使用したモデル：`esm-1b`\n",
    "- 埋め込みベクトル作成手法：`UMAP`"
   ]
  },
  {
   "cell_type": "markdown",
   "id": "70840541844d7ece",
   "metadata": {},
   "source": [
    "## 1. 画像とラベルの対応を取る `Dataset` を作成"
   ]
  },
  {
   "cell_type": "code",
   "execution_count": 1,
   "id": "initial_id",
   "metadata": {
    "ExecuteTime": {
     "end_time": "2025-07-31T11:06:38.725102Z",
     "start_time": "2025-07-31T11:06:32.276825Z"
    }
   },
   "outputs": [],
   "source": [
    "from torch.utils.data import Dataset\n",
    "from PIL import Image\n",
    "\n",
    "import os\n",
    "\n",
    "label2id = {\"A\": 0, \"B\": 1, \"C\": 2, \"D\": 3, \"E\": 4}\n",
    "id2label = {v: k for k, v in label2id.items()}\n",
    "\n",
    "class GPCRImageDataset(Dataset):\n",
    "    def __init__(self, csv_path, img_dir, transform=None):\n",
    "        self.data = pd.read_csv(csv_path, header=None, names=[\"num\", \"label\", \"accession\"])\n",
    "        self.img_dir = img_dir\n",
    "        self.transform = transform\n",
    "\n",
    "    def __len__(self):\n",
    "        return len(self.data)\n",
    "\n",
    "    def __getitem__(self, idx):\n",
    "        row = self.data.iloc[idx]\n",
    "        img_path = os.path.join(self.img_dir, f\"{row['num']}.png\")\n",
    "        image = Image.open(img_path).convert(\"RGB\")\n",
    "        label = label2id[row[\"label\"]]\n",
    "\n",
    "        if self.transform:\n",
    "            image = self.transform(image)\n",
    "\n",
    "        return {\n",
    "            \"pixel_values\": image,\n",
    "            \"label\": label\n",
    "        }"
   ]
  },
  {
   "cell_type": "markdown",
   "id": "41059fcff6fe9730",
   "metadata": {},
   "source": [
    "## 2. 画像前処理（ViT用）"
   ]
  },
  {
   "cell_type": "code",
   "execution_count": 2,
   "id": "9e201e85617b406f",
   "metadata": {
    "ExecuteTime": {
     "end_time": "2025-07-31T11:06:54.208314Z",
     "start_time": "2025-07-31T11:06:46.237774Z"
    }
   },
   "outputs": [],
   "source": [
    "from torchvision.transforms import Compose, Resize, ToTensor, Normalize\n",
    "# from transformers import AutoImageProcessor\n",
    "from transformers import ViTImageProcessorFast, ViTForImageClassification\n",
    "\n",
    "processor = ViTImageProcessorFast.from_pretrained(\"google/vit-base-patch16-224-in21k\")\n",
    "transform = Compose([\n",
    "    Resize((224, 224)),\n",
    "    ToTensor(),\n",
    "    Normalize(mean=processor.image_mean, std=processor.image_std)\n",
    "])"
   ]
  },
  {
   "cell_type": "markdown",
   "id": "9923a9de9fcc34d3",
   "metadata": {},
   "source": [
    "## 3. `Trainer` を使って学習"
   ]
  },
  {
   "cell_type": "code",
   "execution_count": 3,
   "id": "5dc3bdc2aeae531c",
   "metadata": {
    "ExecuteTime": {
     "end_time": "2025-07-31T14:39:17.454557Z",
     "start_time": "2025-07-31T13:08:56.528790Z"
    }
   },
   "outputs": [
    {
     "name": "stdout",
     "output_type": "stream",
     "text": [
      "\u001b[34m[Fold 1 / 5]\u001b[0m\n"
     ]
    },
    {
     "name": "stderr",
     "output_type": "stream",
     "text": [
      "Some weights of ViTForImageClassification were not initialized from the model checkpoint at google/vit-base-patch16-224-in21k and are newly initialized: ['classifier.bias', 'classifier.weight']\n",
      "You should probably TRAIN this model on a down-stream task to be able to use it for predictions and inference.\n",
      "/tmp/ipykernel_123169/2784381650.py:54: FutureWarning: `tokenizer` is deprecated and will be removed in version 5.0.0 for `Trainer.__init__`. Use `processing_class` instead.\n",
      "  trainer = Trainer(\n"
     ]
    },
    {
     "data": {
      "text/html": [
       "\n",
       "    <div>\n",
       "      \n",
       "      <progress value='1930' max='1930' style='width:300px; height:20px; vertical-align: middle;'></progress>\n",
       "      [1930/1930 20:41, Epoch 10/10]\n",
       "    </div>\n",
       "    <table border=\"1\" class=\"dataframe\">\n",
       "  <thead>\n",
       " <tr style=\"text-align: left;\">\n",
       "      <th>Epoch</th>\n",
       "      <th>Training Loss</th>\n",
       "      <th>Validation Loss</th>\n",
       "      <th>Accuracy</th>\n",
       "      <th>F1</th>\n",
       "    </tr>\n",
       "  </thead>\n",
       "  <tbody>\n",
       "    <tr>\n",
       "      <td>1</td>\n",
       "      <td>No log</td>\n",
       "      <td>0.722809</td>\n",
       "      <td>0.710492</td>\n",
       "      <td>0.598254</td>\n",
       "    </tr>\n",
       "    <tr>\n",
       "      <td>2</td>\n",
       "      <td>No log</td>\n",
       "      <td>0.647974</td>\n",
       "      <td>0.751295</td>\n",
       "      <td>0.721925</td>\n",
       "    </tr>\n",
       "    <tr>\n",
       "      <td>3</td>\n",
       "      <td>0.710600</td>\n",
       "      <td>0.703527</td>\n",
       "      <td>0.716969</td>\n",
       "      <td>0.708769</td>\n",
       "    </tr>\n",
       "    <tr>\n",
       "      <td>4</td>\n",
       "      <td>0.710600</td>\n",
       "      <td>0.743497</td>\n",
       "      <td>0.767487</td>\n",
       "      <td>0.745470</td>\n",
       "    </tr>\n",
       "    <tr>\n",
       "      <td>5</td>\n",
       "      <td>0.710600</td>\n",
       "      <td>0.731419</td>\n",
       "      <td>0.755829</td>\n",
       "      <td>0.750897</td>\n",
       "    </tr>\n",
       "    <tr>\n",
       "      <td>6</td>\n",
       "      <td>0.400500</td>\n",
       "      <td>0.793925</td>\n",
       "      <td>0.764896</td>\n",
       "      <td>0.753073</td>\n",
       "    </tr>\n",
       "    <tr>\n",
       "      <td>7</td>\n",
       "      <td>0.400500</td>\n",
       "      <td>0.845646</td>\n",
       "      <td>0.738990</td>\n",
       "      <td>0.740812</td>\n",
       "    </tr>\n",
       "    <tr>\n",
       "      <td>8</td>\n",
       "      <td>0.225600</td>\n",
       "      <td>0.859321</td>\n",
       "      <td>0.757124</td>\n",
       "      <td>0.753454</td>\n",
       "    </tr>\n",
       "    <tr>\n",
       "      <td>9</td>\n",
       "      <td>0.225600</td>\n",
       "      <td>0.877607</td>\n",
       "      <td>0.756477</td>\n",
       "      <td>0.751580</td>\n",
       "    </tr>\n",
       "    <tr>\n",
       "      <td>10</td>\n",
       "      <td>0.225600</td>\n",
       "      <td>0.909232</td>\n",
       "      <td>0.757124</td>\n",
       "      <td>0.753041</td>\n",
       "    </tr>\n",
       "  </tbody>\n",
       "</table><p>"
      ],
      "text/plain": [
       "<IPython.core.display.HTML object>"
      ]
     },
     "metadata": {},
     "output_type": "display_data"
    },
    {
     "data": {
      "text/html": [],
      "text/plain": [
       "<IPython.core.display.HTML object>"
      ]
     },
     "metadata": {},
     "output_type": "display_data"
    },
    {
     "name": "stdout",
     "output_type": "stream",
     "text": [
      "Fold 1 F1 Score: \u001b[32m0.7530\u001b[0m\n",
      "Confusion Matrix:\n",
      " [[933  42 111   0   0]\n",
      " [ 49  17  10   0   0]\n",
      " [143  15 219   0   0]\n",
      " [  1   0   0   0   0]\n",
      " [  1   2   1   0   0]]\n",
      "              precision    recall  f1-score      support\n",
      "A              0.827862  0.859116  0.843199  1086.000000\n",
      "B              0.223684  0.223684  0.223684    76.000000\n",
      "C              0.642229  0.580902  0.610028   377.000000\n",
      "D              0.000000  0.000000  0.000000     1.000000\n",
      "E              0.000000  0.000000  0.000000     4.000000\n",
      "accuracy       0.757124  0.757124  0.757124     0.757124\n",
      "macro avg      0.338755  0.332740  0.335382  1544.000000\n",
      "weighted avg   0.750115  0.757124  0.753041  1544.000000\n"
     ]
    },
    {
     "name": "stderr",
     "output_type": "stream",
     "text": [
      "/media/ssd/GR2025/.venv/lib/python3.13/site-packages/sklearn/metrics/_classification.py:1731: UndefinedMetricWarning: Precision is ill-defined and being set to 0.0 in labels with no predicted samples. Use `zero_division` parameter to control this behavior.\n",
      "  _warn_prf(average, modifier, f\"{metric.capitalize()} is\", result.shape[0])\n",
      "/media/ssd/GR2025/.venv/lib/python3.13/site-packages/sklearn/metrics/_classification.py:1731: UndefinedMetricWarning: Precision is ill-defined and being set to 0.0 in labels with no predicted samples. Use `zero_division` parameter to control this behavior.\n",
      "  _warn_prf(average, modifier, f\"{metric.capitalize()} is\", result.shape[0])\n",
      "/media/ssd/GR2025/.venv/lib/python3.13/site-packages/sklearn/metrics/_classification.py:1731: UndefinedMetricWarning: Precision is ill-defined and being set to 0.0 in labels with no predicted samples. Use `zero_division` parameter to control this behavior.\n",
      "  _warn_prf(average, modifier, f\"{metric.capitalize()} is\", result.shape[0])\n"
     ]
    },
    {
     "data": {
      "image/png": "[encoded data removed]",
      "text/plain": [
       "<Figure size 640x480 with 2 Axes>"
      ]
     },
     "metadata": {},
     "output_type": "display_data"
    },
    {
     "name": "stdout",
     "output_type": "stream",
     "text": [
      "\u001b[34m[Fold 2 / 5]\u001b[0m\n"
     ]
    },
    {
     "name": "stderr",
     "output_type": "stream",
     "text": [
      "Some weights of ViTForImageClassification were not initialized from the model checkpoint at google/vit-base-patch16-224-in21k and are newly initialized: ['classifier.bias', 'classifier.weight']\n",
      "You should probably TRAIN this model on a down-stream task to be able to use it for predictions and inference.\n",
      "/tmp/ipykernel_123169/2784381650.py:54: FutureWarning: `tokenizer` is deprecated and will be removed in version 5.0.0 for `Trainer.__init__`. Use `processing_class` instead.\n",
      "  trainer = Trainer(\n"
     ]
    },
    {
     "data": {
      "text/html": [
       "\n",
       "    <div>\n",
       "      \n",
       "      <progress value='1930' max='1930' style='width:300px; height:20px; vertical-align: middle;'></progress>\n",
       "      [1930/1930 20:47, Epoch 10/10]\n",
       "    </div>\n",
       "    <table border=\"1\" class=\"dataframe\">\n",
       "  <thead>\n",
       " <tr style=\"text-align: left;\">\n",
       "      <th>Epoch</th>\n",
       "      <th>Training Loss</th>\n",
       "      <th>Validation Loss</th>\n",
       "      <th>Accuracy</th>\n",
       "      <th>F1</th>\n",
       "    </tr>\n",
       "  </thead>\n",
       "  <tbody>\n",
       "    <tr>\n",
       "      <td>1</td>\n",
       "      <td>No log</td>\n",
       "      <td>0.767633</td>\n",
       "      <td>0.689566</td>\n",
       "      <td>0.577737</td>\n",
       "    </tr>\n",
       "    <tr>\n",
       "      <td>2</td>\n",
       "      <td>No log</td>\n",
       "      <td>0.746947</td>\n",
       "      <td>0.696695</td>\n",
       "      <td>0.686832</td>\n",
       "    </tr>\n",
       "    <tr>\n",
       "      <td>3</td>\n",
       "      <td>0.700500</td>\n",
       "      <td>0.646278</td>\n",
       "      <td>0.772521</td>\n",
       "      <td>0.737922</td>\n",
       "    </tr>\n",
       "    <tr>\n",
       "      <td>4</td>\n",
       "      <td>0.700500</td>\n",
       "      <td>0.654979</td>\n",
       "      <td>0.774465</td>\n",
       "      <td>0.746394</td>\n",
       "    </tr>\n",
       "    <tr>\n",
       "      <td>5</td>\n",
       "      <td>0.700500</td>\n",
       "      <td>0.695688</td>\n",
       "      <td>0.743357</td>\n",
       "      <td>0.737674</td>\n",
       "    </tr>\n",
       "    <tr>\n",
       "      <td>6</td>\n",
       "      <td>0.394600</td>\n",
       "      <td>0.750106</td>\n",
       "      <td>0.754375</td>\n",
       "      <td>0.752676</td>\n",
       "    </tr>\n",
       "    <tr>\n",
       "      <td>7</td>\n",
       "      <td>0.394600</td>\n",
       "      <td>0.734363</td>\n",
       "      <td>0.766040</td>\n",
       "      <td>0.748825</td>\n",
       "    </tr>\n",
       "    <tr>\n",
       "      <td>8</td>\n",
       "      <td>0.234700</td>\n",
       "      <td>0.770476</td>\n",
       "      <td>0.745949</td>\n",
       "      <td>0.748680</td>\n",
       "    </tr>\n",
       "    <tr>\n",
       "      <td>9</td>\n",
       "      <td>0.234700</td>\n",
       "      <td>0.785709</td>\n",
       "      <td>0.756319</td>\n",
       "      <td>0.749141</td>\n",
       "    </tr>\n",
       "    <tr>\n",
       "      <td>10</td>\n",
       "      <td>0.234700</td>\n",
       "      <td>0.809978</td>\n",
       "      <td>0.758911</td>\n",
       "      <td>0.746552</td>\n",
       "    </tr>\n",
       "  </tbody>\n",
       "</table><p>"
      ],
      "text/plain": [
       "<IPython.core.display.HTML object>"
      ]
     },
     "metadata": {},
     "output_type": "display_data"
    },
    {
     "data": {
      "text/html": [],
      "text/plain": [
       "<IPython.core.display.HTML object>"
      ]
     },
     "metadata": {},
     "output_type": "display_data"
    },
    {
     "name": "stdout",
     "output_type": "stream",
     "text": [
      "Fold 2 F1 Score: \u001b[32m0.7466\u001b[0m\n",
      "Confusion Matrix:\n",
      " [[938  33  98   0   0]\n",
      " [ 68  16   7   0   0]\n",
      " [155   6 217   0   0]\n",
      " [  2   0   1   0   0]\n",
      " [  1   1   0   0   0]]\n",
      "              precision    recall  f1-score      support\n",
      "A              0.805842  0.877456  0.840125  1069.000000\n",
      "B              0.285714  0.175824  0.217687    91.000000\n",
      "C              0.671827  0.574074  0.619116   378.000000\n",
      "D              0.000000  0.000000  0.000000     3.000000\n",
      "E              0.000000  0.000000  0.000000     2.000000\n",
      "accuracy       0.758911  0.758911  0.758911     0.758911\n",
      "macro avg      0.352677  0.325471  0.335386  1543.000000\n",
      "weighted avg   0.739725  0.758911  0.746552  1543.000000\n"
     ]
    },
    {
     "name": "stderr",
     "output_type": "stream",
     "text": [
      "/media/ssd/GR2025/.venv/lib/python3.13/site-packages/sklearn/metrics/_classification.py:1731: UndefinedMetricWarning: Precision is ill-defined and being set to 0.0 in labels with no predicted samples. Use `zero_division` parameter to control this behavior.\n",
      "  _warn_prf(average, modifier, f\"{metric.capitalize()} is\", result.shape[0])\n",
      "/media/ssd/GR2025/.venv/lib/python3.13/site-packages/sklearn/metrics/_classification.py:1731: UndefinedMetricWarning: Precision is ill-defined and being set to 0.0 in labels with no predicted samples. Use `zero_division` parameter to control this behavior.\n",
      "  _warn_prf(average, modifier, f\"{metric.capitalize()} is\", result.shape[0])\n",
      "/media/ssd/GR2025/.venv/lib/python3.13/site-packages/sklearn/metrics/_classification.py:1731: UndefinedMetricWarning: Precision is ill-defined and being set to 0.0 in labels with no predicted samples. Use `zero_division` parameter to control this behavior.\n",
      "  _warn_prf(average, modifier, f\"{metric.capitalize()} is\", result.shape[0])\n"
     ]
    },
    {
     "data": {
      "image/png": "[encoded data removed]",
      "text/plain": [
       "<Figure size 640x480 with 2 Axes>"
      ]
     },
     "metadata": {},
     "output_type": "display_data"
    },
    {
     "name": "stdout",
     "output_type": "stream",
     "text": [
      "\u001b[34m[Fold 3 / 5]\u001b[0m\n"
     ]
    },
    {
     "name": "stderr",
     "output_type": "stream",
     "text": [
      "Some weights of ViTForImageClassification were not initialized from the model checkpoint at google/vit-base-patch16-224-in21k and are newly initialized: ['classifier.bias', 'classifier.weight']\n",
      "You should probably TRAIN this model on a down-stream task to be able to use it for predictions and inference.\n",
      "/tmp/ipykernel_123169/2784381650.py:54: FutureWarning: `tokenizer` is deprecated and will be removed in version 5.0.0 for `Trainer.__init__`. Use `processing_class` instead.\n",
      "  trainer = Trainer(\n"
     ]
    },
    {
     "data": {
      "text/html": [
       "\n",
       "    <div>\n",
       "      \n",
       "      <progress value='1930' max='1930' style='width:300px; height:20px; vertical-align: middle;'></progress>\n",
       "      [1930/1930 20:50, Epoch 10/10]\n",
       "    </div>\n",
       "    <table border=\"1\" class=\"dataframe\">\n",
       "  <thead>\n",
       " <tr style=\"text-align: left;\">\n",
       "      <th>Epoch</th>\n",
       "      <th>Training Loss</th>\n",
       "      <th>Validation Loss</th>\n",
       "      <th>Accuracy</th>\n",
       "      <th>F1</th>\n",
       "    </tr>\n",
       "  </thead>\n",
       "  <tbody>\n",
       "    <tr>\n",
       "      <td>1</td>\n",
       "      <td>No log</td>\n",
       "      <td>0.723585</td>\n",
       "      <td>0.728451</td>\n",
       "      <td>0.654102</td>\n",
       "    </tr>\n",
       "    <tr>\n",
       "      <td>2</td>\n",
       "      <td>No log</td>\n",
       "      <td>0.747427</td>\n",
       "      <td>0.684381</td>\n",
       "      <td>0.676455</td>\n",
       "    </tr>\n",
       "    <tr>\n",
       "      <td>3</td>\n",
       "      <td>0.691400</td>\n",
       "      <td>0.685220</td>\n",
       "      <td>0.766040</td>\n",
       "      <td>0.727790</td>\n",
       "    </tr>\n",
       "    <tr>\n",
       "      <td>4</td>\n",
       "      <td>0.691400</td>\n",
       "      <td>0.702691</td>\n",
       "      <td>0.765392</td>\n",
       "      <td>0.741354</td>\n",
       "    </tr>\n",
       "    <tr>\n",
       "      <td>5</td>\n",
       "      <td>0.691400</td>\n",
       "      <td>0.740529</td>\n",
       "      <td>0.757615</td>\n",
       "      <td>0.743672</td>\n",
       "    </tr>\n",
       "    <tr>\n",
       "      <td>6</td>\n",
       "      <td>0.381200</td>\n",
       "      <td>0.790353</td>\n",
       "      <td>0.762800</td>\n",
       "      <td>0.750874</td>\n",
       "    </tr>\n",
       "    <tr>\n",
       "      <td>7</td>\n",
       "      <td>0.381200</td>\n",
       "      <td>0.812172</td>\n",
       "      <td>0.767336</td>\n",
       "      <td>0.752844</td>\n",
       "    </tr>\n",
       "    <tr>\n",
       "      <td>8</td>\n",
       "      <td>0.222100</td>\n",
       "      <td>0.859685</td>\n",
       "      <td>0.745301</td>\n",
       "      <td>0.746213</td>\n",
       "    </tr>\n",
       "    <tr>\n",
       "      <td>9</td>\n",
       "      <td>0.222100</td>\n",
       "      <td>0.873705</td>\n",
       "      <td>0.748542</td>\n",
       "      <td>0.744628</td>\n",
       "    </tr>\n",
       "    <tr>\n",
       "      <td>10</td>\n",
       "      <td>0.222100</td>\n",
       "      <td>0.902290</td>\n",
       "      <td>0.750486</td>\n",
       "      <td>0.745022</td>\n",
       "    </tr>\n",
       "  </tbody>\n",
       "</table><p>"
      ],
      "text/plain": [
       "<IPython.core.display.HTML object>"
      ]
     },
     "metadata": {},
     "output_type": "display_data"
    },
    {
     "data": {
      "text/html": [],
      "text/plain": [
       "<IPython.core.display.HTML object>"
      ]
     },
     "metadata": {},
     "output_type": "display_data"
    },
    {
     "name": "stdout",
     "output_type": "stream",
     "text": [
      "Fold 3 F1 Score: \u001b[32m0.7450\u001b[0m\n",
      "Confusion Matrix:\n",
      " [[919  41 121   0   0]\n",
      " [ 53  17  13   0   0]\n",
      " [139  12 222   0   0]\n",
      " [  3   0   0   0   0]\n",
      " [  3   0   0   0   0]]\n",
      "              precision    recall  f1-score      support\n",
      "A              0.822739  0.850139  0.836215  1081.000000\n",
      "B              0.242857  0.204819  0.222222    83.000000\n",
      "C              0.623596  0.595174  0.609053   373.000000\n",
      "D              0.000000  0.000000  0.000000     3.000000\n",
      "E              0.000000  0.000000  0.000000     3.000000\n",
      "accuracy       0.750486  0.750486  0.750486     0.750486\n",
      "macro avg      0.337838  0.330026  0.333498  1543.000000\n",
      "weighted avg   0.740207  0.750486  0.745022  1543.000000\n"
     ]
    },
    {
     "name": "stderr",
     "output_type": "stream",
     "text": [
      "/media/ssd/GR2025/.venv/lib/python3.13/site-packages/sklearn/metrics/_classification.py:1731: UndefinedMetricWarning: Precision is ill-defined and being set to 0.0 in labels with no predicted samples. Use `zero_division` parameter to control this behavior.\n",
      "  _warn_prf(average, modifier, f\"{metric.capitalize()} is\", result.shape[0])\n",
      "/media/ssd/GR2025/.venv/lib/python3.13/site-packages/sklearn/metrics/_classification.py:1731: UndefinedMetricWarning: Precision is ill-defined and being set to 0.0 in labels with no predicted samples. Use `zero_division` parameter to control this behavior.\n",
      "  _warn_prf(average, modifier, f\"{metric.capitalize()} is\", result.shape[0])\n",
      "/media/ssd/GR2025/.venv/lib/python3.13/site-packages/sklearn/metrics/_classification.py:1731: UndefinedMetricWarning: Precision is ill-defined and being set to 0.0 in labels with no predicted samples. Use `zero_division` parameter to control this behavior.\n",
      "  _warn_prf(average, modifier, f\"{metric.capitalize()} is\", result.shape[0])\n"
     ]
    },
    {
     "data": {
      "image/png": "[encoded data removed]",
      "text/plain": [
       "<Figure size 640x480 with 2 Axes>"
      ]
     },
     "metadata": {},
     "output_type": "display_data"
    },
    {
     "name": "stdout",
     "output_type": "stream",
     "text": [
      "\u001b[34m[Fold 4 / 5]\u001b[0m\n"
     ]
    },
    {
     "name": "stderr",
     "output_type": "stream",
     "text": [
      "Some weights of ViTForImageClassification were not initialized from the model checkpoint at google/vit-base-patch16-224-in21k and are newly initialized: ['classifier.bias', 'classifier.weight']\n",
      "You should probably TRAIN this model on a down-stream task to be able to use it for predictions and inference.\n",
      "/tmp/ipykernel_123169/2784381650.py:54: FutureWarning: `tokenizer` is deprecated and will be removed in version 5.0.0 for `Trainer.__init__`. Use `processing_class` instead.\n",
      "  trainer = Trainer(\n"
     ]
    },
    {
     "data": {
      "text/html": [
       "\n",
       "    <div>\n",
       "      \n",
       "      <progress value='1930' max='1930' style='width:300px; height:20px; vertical-align: middle;'></progress>\n",
       "      [1930/1930 20:39, Epoch 10/10]\n",
       "    </div>\n",
       "    <table border=\"1\" class=\"dataframe\">\n",
       "  <thead>\n",
       " <tr style=\"text-align: left;\">\n",
       "      <th>Epoch</th>\n",
       "      <th>Training Loss</th>\n",
       "      <th>Validation Loss</th>\n",
       "      <th>Accuracy</th>\n",
       "      <th>F1</th>\n",
       "    </tr>\n",
       "  </thead>\n",
       "  <tbody>\n",
       "    <tr>\n",
       "      <td>1</td>\n",
       "      <td>No log</td>\n",
       "      <td>0.757472</td>\n",
       "      <td>0.706416</td>\n",
       "      <td>0.655735</td>\n",
       "    </tr>\n",
       "    <tr>\n",
       "      <td>2</td>\n",
       "      <td>No log</td>\n",
       "      <td>0.765346</td>\n",
       "      <td>0.687622</td>\n",
       "      <td>0.674960</td>\n",
       "    </tr>\n",
       "    <tr>\n",
       "      <td>3</td>\n",
       "      <td>0.687900</td>\n",
       "      <td>0.692770</td>\n",
       "      <td>0.763448</td>\n",
       "      <td>0.729736</td>\n",
       "    </tr>\n",
       "    <tr>\n",
       "      <td>4</td>\n",
       "      <td>0.687900</td>\n",
       "      <td>0.759535</td>\n",
       "      <td>0.751134</td>\n",
       "      <td>0.731258</td>\n",
       "    </tr>\n",
       "    <tr>\n",
       "      <td>5</td>\n",
       "      <td>0.687900</td>\n",
       "      <td>0.746708</td>\n",
       "      <td>0.755023</td>\n",
       "      <td>0.737725</td>\n",
       "    </tr>\n",
       "    <tr>\n",
       "      <td>6</td>\n",
       "      <td>0.377300</td>\n",
       "      <td>0.813628</td>\n",
       "      <td>0.721322</td>\n",
       "      <td>0.725134</td>\n",
       "    </tr>\n",
       "    <tr>\n",
       "      <td>7</td>\n",
       "      <td>0.377300</td>\n",
       "      <td>0.783292</td>\n",
       "      <td>0.757615</td>\n",
       "      <td>0.741227</td>\n",
       "    </tr>\n",
       "    <tr>\n",
       "      <td>8</td>\n",
       "      <td>0.219700</td>\n",
       "      <td>0.849094</td>\n",
       "      <td>0.745301</td>\n",
       "      <td>0.734525</td>\n",
       "    </tr>\n",
       "    <tr>\n",
       "      <td>9</td>\n",
       "      <td>0.219700</td>\n",
       "      <td>0.895608</td>\n",
       "      <td>0.749838</td>\n",
       "      <td>0.743872</td>\n",
       "    </tr>\n",
       "    <tr>\n",
       "      <td>10</td>\n",
       "      <td>0.219700</td>\n",
       "      <td>0.907407</td>\n",
       "      <td>0.751782</td>\n",
       "      <td>0.744860</td>\n",
       "    </tr>\n",
       "  </tbody>\n",
       "</table><p>"
      ],
      "text/plain": [
       "<IPython.core.display.HTML object>"
      ]
     },
     "metadata": {},
     "output_type": "display_data"
    },
    {
     "data": {
      "text/html": [],
      "text/plain": [
       "<IPython.core.display.HTML object>"
      ]
     },
     "metadata": {},
     "output_type": "display_data"
    },
    {
     "name": "stdout",
     "output_type": "stream",
     "text": [
      "Fold 4 F1 Score: \u001b[32m0.7449\u001b[0m\n",
      "Confusion Matrix:\n",
      " [[902  41 113   0   0]\n",
      " [ 62  19  13   0   0]\n",
      " [137  12 239   0   0]\n",
      " [  3   0   0   0   0]\n",
      " [  0   1   1   0   0]]\n",
      "              precision    recall  f1-score      support\n",
      "A              0.817029  0.854167  0.835185  1056.000000\n",
      "B              0.260274  0.202128  0.227545    94.000000\n",
      "C              0.653005  0.615979  0.633952   388.000000\n",
      "D              0.000000  0.000000  0.000000     3.000000\n",
      "E              0.000000  0.000000  0.000000     2.000000\n",
      "accuracy       0.751782  0.751782  0.751782     0.751782\n",
      "macro avg      0.346062  0.334455  0.339336  1543.000000\n",
      "weighted avg   0.739219  0.751782  0.744860  1543.000000\n"
     ]
    },
    {
     "name": "stderr",
     "output_type": "stream",
     "text": [
      "/media/ssd/GR2025/.venv/lib/python3.13/site-packages/sklearn/metrics/_classification.py:1731: UndefinedMetricWarning: Precision is ill-defined and being set to 0.0 in labels with no predicted samples. Use `zero_division` parameter to control this behavior.\n",
      "  _warn_prf(average, modifier, f\"{metric.capitalize()} is\", result.shape[0])\n",
      "/media/ssd/GR2025/.venv/lib/python3.13/site-packages/sklearn/metrics/_classification.py:1731: UndefinedMetricWarning: Precision is ill-defined and being set to 0.0 in labels with no predicted samples. Use `zero_division` parameter to control this behavior.\n",
      "  _warn_prf(average, modifier, f\"{metric.capitalize()} is\", result.shape[0])\n",
      "/media/ssd/GR2025/.venv/lib/python3.13/site-packages/sklearn/metrics/_classification.py:1731: UndefinedMetricWarning: Precision is ill-defined and being set to 0.0 in labels with no predicted samples. Use `zero_division` parameter to control this behavior.\n",
      "  _warn_prf(average, modifier, f\"{metric.capitalize()} is\", result.shape[0])\n"
     ]
    },
    {
     "data": {
      "image/png": "[encoded data removed]",
      "text/plain": [
       "<Figure size 640x480 with 2 Axes>"
      ]
     },
     "metadata": {},
     "output_type": "display_data"
    },
    {
     "name": "stdout",
     "output_type": "stream",
     "text": [
      "\u001b[34m[Fold 5 / 5]\u001b[0m\n"
     ]
    },
    {
     "name": "stderr",
     "output_type": "stream",
     "text": [
      "Some weights of ViTForImageClassification were not initialized from the model checkpoint at google/vit-base-patch16-224-in21k and are newly initialized: ['classifier.bias', 'classifier.weight']\n",
      "You should probably TRAIN this model on a down-stream task to be able to use it for predictions and inference.\n",
      "/tmp/ipykernel_123169/2784381650.py:54: FutureWarning: `tokenizer` is deprecated and will be removed in version 5.0.0 for `Trainer.__init__`. Use `processing_class` instead.\n",
      "  trainer = Trainer(\n"
     ]
    },
    {
     "data": {
      "text/html": [
       "\n",
       "    <div>\n",
       "      \n",
       "      <progress value='1930' max='1930' style='width:300px; height:20px; vertical-align: middle;'></progress>\n",
       "      [1930/1930 20:29, Epoch 10/10]\n",
       "    </div>\n",
       "    <table border=\"1\" class=\"dataframe\">\n",
       "  <thead>\n",
       " <tr style=\"text-align: left;\">\n",
       "      <th>Epoch</th>\n",
       "      <th>Training Loss</th>\n",
       "      <th>Validation Loss</th>\n",
       "      <th>Accuracy</th>\n",
       "      <th>F1</th>\n",
       "    </tr>\n",
       "  </thead>\n",
       "  <tbody>\n",
       "    <tr>\n",
       "      <td>1</td>\n",
       "      <td>No log</td>\n",
       "      <td>0.809305</td>\n",
       "      <td>0.694102</td>\n",
       "      <td>0.616954</td>\n",
       "    </tr>\n",
       "    <tr>\n",
       "      <td>2</td>\n",
       "      <td>No log</td>\n",
       "      <td>0.853960</td>\n",
       "      <td>0.628645</td>\n",
       "      <td>0.617760</td>\n",
       "    </tr>\n",
       "    <tr>\n",
       "      <td>3</td>\n",
       "      <td>0.685600</td>\n",
       "      <td>0.698131</td>\n",
       "      <td>0.750486</td>\n",
       "      <td>0.712240</td>\n",
       "    </tr>\n",
       "    <tr>\n",
       "      <td>4</td>\n",
       "      <td>0.685600</td>\n",
       "      <td>0.739261</td>\n",
       "      <td>0.747246</td>\n",
       "      <td>0.711167</td>\n",
       "    </tr>\n",
       "    <tr>\n",
       "      <td>5</td>\n",
       "      <td>0.685600</td>\n",
       "      <td>0.733302</td>\n",
       "      <td>0.758263</td>\n",
       "      <td>0.722437</td>\n",
       "    </tr>\n",
       "    <tr>\n",
       "      <td>6</td>\n",
       "      <td>0.400700</td>\n",
       "      <td>0.802078</td>\n",
       "      <td>0.747894</td>\n",
       "      <td>0.723121</td>\n",
       "    </tr>\n",
       "    <tr>\n",
       "      <td>7</td>\n",
       "      <td>0.400700</td>\n",
       "      <td>0.788914</td>\n",
       "      <td>0.757615</td>\n",
       "      <td>0.737705</td>\n",
       "    </tr>\n",
       "    <tr>\n",
       "      <td>8</td>\n",
       "      <td>0.232700</td>\n",
       "      <td>0.823406</td>\n",
       "      <td>0.758911</td>\n",
       "      <td>0.735000</td>\n",
       "    </tr>\n",
       "    <tr>\n",
       "      <td>9</td>\n",
       "      <td>0.232700</td>\n",
       "      <td>0.848660</td>\n",
       "      <td>0.757615</td>\n",
       "      <td>0.736613</td>\n",
       "    </tr>\n",
       "    <tr>\n",
       "      <td>10</td>\n",
       "      <td>0.232700</td>\n",
       "      <td>0.868526</td>\n",
       "      <td>0.760207</td>\n",
       "      <td>0.739495</td>\n",
       "    </tr>\n",
       "  </tbody>\n",
       "</table><p>"
      ],
      "text/plain": [
       "<IPython.core.display.HTML object>"
      ]
     },
     "metadata": {},
     "output_type": "display_data"
    },
    {
     "data": {
      "text/html": [],
      "text/plain": [
       "<IPython.core.display.HTML object>"
      ]
     },
     "metadata": {},
     "output_type": "display_data"
    },
    {
     "name": "stdout",
     "output_type": "stream",
     "text": [
      "Fold 5 F1 Score: \u001b[32m0.7395\u001b[0m\n",
      "Confusion Matrix:\n",
      " [[914  16  80   0   0]\n",
      " [ 73  17  20   0   0]\n",
      " [161  10 242   0   0]\n",
      " [  3   0   0   0   0]\n",
      " [  6   1   0   0   0]]\n",
      "              precision    recall  f1-score      support\n",
      "A              0.789974  0.904950  0.843563  1010.000000\n",
      "B              0.386364  0.154545  0.220779   110.000000\n",
      "C              0.707602  0.585956  0.641060   413.000000\n",
      "D              0.000000  0.000000  0.000000     3.000000\n",
      "E              0.000000  0.000000  0.000000     7.000000\n",
      "accuracy       0.760207  0.760207  0.760207     0.760207\n",
      "macro avg      0.376788  0.329090  0.341080  1543.000000\n",
      "weighted avg   0.734033  0.760207  0.739495  1543.000000\n"
     ]
    },
    {
     "name": "stderr",
     "output_type": "stream",
     "text": [
      "/media/ssd/GR2025/.venv/lib/python3.13/site-packages/sklearn/metrics/_classification.py:1731: UndefinedMetricWarning: Precision is ill-defined and being set to 0.0 in labels with no predicted samples. Use `zero_division` parameter to control this behavior.\n",
      "  _warn_prf(average, modifier, f\"{metric.capitalize()} is\", result.shape[0])\n",
      "/media/ssd/GR2025/.venv/lib/python3.13/site-packages/sklearn/metrics/_classification.py:1731: UndefinedMetricWarning: Precision is ill-defined and being set to 0.0 in labels with no predicted samples. Use `zero_division` parameter to control this behavior.\n",
      "  _warn_prf(average, modifier, f\"{metric.capitalize()} is\", result.shape[0])\n",
      "/media/ssd/GR2025/.venv/lib/python3.13/site-packages/sklearn/metrics/_classification.py:1731: UndefinedMetricWarning: Precision is ill-defined and being set to 0.0 in labels with no predicted samples. Use `zero_division` parameter to control this behavior.\n",
      "  _warn_prf(average, modifier, f\"{metric.capitalize()} is\", result.shape[0])\n"
     ]
    },
    {
     "data": {
      "image/png": "[encoded data removed]",
      "text/plain": [
       "<Figure size 640x480 with 2 Axes>"
      ]
     },
     "metadata": {},
     "output_type": "display_data"
    },
    {
     "name": "stdout",
     "output_type": "stream",
     "text": [
      "\n",
      "Average F1 Score: 0.745793958630427\n",
      "Confusion Matrix:\n",
      " [[4606  173  523    0    0]\n",
      " [ 305   86   63    0    0]\n",
      " [ 735   55 1139    0    0]\n",
      " [  12    0    1    0    0]\n",
      " [  11    5    2    0    0]]\n"
     ]
    }
   ],
   "source": [
    "from transformers import TrainingArguments, Trainer\n",
    "import matplotlib.pyplot as plt\n",
    "import numpy as np\n",
    "import evaluate\n",
    "from sklearn.model_selection import KFold\n",
    "from sklearn.metrics import classification_report, confusion_matrix, f1_score, ConfusionMatrixDisplay\n",
    "from torch.utils.data import Subset\n",
    "import pandas as pd\n",
    "\n",
    "accuracy = evaluate.load(\"accuracy\")\n",
    "\n",
    "# 5分割交差検証の設定\n",
    "kfold = KFold(n_splits=5, shuffle=True, random_state=42)\n",
    "\n",
    "dataset = GPCRImageDataset(\"../gpcr_labels.csv\", \"../graphs/esm1b/umap2\", transform=transform)\n",
    "\n",
    "all_f1_scores = []\n",
    "all_conf_matrices = []\n",
    "\n",
    "for fold, (train_idx, val_idx) in enumerate(kfold.split(dataset)):\n",
    "    print(f\"\\033[34m[Fold {fold+1} / 5]\\033[0m\")\n",
    "\n",
    "    # Subset 作成\n",
    "    train_dataset = Subset(dataset, train_idx)\n",
    "    val_dataset = Subset(dataset, val_idx)\n",
    "\n",
    "    # モデルを毎回初期化\n",
    "    model = ViTForImageClassification.from_pretrained(\n",
    "        \"google/vit-base-patch16-224-in21k\",\n",
    "        num_labels=5,\n",
    "        id2label=id2label,\n",
    "        label2id=label2id\n",
    "    )\n",
    "\n",
    "    training_args = TrainingArguments(\n",
    "        output_dir=f\"../models/esm1b/umap2/vit-gpcr-fold{fold}\",\n",
    "        per_device_train_batch_size=32,\n",
    "        eval_strategy=\"epoch\",\n",
    "        save_strategy=\"epoch\",\n",
    "        num_train_epochs=10,\n",
    "        logging_dir=\"./logs\",\n",
    "        report_to=\"none\"\n",
    "    )\n",
    "\n",
    "    def compute_metrics(eval_pred):\n",
    "        logits, labels = eval_pred\n",
    "        preds = np.argmax(logits, axis=-1)\n",
    "        f1 = f1_score(labels, preds, average=\"weighted\")\n",
    "        return {\n",
    "            \"accuracy\": accuracy.compute(predictions=preds, references=labels)[\"accuracy\"],\n",
    "            \"f1\": f1\n",
    "        }\n",
    "\n",
    "    trainer = Trainer(\n",
    "        model=model,\n",
    "        args=training_args,\n",
    "        train_dataset=train_dataset,\n",
    "        eval_dataset=val_dataset,\n",
    "        tokenizer=processor,\n",
    "        compute_metrics=compute_metrics\n",
    "    )\n",
    "\n",
    "    trainer.train()\n",
    "\n",
    "    # 推論 & 評価\n",
    "    preds = trainer.predict(val_dataset)\n",
    "    y_true = preds.label_ids\n",
    "    y_pred = np.argmax(preds.predictions, axis=1)\n",
    "\n",
    "    # ラベルIDのリストを明示的に渡す\n",
    "    label_ids = list(range(len(label2id)))  # [0, 1, 2, 3, 4]\n",
    "    display_names = list(label2id.keys())  # [\"A\", \"B\", \"C\", \"D\", \"E\"]\n",
    "\n",
    "    f1 = f1_score(y_true, y_pred, average=\"weighted\")\n",
    "    cm = confusion_matrix(y_true, y_pred, labels=label_ids)\n",
    "\n",
    "    report = classification_report(y_true, y_pred, target_names=display_names, output_dict=True)\n",
    "    report_df = pd.DataFrame(report).T\n",
    "\n",
    "    print(f\"Fold {fold+1} F1 Score: \\033[32m{f1:.4f}\\033[0m\")\n",
    "    print(\"Confusion Matrix:\\n\", cm)\n",
    "    print(report_df)\n",
    "\n",
    "    all_f1_scores.append(f1)\n",
    "    all_conf_matrices.append(cm)\n",
    "\n",
    "    # 混同行列を可視化\n",
    "    disp = ConfusionMatrixDisplay(confusion_matrix=cm, display_labels=display_names)\n",
    "    disp.plot(cmap=\"Blues\")\n",
    "    plt.title(f\"Confusion Matrix - Fold {fold+1}\")\n",
    "    plt.show()\n",
    "\n",
    "# 最終結果をまとめる\n",
    "print(\"\\nAverage F1 Score:\", np.mean(all_f1_scores))\n",
    "print(\"Confusion Matrix:\\n\", sum(all_conf_matrices))"
   ]
  }
 ],
 "metadata": {
  "kernelspec": {
   "display_name": "Python 3 (ipykernel)",
   "language": "python",
   "name": "python3"
  },
  "language_info": {
   "codemirror_mode": {
    "name": "ipython",
    "version": 3
   },
   "file_extension": ".py",
   "mimetype": "text/x-python",
   "name": "python",
   "nbconvert_exporter": "python",
   "pygments_lexer": "ipython3",
   "version": "3.13.8"
  }
 },
 "nbformat": 4,
 "nbformat_minor": 5
}
