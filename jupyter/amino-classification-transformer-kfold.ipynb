{
 "cells": [
  {
   "cell_type": "markdown",
   "id": "77ee9b7a25aaeddf",
   "metadata": {},
   "source": [
    "# アミノ酸配列のグラフ表示画像のTransformerによるタンパク質ファミリー分類（5分割交差検証）"
   ]
  },
  {
   "cell_type": "markdown",
   "id": "70840541844d7ece",
   "metadata": {},
   "source": [
    "## 1. 画像とラベルの対応を取る `Dataset` を作成"
   ]
  },
  {
   "cell_type": "code",
   "id": "initial_id",
   "metadata": {
    "collapsed": true,
    "jupyter": {
     "outputs_hidden": true
    },
    "ExecuteTime": {
     "end_time": "2025-07-31T11:06:38.725102Z",
     "start_time": "2025-07-31T11:06:32.276825Z"
    }
   },
   "source": [
    "from torch.utils.data import Dataset\n",
    "from PIL import Image\n",
    "\n",
    "import os\n",
    "\n",
    "label2id = {\"A\": 0, \"B\": 1, \"C\": 2, \"D\": 3, \"E\": 4}\n",
    "id2label = {v: k for k, v in label2id.items()}\n",
    "\n",
    "class GPCRImageDataset(Dataset):\n",
    "    def __init__(self, csv_path, img_dir, transform=None):\n",
    "        self.data = pd.read_csv(csv_path, header=None, names=[\"num\", \"label\", \"accession\"])\n",
    "        self.img_dir = img_dir\n",
    "        self.transform = transform\n",
    "\n",
    "    def __len__(self):\n",
    "        return len(self.data)\n",
    "\n",
    "    def __getitem__(self, idx):\n",
    "        row = self.data.iloc[idx]\n",
    "        img_path = os.path.join(self.img_dir, f\"{row['num']}.png\")\n",
    "        image = Image.open(img_path).convert(\"RGB\")\n",
    "        label = label2id[row[\"label\"]]\n",
    "\n",
    "        if self.transform:\n",
    "            image = self.transform(image)\n",
    "\n",
    "        return {\n",
    "            \"pixel_values\": image,\n",
    "            \"label\": label\n",
    "        }"
   ],
   "outputs": [],
   "execution_count": 1
  },
  {
   "cell_type": "markdown",
   "id": "41059fcff6fe9730",
   "metadata": {},
   "source": [
    "## 2. 画像前処理（ViT用）"
   ]
  },
  {
   "cell_type": "code",
   "id": "9e201e85617b406f",
   "metadata": {
    "ExecuteTime": {
     "end_time": "2025-07-31T11:06:54.208314Z",
     "start_time": "2025-07-31T11:06:46.237774Z"
    }
   },
   "source": [
    "from torchvision.transforms import Compose, Resize, ToTensor, Normalize\n",
    "# from transformers import AutoImageProcessor\n",
    "from transformers import ViTImageProcessorFast, ViTForImageClassification\n",
    "\n",
    "processor = ViTImageProcessorFast.from_pretrained(\"google/vit-base-patch16-224-in21k\")\n",
    "transform = Compose([\n",
    "    Resize((224, 224)),\n",
    "    ToTensor(),\n",
    "    Normalize(mean=processor.image_mean, std=processor.image_std)\n",
    "])"
   ],
   "outputs": [],
   "execution_count": 2
  },
  {
   "cell_type": "markdown",
   "id": "9923a9de9fcc34d3",
   "metadata": {},
   "source": [
    "## 3. `Trainer` を使って学習"
   ]
  },
  {
   "cell_type": "code",
   "id": "5dc3bdc2aeae531c",
   "metadata": {
    "ExecuteTime": {
     "end_time": "2025-07-31T12:39:26.946094Z",
     "start_time": "2025-07-31T11:08:28.605310Z"
    }
   },
   "source": [
    "from transformers import TrainingArguments, Trainer\n",
    "import matplotlib.pyplot as plt\n",
    "import numpy as np\n",
    "import evaluate\n",
    "from sklearn.model_selection import KFold\n",
    "from sklearn.metrics import classification_report, confusion_matrix, f1_score, ConfusionMatrixDisplay\n",
    "from torch.utils.data import Subset\n",
    "import pandas as pd\n",
    "\n",
    "accuracy = evaluate.load(\"accuracy\")\n",
    "\n",
    "# 5分割交差検証の設定\n",
    "kfold = KFold(n_splits=5, shuffle=True, random_state=42)\n",
    "\n",
    "dataset = GPCRImageDataset(\"../gpcr_labels.csv\", \"../graphs\", transform=transform)\n",
    "\n",
    "all_f1_scores = []\n",
    "all_conf_matrices = []\n",
    "\n",
    "for fold, (train_idx, val_idx) in enumerate(kfold.split(dataset)):\n",
    "    print(f\"\\033[34m[Fold {fold+1} / 5]\\033[0m\")\n",
    "\n",
    "    # Subset 作成\n",
    "    train_dataset = Subset(dataset, train_idx)\n",
    "    val_dataset = Subset(dataset, val_idx)\n",
    "\n",
    "    # モデルを毎回初期化\n",
    "    model = ViTForImageClassification.from_pretrained(\n",
    "        \"google/vit-base-patch16-224-in21k\",\n",
    "        num_labels=5,\n",
    "        id2label=id2label,\n",
    "        label2id=label2id\n",
    "    )\n",
    "\n",
    "    training_args = TrainingArguments(\n",
    "        output_dir=f\"./vit-gpcr-fold{fold}\",\n",
    "        per_device_train_batch_size=32,\n",
    "        eval_strategy=\"epoch\",\n",
    "        save_strategy=\"epoch\",\n",
    "        num_train_epochs=10,\n",
    "        logging_dir=\"./logs\",\n",
    "        report_to=\"none\"\n",
    "    )\n",
    "\n",
    "    def compute_metrics(eval_pred):\n",
    "        logits, labels = eval_pred\n",
    "        preds = np.argmax(logits, axis=-1)\n",
    "        f1 = f1_score(labels, preds, average=\"weighted\")\n",
    "        return {\n",
    "            \"accuracy\": accuracy.compute(predictions=preds, references=labels)[\"accuracy\"],\n",
    "            \"f1\": f1\n",
    "        }\n",
    "\n",
    "    trainer = Trainer(\n",
    "        model=model,\n",
    "        args=training_args,\n",
    "        train_dataset=train_dataset,\n",
    "        eval_dataset=val_dataset,\n",
    "        tokenizer=processor,\n",
    "        compute_metrics=compute_metrics\n",
    "    )\n",
    "\n",
    "    trainer.train()\n",
    "\n",
    "    # 推論 & 評価\n",
    "    preds = trainer.predict(val_dataset)\n",
    "    y_true = preds.label_ids\n",
    "    y_pred = np.argmax(preds.predictions, axis=1)\n",
    "\n",
    "    # ラベルIDのリストを明示的に渡す\n",
    "    label_ids = list(range(len(label2id)))  # [0, 1, 2, 3, 4]\n",
    "    display_names = list(label2id.keys())  # [\"A\", \"B\", \"C\", \"D\", \"E\"]\n",
    "\n",
    "    f1 = f1_score(y_true, y_pred, average=\"weighted\")\n",
    "    cm = confusion_matrix(y_true, y_pred, labels=label_ids)\n",
    "\n",
    "    report = classification_report(y_true, y_pred, target_names=display_names, output_dict=True)\n",
    "    report_df = pd.DataFrame(report).T\n",
    "\n",
    "    print(f\"Fold {fold+1} F1 Score: \\033[32m{f1:.4f}\\033[0m\")\n",
    "    print(\"Confusion Matrix:\\n\", cm)\n",
    "    print(report_df)\n",
    "\n",
    "    all_f1_scores.append(f1)\n",
    "    all_conf_matrices.append(cm)\n",
    "\n",
    "    # 混同行列を可視化\n",
    "    disp = ConfusionMatrixDisplay(confusion_matrix=cm, display_labels=display_names)\n",
    "    disp.plot(cmap=\"Blues\")\n",
    "    plt.title(f\"Confusion Matrix - Fold {fold+1}\")\n",
    "    plt.show()\n",
    "\n",
    "# 最終結果をまとめる\n",
    "print(\"\\nAverage F1 Score:\", np.mean(all_f1_scores))\n",
    "print(\"Confusion Matrix:\\n\", sum(all_conf_matrices))"
   ],
   "outputs": [
    {
     "name": "stdout",
     "output_type": "stream",
     "text": [
      "\u001B[34m[Fold 1 / 5]\u001B[0m\n"
     ]
    },
    {
     "name": "stderr",
     "output_type": "stream",
     "text": [
      "Some weights of ViTForImageClassification were not initialized from the model checkpoint at google/vit-base-patch16-224-in21k and are newly initialized: ['classifier.bias', 'classifier.weight']\n",
      "You should probably TRAIN this model on a down-stream task to be able to use it for predictions and inference.\n",
      "C:\\Users\\ArchWizard7\\AppData\\Local\\Temp\\ipykernel_57324\\3512132755.py:54: FutureWarning: `tokenizer` is deprecated and will be removed in version 5.0.0 for `Trainer.__init__`. Use `processing_class` instead.\n",
      "  trainer = Trainer(\n"
     ]
    },
    {
     "data": {
      "text/plain": [
       "<IPython.core.display.HTML object>"
      ],
      "text/html": [
       "\n",
       "    <div>\n",
       "      \n",
       "      <progress value='1930' max='1930' style='width:300px; height:20px; vertical-align: middle;'></progress>\n",
       "      [1930/1930 17:52, Epoch 10/10]\n",
       "    </div>\n",
       "    <table border=\"1\" class=\"dataframe\">\n",
       "  <thead>\n",
       " <tr style=\"text-align: left;\">\n",
       "      <th>Epoch</th>\n",
       "      <th>Training Loss</th>\n",
       "      <th>Validation Loss</th>\n",
       "      <th>Accuracy</th>\n",
       "      <th>F1</th>\n",
       "    </tr>\n",
       "  </thead>\n",
       "  <tbody>\n",
       "    <tr>\n",
       "      <td>1</td>\n",
       "      <td>No log</td>\n",
       "      <td>0.222602</td>\n",
       "      <td>0.941024</td>\n",
       "      <td>0.938303</td>\n",
       "    </tr>\n",
       "    <tr>\n",
       "      <td>2</td>\n",
       "      <td>No log</td>\n",
       "      <td>0.179466</td>\n",
       "      <td>0.953986</td>\n",
       "      <td>0.951746</td>\n",
       "    </tr>\n",
       "    <tr>\n",
       "      <td>3</td>\n",
       "      <td>0.233500</td>\n",
       "      <td>0.168742</td>\n",
       "      <td>0.957226</td>\n",
       "      <td>0.955426</td>\n",
       "    </tr>\n",
       "    <tr>\n",
       "      <td>4</td>\n",
       "      <td>0.233500</td>\n",
       "      <td>0.135701</td>\n",
       "      <td>0.970188</td>\n",
       "      <td>0.969458</td>\n",
       "    </tr>\n",
       "    <tr>\n",
       "      <td>5</td>\n",
       "      <td>0.233500</td>\n",
       "      <td>0.144693</td>\n",
       "      <td>0.967596</td>\n",
       "      <td>0.966635</td>\n",
       "    </tr>\n",
       "    <tr>\n",
       "      <td>6</td>\n",
       "      <td>0.055600</td>\n",
       "      <td>0.142544</td>\n",
       "      <td>0.970188</td>\n",
       "      <td>0.969801</td>\n",
       "    </tr>\n",
       "    <tr>\n",
       "      <td>7</td>\n",
       "      <td>0.055600</td>\n",
       "      <td>0.162592</td>\n",
       "      <td>0.966948</td>\n",
       "      <td>0.966331</td>\n",
       "    </tr>\n",
       "    <tr>\n",
       "      <td>8</td>\n",
       "      <td>0.021500</td>\n",
       "      <td>0.152280</td>\n",
       "      <td>0.969540</td>\n",
       "      <td>0.969050</td>\n",
       "    </tr>\n",
       "    <tr>\n",
       "      <td>9</td>\n",
       "      <td>0.021500</td>\n",
       "      <td>0.156139</td>\n",
       "      <td>0.969540</td>\n",
       "      <td>0.969049</td>\n",
       "    </tr>\n",
       "    <tr>\n",
       "      <td>10</td>\n",
       "      <td>0.021500</td>\n",
       "      <td>0.156488</td>\n",
       "      <td>0.971484</td>\n",
       "      <td>0.971042</td>\n",
       "    </tr>\n",
       "  </tbody>\n",
       "</table><p>"
      ]
     },
     "metadata": {},
     "output_type": "display_data"
    },
    {
     "data": {
      "text/plain": [
       "<IPython.core.display.HTML object>"
      ],
      "text/html": []
     },
     "metadata": {},
     "output_type": "display_data"
    },
    {
     "name": "stdout",
     "output_type": "stream",
     "text": [
      "Fold 2 F1 Score: \u001B[32m0.9710\u001B[0m\n",
      "Confusion Matrix:\n",
      " [[1047    3   15    0    0]\n",
      " [   9   84    3    0    0]\n",
      " [  11    0  364    1    0]\n",
      " [   0    0    2    0    0]\n",
      " [   0    0    0    0    4]]\n",
      "              precision    recall  f1-score      support\n",
      "A              0.981256  0.983099  0.982176  1065.000000\n",
      "B              0.965517  0.875000  0.918033    96.000000\n",
      "C              0.947917  0.968085  0.957895   376.000000\n",
      "D              0.000000  0.000000  0.000000     2.000000\n",
      "E              1.000000  1.000000  1.000000     4.000000\n",
      "accuracy       0.971484  0.971484  0.971484     0.971484\n",
      "macro avg      0.778938  0.765237  0.771621  1543.000000\n",
      "weighted avg   0.970929  0.971484  0.971042  1543.000000\n"
     ]
    },
    {
     "data": {
      "text/plain": [
       "<Figure size 640x480 with 2 Axes>"
      ],
      "image/png": "[encoded data removed]"
     },
     "metadata": {},
     "output_type": "display_data"
    },
    {
     "name": "stdout",
     "output_type": "stream",
     "text": [
      "\u001B[34m[Fold 3 / 5]\u001B[0m\n"
     ]
    },
    {
     "name": "stderr",
     "output_type": "stream",
     "text": [
      "Some weights of ViTForImageClassification were not initialized from the model checkpoint at google/vit-base-patch16-224-in21k and are newly initialized: ['classifier.bias', 'classifier.weight']\n",
      "You should probably TRAIN this model on a down-stream task to be able to use it for predictions and inference.\n",
      "C:\\Users\\ArchWizard7\\AppData\\Local\\Temp\\ipykernel_57324\\3512132755.py:54: FutureWarning: `tokenizer` is deprecated and will be removed in version 5.0.0 for `Trainer.__init__`. Use `processing_class` instead.\n",
      "  trainer = Trainer(\n"
     ]
    },
    {
     "data": {
      "text/plain": [
       "<IPython.core.display.HTML object>"
      ],
      "text/html": [
       "\n",
       "    <div>\n",
       "      \n",
       "      <progress value='1930' max='1930' style='width:300px; height:20px; vertical-align: middle;'></progress>\n",
       "      [1930/1930 17:57, Epoch 10/10]\n",
       "    </div>\n",
       "    <table border=\"1\" class=\"dataframe\">\n",
       "  <thead>\n",
       " <tr style=\"text-align: left;\">\n",
       "      <th>Epoch</th>\n",
       "      <th>Training Loss</th>\n",
       "      <th>Validation Loss</th>\n",
       "      <th>Accuracy</th>\n",
       "      <th>F1</th>\n",
       "    </tr>\n",
       "  </thead>\n",
       "  <tbody>\n",
       "    <tr>\n",
       "      <td>1</td>\n",
       "      <td>No log</td>\n",
       "      <td>0.222050</td>\n",
       "      <td>0.939728</td>\n",
       "      <td>0.936093</td>\n",
       "    </tr>\n",
       "    <tr>\n",
       "      <td>2</td>\n",
       "      <td>No log</td>\n",
       "      <td>0.181331</td>\n",
       "      <td>0.955282</td>\n",
       "      <td>0.952564</td>\n",
       "    </tr>\n",
       "    <tr>\n",
       "      <td>3</td>\n",
       "      <td>0.238400</td>\n",
       "      <td>0.172243</td>\n",
       "      <td>0.957226</td>\n",
       "      <td>0.954711</td>\n",
       "    </tr>\n",
       "    <tr>\n",
       "      <td>4</td>\n",
       "      <td>0.238400</td>\n",
       "      <td>0.175664</td>\n",
       "      <td>0.960467</td>\n",
       "      <td>0.957480</td>\n",
       "    </tr>\n",
       "    <tr>\n",
       "      <td>5</td>\n",
       "      <td>0.238400</td>\n",
       "      <td>0.163376</td>\n",
       "      <td>0.962411</td>\n",
       "      <td>0.963498</td>\n",
       "    </tr>\n",
       "    <tr>\n",
       "      <td>6</td>\n",
       "      <td>0.056700</td>\n",
       "      <td>0.154477</td>\n",
       "      <td>0.965651</td>\n",
       "      <td>0.967160</td>\n",
       "    </tr>\n",
       "    <tr>\n",
       "      <td>7</td>\n",
       "      <td>0.056700</td>\n",
       "      <td>0.169088</td>\n",
       "      <td>0.963059</td>\n",
       "      <td>0.964051</td>\n",
       "    </tr>\n",
       "    <tr>\n",
       "      <td>8</td>\n",
       "      <td>0.020100</td>\n",
       "      <td>0.164083</td>\n",
       "      <td>0.962411</td>\n",
       "      <td>0.963482</td>\n",
       "    </tr>\n",
       "    <tr>\n",
       "      <td>9</td>\n",
       "      <td>0.020100</td>\n",
       "      <td>0.167933</td>\n",
       "      <td>0.966299</td>\n",
       "      <td>0.967467</td>\n",
       "    </tr>\n",
       "    <tr>\n",
       "      <td>10</td>\n",
       "      <td>0.020100</td>\n",
       "      <td>0.171154</td>\n",
       "      <td>0.963707</td>\n",
       "      <td>0.964760</td>\n",
       "    </tr>\n",
       "  </tbody>\n",
       "</table><p>"
      ]
     },
     "metadata": {},
     "output_type": "display_data"
    },
    {
     "data": {
      "text/plain": [
       "<IPython.core.display.HTML object>"
      ],
      "text/html": []
     },
     "metadata": {},
     "output_type": "display_data"
    },
    {
     "name": "stdout",
     "output_type": "stream",
     "text": [
      "Fold 3 F1 Score: \u001B[32m0.9648\u001B[0m\n",
      "Confusion Matrix:\n",
      " [[1042    1   14    0    0]\n",
      " [   5   78   12    0    0]\n",
      " [  13    1  364    6    0]\n",
      " [   0    0    0    0    0]\n",
      " [   4    0    0    0    3]]\n",
      "              precision    recall  f1-score      support\n",
      "A              0.979323  0.985809  0.982555  1057.000000\n",
      "B              0.975000  0.821053  0.891429    95.000000\n",
      "C              0.933333  0.947917  0.940568   384.000000\n",
      "D              0.000000  0.000000  0.000000     0.000000\n",
      "E              1.000000  0.428571  0.600000     7.000000\n",
      "accuracy       0.963707  0.963707  0.963707     0.963707\n",
      "macro avg      0.777531  0.636670  0.682910  1543.000000\n",
      "weighted avg   0.967706  0.963707  0.964760  1543.000000\n"
     ]
    },
    {
     "name": "stderr",
     "output_type": "stream",
     "text": [
      "E:\\GR2025\\.venv\\Lib\\site-packages\\sklearn\\metrics\\_classification.py:1731: UndefinedMetricWarning: Recall is ill-defined and being set to 0.0 in labels with no true samples. Use `zero_division` parameter to control this behavior.\n",
      "  _warn_prf(average, modifier, f\"{metric.capitalize()} is\", result.shape[0])\n",
      "E:\\GR2025\\.venv\\Lib\\site-packages\\sklearn\\metrics\\_classification.py:1731: UndefinedMetricWarning: Recall is ill-defined and being set to 0.0 in labels with no true samples. Use `zero_division` parameter to control this behavior.\n",
      "  _warn_prf(average, modifier, f\"{metric.capitalize()} is\", result.shape[0])\n",
      "E:\\GR2025\\.venv\\Lib\\site-packages\\sklearn\\metrics\\_classification.py:1731: UndefinedMetricWarning: Recall is ill-defined and being set to 0.0 in labels with no true samples. Use `zero_division` parameter to control this behavior.\n",
      "  _warn_prf(average, modifier, f\"{metric.capitalize()} is\", result.shape[0])\n"
     ]
    },
    {
     "data": {
      "text/plain": [
       "<Figure size 640x480 with 2 Axes>"
      ],
      "image/png": "[encoded data removed]"
     },
     "metadata": {},
     "output_type": "display_data"
    },
    {
     "name": "stdout",
     "output_type": "stream",
     "text": [
      "\u001B[34m[Fold 4 / 5]\u001B[0m\n"
     ]
    },
    {
     "name": "stderr",
     "output_type": "stream",
     "text": [
      "Some weights of ViTForImageClassification were not initialized from the model checkpoint at google/vit-base-patch16-224-in21k and are newly initialized: ['classifier.bias', 'classifier.weight']\n",
      "You should probably TRAIN this model on a down-stream task to be able to use it for predictions and inference.\n",
      "C:\\Users\\ArchWizard7\\AppData\\Local\\Temp\\ipykernel_57324\\3512132755.py:54: FutureWarning: `tokenizer` is deprecated and will be removed in version 5.0.0 for `Trainer.__init__`. Use `processing_class` instead.\n",
      "  trainer = Trainer(\n"
     ]
    },
    {
     "data": {
      "text/plain": [
       "<IPython.core.display.HTML object>"
      ],
      "text/html": [
       "\n",
       "    <div>\n",
       "      \n",
       "      <progress value='1930' max='1930' style='width:300px; height:20px; vertical-align: middle;'></progress>\n",
       "      [1930/1930 17:48, Epoch 10/10]\n",
       "    </div>\n",
       "    <table border=\"1\" class=\"dataframe\">\n",
       "  <thead>\n",
       " <tr style=\"text-align: left;\">\n",
       "      <th>Epoch</th>\n",
       "      <th>Training Loss</th>\n",
       "      <th>Validation Loss</th>\n",
       "      <th>Accuracy</th>\n",
       "      <th>F1</th>\n",
       "    </tr>\n",
       "  </thead>\n",
       "  <tbody>\n",
       "    <tr>\n",
       "      <td>1</td>\n",
       "      <td>No log</td>\n",
       "      <td>0.278427</td>\n",
       "      <td>0.923526</td>\n",
       "      <td>0.918939</td>\n",
       "    </tr>\n",
       "    <tr>\n",
       "      <td>2</td>\n",
       "      <td>No log</td>\n",
       "      <td>0.173704</td>\n",
       "      <td>0.954634</td>\n",
       "      <td>0.952653</td>\n",
       "    </tr>\n",
       "    <tr>\n",
       "      <td>3</td>\n",
       "      <td>0.240300</td>\n",
       "      <td>0.157178</td>\n",
       "      <td>0.960467</td>\n",
       "      <td>0.958646</td>\n",
       "    </tr>\n",
       "    <tr>\n",
       "      <td>4</td>\n",
       "      <td>0.240300</td>\n",
       "      <td>0.165443</td>\n",
       "      <td>0.958522</td>\n",
       "      <td>0.956927</td>\n",
       "    </tr>\n",
       "    <tr>\n",
       "      <td>5</td>\n",
       "      <td>0.240300</td>\n",
       "      <td>0.162438</td>\n",
       "      <td>0.963707</td>\n",
       "      <td>0.962122</td>\n",
       "    </tr>\n",
       "    <tr>\n",
       "      <td>6</td>\n",
       "      <td>0.053600</td>\n",
       "      <td>0.183688</td>\n",
       "      <td>0.957874</td>\n",
       "      <td>0.957374</td>\n",
       "    </tr>\n",
       "    <tr>\n",
       "      <td>7</td>\n",
       "      <td>0.053600</td>\n",
       "      <td>0.180048</td>\n",
       "      <td>0.963059</td>\n",
       "      <td>0.962079</td>\n",
       "    </tr>\n",
       "    <tr>\n",
       "      <td>8</td>\n",
       "      <td>0.021000</td>\n",
       "      <td>0.192379</td>\n",
       "      <td>0.960467</td>\n",
       "      <td>0.959919</td>\n",
       "    </tr>\n",
       "    <tr>\n",
       "      <td>9</td>\n",
       "      <td>0.021000</td>\n",
       "      <td>0.190772</td>\n",
       "      <td>0.959819</td>\n",
       "      <td>0.959268</td>\n",
       "    </tr>\n",
       "    <tr>\n",
       "      <td>10</td>\n",
       "      <td>0.021000</td>\n",
       "      <td>0.191412</td>\n",
       "      <td>0.960467</td>\n",
       "      <td>0.959938</td>\n",
       "    </tr>\n",
       "  </tbody>\n",
       "</table><p>"
      ]
     },
     "metadata": {},
     "output_type": "display_data"
    },
    {
     "data": {
      "text/plain": [
       "<IPython.core.display.HTML object>"
      ],
      "text/html": []
     },
     "metadata": {},
     "output_type": "display_data"
    },
    {
     "name": "stdout",
     "output_type": "stream",
     "text": [
      "Fold 4 F1 Score: \u001B[32m0.9599\u001B[0m\n",
      "Confusion Matrix:\n",
      " [[1051    1   11    0    0]\n",
      " [   2   68    7    0    0]\n",
      " [  26    7  361    3    0]\n",
      " [   0    0    4    1    0]\n",
      " [   0    0    0    0    1]]\n",
      "              precision    recall  f1-score      support\n",
      "A              0.974050  0.988711  0.981326  1063.000000\n",
      "B              0.894737  0.883117  0.888889    77.000000\n",
      "C              0.942559  0.909320  0.925641   397.000000\n",
      "D              0.250000  0.200000  0.222222     5.000000\n",
      "E              1.000000  1.000000  1.000000     1.000000\n",
      "accuracy       0.960467  0.960467  0.960467     0.960467\n",
      "macro avg      0.812269  0.796230  0.803616  1543.000000\n",
      "weighted avg   0.959660  0.960467  0.959938  1543.000000\n"
     ]
    },
    {
     "data": {
      "text/plain": [
       "<Figure size 640x480 with 2 Axes>"
      ],
      "image/png": "[encoded data removed]"
     },
     "metadata": {},
     "output_type": "display_data"
    },
    {
     "name": "stdout",
     "output_type": "stream",
     "text": [
      "\u001B[34m[Fold 5 / 5]\u001B[0m\n"
     ]
    },
    {
     "name": "stderr",
     "output_type": "stream",
     "text": [
      "Some weights of ViTForImageClassification were not initialized from the model checkpoint at google/vit-base-patch16-224-in21k and are newly initialized: ['classifier.bias', 'classifier.weight']\n",
      "You should probably TRAIN this model on a down-stream task to be able to use it for predictions and inference.\n",
      "C:\\Users\\ArchWizard7\\AppData\\Local\\Temp\\ipykernel_57324\\3512132755.py:54: FutureWarning: `tokenizer` is deprecated and will be removed in version 5.0.0 for `Trainer.__init__`. Use `processing_class` instead.\n",
      "  trainer = Trainer(\n"
     ]
    },
    {
     "data": {
      "text/plain": [
       "<IPython.core.display.HTML object>"
      ],
      "text/html": [
       "\n",
       "    <div>\n",
       "      \n",
       "      <progress value='1930' max='1930' style='width:300px; height:20px; vertical-align: middle;'></progress>\n",
       "      [1930/1930 17:50, Epoch 10/10]\n",
       "    </div>\n",
       "    <table border=\"1\" class=\"dataframe\">\n",
       "  <thead>\n",
       " <tr style=\"text-align: left;\">\n",
       "      <th>Epoch</th>\n",
       "      <th>Training Loss</th>\n",
       "      <th>Validation Loss</th>\n",
       "      <th>Accuracy</th>\n",
       "      <th>F1</th>\n",
       "    </tr>\n",
       "  </thead>\n",
       "  <tbody>\n",
       "    <tr>\n",
       "      <td>1</td>\n",
       "      <td>No log</td>\n",
       "      <td>0.194869</td>\n",
       "      <td>0.954634</td>\n",
       "      <td>0.951695</td>\n",
       "    </tr>\n",
       "    <tr>\n",
       "      <td>2</td>\n",
       "      <td>No log</td>\n",
       "      <td>0.131025</td>\n",
       "      <td>0.968244</td>\n",
       "      <td>0.966308</td>\n",
       "    </tr>\n",
       "    <tr>\n",
       "      <td>3</td>\n",
       "      <td>0.236200</td>\n",
       "      <td>0.123039</td>\n",
       "      <td>0.966948</td>\n",
       "      <td>0.965107</td>\n",
       "    </tr>\n",
       "    <tr>\n",
       "      <td>4</td>\n",
       "      <td>0.236200</td>\n",
       "      <td>0.153913</td>\n",
       "      <td>0.964355</td>\n",
       "      <td>0.962454</td>\n",
       "    </tr>\n",
       "    <tr>\n",
       "      <td>5</td>\n",
       "      <td>0.236200</td>\n",
       "      <td>0.113099</td>\n",
       "      <td>0.972132</td>\n",
       "      <td>0.971250</td>\n",
       "    </tr>\n",
       "    <tr>\n",
       "      <td>6</td>\n",
       "      <td>0.057000</td>\n",
       "      <td>0.139341</td>\n",
       "      <td>0.964355</td>\n",
       "      <td>0.964396</td>\n",
       "    </tr>\n",
       "    <tr>\n",
       "      <td>7</td>\n",
       "      <td>0.057000</td>\n",
       "      <td>0.098493</td>\n",
       "      <td>0.978613</td>\n",
       "      <td>0.977473</td>\n",
       "    </tr>\n",
       "    <tr>\n",
       "      <td>8</td>\n",
       "      <td>0.023500</td>\n",
       "      <td>0.101293</td>\n",
       "      <td>0.975373</td>\n",
       "      <td>0.974345</td>\n",
       "    </tr>\n",
       "    <tr>\n",
       "      <td>9</td>\n",
       "      <td>0.023500</td>\n",
       "      <td>0.094990</td>\n",
       "      <td>0.977317</td>\n",
       "      <td>0.976259</td>\n",
       "    </tr>\n",
       "    <tr>\n",
       "      <td>10</td>\n",
       "      <td>0.023500</td>\n",
       "      <td>0.096293</td>\n",
       "      <td>0.977965</td>\n",
       "      <td>0.976908</td>\n",
       "    </tr>\n",
       "  </tbody>\n",
       "</table><p>"
      ]
     },
     "metadata": {},
     "output_type": "display_data"
    },
    {
     "data": {
      "text/plain": [
       "<IPython.core.display.HTML object>"
      ],
      "text/html": []
     },
     "metadata": {},
     "output_type": "display_data"
    },
    {
     "name": "stdout",
     "output_type": "stream",
     "text": [
      "Fold 5 F1 Score: \u001B[32m0.9769\u001B[0m\n",
      "Confusion Matrix:\n",
      " [[1050    3    8    0    0]\n",
      " [   2   80   10    0    0]\n",
      " [   7    1  376    0    0]\n",
      " [   0    0    3    0    0]\n",
      " [   0    0    0    0    3]]\n",
      "              precision    recall  f1-score      support\n",
      "A              0.991501  0.989632  0.990566  1061.000000\n",
      "B              0.952381  0.869565  0.909091    92.000000\n",
      "C              0.947103  0.979167  0.962868   384.000000\n",
      "D              0.000000  0.000000  0.000000     3.000000\n",
      "E              1.000000  1.000000  1.000000     3.000000\n",
      "accuracy       0.977965  0.977965  0.977965     0.977965\n",
      "macro avg      0.778197  0.767673  0.772505  1543.000000\n",
      "weighted avg   0.976208  0.977965  0.976908  1543.000000\n"
     ]
    },
    {
     "name": "stderr",
     "output_type": "stream",
     "text": [
      "E:\\GR2025\\.venv\\Lib\\site-packages\\sklearn\\metrics\\_classification.py:1731: UndefinedMetricWarning: Precision is ill-defined and being set to 0.0 in labels with no predicted samples. Use `zero_division` parameter to control this behavior.\n",
      "  _warn_prf(average, modifier, f\"{metric.capitalize()} is\", result.shape[0])\n",
      "E:\\GR2025\\.venv\\Lib\\site-packages\\sklearn\\metrics\\_classification.py:1731: UndefinedMetricWarning: Precision is ill-defined and being set to 0.0 in labels with no predicted samples. Use `zero_division` parameter to control this behavior.\n",
      "  _warn_prf(average, modifier, f\"{metric.capitalize()} is\", result.shape[0])\n",
      "E:\\GR2025\\.venv\\Lib\\site-packages\\sklearn\\metrics\\_classification.py:1731: UndefinedMetricWarning: Precision is ill-defined and being set to 0.0 in labels with no predicted samples. Use `zero_division` parameter to control this behavior.\n",
      "  _warn_prf(average, modifier, f\"{metric.capitalize()} is\", result.shape[0])\n"
     ]
    },
    {
     "data": {
      "text/plain": [
       "<Figure size 640x480 with 2 Axes>"
      ],
      "image/png": "[encoded data removed]"
     },
     "metadata": {},
     "output_type": "display_data"
    },
    {
     "name": "stdout",
     "output_type": "stream",
     "text": [
      "\n",
      "Average F1 Score: 0.9692644063655467\n",
      "Confusion Matrix:\n",
      " [[5233   10   59    0    0]\n",
      " [  25  393   36    0    0]\n",
      " [  67   11 1841   10    0]\n",
      " [   0    0   12    1    0]\n",
      " [   4    0    0    0   14]]\n"
     ]
    }
   ],
   "execution_count": 4
  }
 ],
 "metadata": {
  "kernelspec": {
   "display_name": "Python 3 (ipykernel)",
   "language": "python",
   "name": "python3"
  },
  "language_info": {
   "codemirror_mode": {
    "name": "ipython",
    "version": 3
   },
   "file_extension": ".py",
   "mimetype": "text/x-python",
   "name": "python",
   "nbconvert_exporter": "python",
   "pygments_lexer": "ipython3",
   "version": "3.13.3"
  }
 },
 "nbformat": 4,
 "nbformat_minor": 5
}
