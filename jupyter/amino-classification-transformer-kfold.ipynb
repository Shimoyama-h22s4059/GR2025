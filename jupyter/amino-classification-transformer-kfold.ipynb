{
 "cells": [
  {
   "cell_type": "markdown",
   "id": "77ee9b7a25aaeddf",
   "metadata": {},
   "source": [
    "# アミノ酸配列のグラフ表示画像のTransformerによるタンパク質ファミリー分類（5分割交差検証）"
   ]
  },
  {
   "cell_type": "markdown",
   "id": "70840541844d7ece",
   "metadata": {},
   "source": [
    "## 1. 画像とラベルの対応を取る `Dataset` を作成"
   ]
  },
  {
   "cell_type": "code",
   "id": "initial_id",
   "metadata": {
    "collapsed": true,
    "jupyter": {
     "outputs_hidden": true
    },
    "ExecuteTime": {
     "end_time": "2025-07-31T11:06:38.725102Z",
     "start_time": "2025-07-31T11:06:32.276825Z"
    }
   },
   "source": [
    "from torch.utils.data import Dataset\n",
    "from PIL import Image\n",
    "\n",
    "import os\n",
    "\n",
    "label2id = {\"A\": 0, \"B\": 1, \"C\": 2, \"D\": 3, \"E\": 4}\n",
    "id2label = {v: k for k, v in label2id.items()}\n",
    "\n",
    "class GPCRImageDataset(Dataset):\n",
    "    def __init__(self, csv_path, img_dir, transform=None):\n",
    "        self.data = pd.read_csv(csv_path, header=None, names=[\"num\", \"label\", \"accession\"])\n",
    "        self.img_dir = img_dir\n",
    "        self.transform = transform\n",
    "\n",
    "    def __len__(self):\n",
    "        return len(self.data)\n",
    "\n",
    "    def __getitem__(self, idx):\n",
    "        row = self.data.iloc[idx]\n",
    "        img_path = os.path.join(self.img_dir, f\"{row['num']}.png\")\n",
    "        image = Image.open(img_path).convert(\"RGB\")\n",
    "        label = label2id[row[\"label\"]]\n",
    "\n",
    "        if self.transform:\n",
    "            image = self.transform(image)\n",
    "\n",
    "        return {\n",
    "            \"pixel_values\": image,\n",
    "            \"label\": label\n",
    "        }"
   ],
   "outputs": [],
   "execution_count": 1
  },
  {
   "cell_type": "markdown",
   "id": "41059fcff6fe9730",
   "metadata": {},
   "source": [
    "## 2. 画像前処理（ViT用）"
   ]
  },
  {
   "cell_type": "code",
   "id": "9e201e85617b406f",
   "metadata": {
    "ExecuteTime": {
     "end_time": "2025-07-31T11:06:54.208314Z",
     "start_time": "2025-07-31T11:06:46.237774Z"
    }
   },
   "source": [
    "from torchvision.transforms import Compose, Resize, ToTensor, Normalize\n",
    "# from transformers import AutoImageProcessor\n",
    "from transformers import ViTImageProcessorFast, ViTForImageClassification\n",
    "\n",
    "processor = ViTImageProcessorFast.from_pretrained(\"google/vit-base-patch16-224-in21k\")\n",
    "transform = Compose([\n",
    "    Resize((224, 224)),\n",
    "    ToTensor(),\n",
    "    Normalize(mean=processor.image_mean, std=processor.image_std)\n",
    "])"
   ],
   "outputs": [],
   "execution_count": 2
  },
  {
   "cell_type": "markdown",
   "id": "9923a9de9fcc34d3",
   "metadata": {},
   "source": [
    "## 3. `Trainer` を使って学習"
   ]
  },
  {
   "cell_type": "code",
   "id": "5dc3bdc2aeae531c",
   "metadata": {
    "ExecuteTime": {
     "end_time": "2025-07-31T14:39:17.454557Z",
     "start_time": "2025-07-31T13:08:56.528790Z"
    }
   },
   "source": [
    "from transformers import TrainingArguments, Trainer\n",
    "import matplotlib.pyplot as plt\n",
    "import numpy as np\n",
    "import evaluate\n",
    "from sklearn.model_selection import KFold\n",
    "from sklearn.metrics import classification_report, confusion_matrix, f1_score, ConfusionMatrixDisplay\n",
    "from torch.utils.data import Subset\n",
    "import pandas as pd\n",
    "\n",
    "accuracy = evaluate.load(\"accuracy\")\n",
    "\n",
    "# 5分割交差検証の設定\n",
    "kfold = KFold(n_splits=5, shuffle=True, random_state=42)\n",
    "\n",
    "dataset = GPCRImageDataset(\"../gpcr_labels.csv\", \"../graphs\", transform=transform)\n",
    "\n",
    "all_f1_scores = []\n",
    "all_conf_matrices = []\n",
    "\n",
    "for fold, (train_idx, val_idx) in enumerate(kfold.split(dataset)):\n",
    "    print(f\"\\033[34m[Fold {fold+1} / 5]\\033[0m\")\n",
    "\n",
    "    # Subset 作成\n",
    "    train_dataset = Subset(dataset, train_idx)\n",
    "    val_dataset = Subset(dataset, val_idx)\n",
    "\n",
    "    # モデルを毎回初期化\n",
    "    model = ViTForImageClassification.from_pretrained(\n",
    "        \"google/vit-base-patch16-224-in21k\",\n",
    "        num_labels=5,\n",
    "        id2label=id2label,\n",
    "        label2id=label2id\n",
    "    )\n",
    "\n",
    "    training_args = TrainingArguments(\n",
    "        output_dir=f\"./vit-gpcr-fold{fold}\",\n",
    "        per_device_train_batch_size=32,\n",
    "        eval_strategy=\"epoch\",\n",
    "        save_strategy=\"epoch\",\n",
    "        num_train_epochs=10,\n",
    "        logging_dir=\"./logs\",\n",
    "        report_to=\"none\"\n",
    "    )\n",
    "\n",
    "    def compute_metrics(eval_pred):\n",
    "        logits, labels = eval_pred\n",
    "        preds = np.argmax(logits, axis=-1)\n",
    "        f1 = f1_score(labels, preds, average=\"weighted\")\n",
    "        return {\n",
    "            \"accuracy\": accuracy.compute(predictions=preds, references=labels)[\"accuracy\"],\n",
    "            \"f1\": f1\n",
    "        }\n",
    "\n",
    "    trainer = Trainer(\n",
    "        model=model,\n",
    "        args=training_args,\n",
    "        train_dataset=train_dataset,\n",
    "        eval_dataset=val_dataset,\n",
    "        tokenizer=processor,\n",
    "        compute_metrics=compute_metrics\n",
    "    )\n",
    "\n",
    "    trainer.train()\n",
    "\n",
    "    # 推論 & 評価\n",
    "    preds = trainer.predict(val_dataset)\n",
    "    y_true = preds.label_ids\n",
    "    y_pred = np.argmax(preds.predictions, axis=1)\n",
    "\n",
    "    # ラベルIDのリストを明示的に渡す\n",
    "    label_ids = list(range(len(label2id)))  # [0, 1, 2, 3, 4]\n",
    "    display_names = list(label2id.keys())  # [\"A\", \"B\", \"C\", \"D\", \"E\"]\n",
    "\n",
    "    f1 = f1_score(y_true, y_pred, average=\"weighted\")\n",
    "    cm = confusion_matrix(y_true, y_pred, labels=label_ids)\n",
    "\n",
    "    report = classification_report(y_true, y_pred, target_names=display_names, output_dict=True)\n",
    "    report_df = pd.DataFrame(report).T\n",
    "\n",
    "    print(f\"Fold {fold+1} F1 Score: \\033[32m{f1:.4f}\\033[0m\")\n",
    "    print(\"Confusion Matrix:\\n\", cm)\n",
    "    print(report_df)\n",
    "\n",
    "    all_f1_scores.append(f1)\n",
    "    all_conf_matrices.append(cm)\n",
    "\n",
    "    # 混同行列を可視化\n",
    "    disp = ConfusionMatrixDisplay(confusion_matrix=cm, display_labels=display_names)\n",
    "    disp.plot(cmap=\"Blues\")\n",
    "    plt.title(f\"Confusion Matrix - Fold {fold+1}\")\n",
    "    plt.show()\n",
    "\n",
    "# 最終結果をまとめる\n",
    "print(\"\\nAverage F1 Score:\", np.mean(all_f1_scores))\n",
    "print(\"Confusion Matrix:\\n\", sum(all_conf_matrices))"
   ],
   "outputs": [
    {
     "name": "stdout",
     "output_type": "stream",
     "text": [
      "\u001B[34m[Fold 1 / 5]\u001B[0m\n"
     ]
    },
    {
     "name": "stderr",
     "output_type": "stream",
     "text": [
      "Some weights of ViTForImageClassification were not initialized from the model checkpoint at google/vit-base-patch16-224-in21k and are newly initialized: ['classifier.bias', 'classifier.weight']\n",
      "You should probably TRAIN this model on a down-stream task to be able to use it for predictions and inference.\n",
      "C:\\Users\\ArchWizard7\\AppData\\Local\\Temp\\ipykernel_57324\\3512132755.py:54: FutureWarning: `tokenizer` is deprecated and will be removed in version 5.0.0 for `Trainer.__init__`. Use `processing_class` instead.\n",
      "  trainer = Trainer(\n"
     ]
    },
    {
     "data": {
      "text/plain": [
       "<IPython.core.display.HTML object>"
      ],
      "text/html": [
       "\n",
       "    <div>\n",
       "      \n",
       "      <progress value='1930' max='1930' style='width:300px; height:20px; vertical-align: middle;'></progress>\n",
       "      [1930/1930 17:53, Epoch 10/10]\n",
       "    </div>\n",
       "    <table border=\"1\" class=\"dataframe\">\n",
       "  <thead>\n",
       " <tr style=\"text-align: left;\">\n",
       "      <th>Epoch</th>\n",
       "      <th>Training Loss</th>\n",
       "      <th>Validation Loss</th>\n",
       "      <th>Accuracy</th>\n",
       "      <th>F1</th>\n",
       "    </tr>\n",
       "  </thead>\n",
       "  <tbody>\n",
       "    <tr>\n",
       "      <td>1</td>\n",
       "      <td>No log</td>\n",
       "      <td>0.215784</td>\n",
       "      <td>0.946244</td>\n",
       "      <td>0.945260</td>\n",
       "    </tr>\n",
       "    <tr>\n",
       "      <td>2</td>\n",
       "      <td>No log</td>\n",
       "      <td>0.165753</td>\n",
       "      <td>0.951425</td>\n",
       "      <td>0.949727</td>\n",
       "    </tr>\n",
       "    <tr>\n",
       "      <td>3</td>\n",
       "      <td>0.247600</td>\n",
       "      <td>0.139117</td>\n",
       "      <td>0.968912</td>\n",
       "      <td>0.966264</td>\n",
       "    </tr>\n",
       "    <tr>\n",
       "      <td>4</td>\n",
       "      <td>0.247600</td>\n",
       "      <td>0.102585</td>\n",
       "      <td>0.977332</td>\n",
       "      <td>0.976191</td>\n",
       "    </tr>\n",
       "    <tr>\n",
       "      <td>5</td>\n",
       "      <td>0.247600</td>\n",
       "      <td>0.096053</td>\n",
       "      <td>0.977332</td>\n",
       "      <td>0.976416</td>\n",
       "    </tr>\n",
       "    <tr>\n",
       "      <td>6</td>\n",
       "      <td>0.056500</td>\n",
       "      <td>0.099765</td>\n",
       "      <td>0.974093</td>\n",
       "      <td>0.972930</td>\n",
       "    </tr>\n",
       "    <tr>\n",
       "      <td>7</td>\n",
       "      <td>0.056500</td>\n",
       "      <td>0.107639</td>\n",
       "      <td>0.970855</td>\n",
       "      <td>0.970303</td>\n",
       "    </tr>\n",
       "    <tr>\n",
       "      <td>8</td>\n",
       "      <td>0.024500</td>\n",
       "      <td>0.093316</td>\n",
       "      <td>0.978627</td>\n",
       "      <td>0.978451</td>\n",
       "    </tr>\n",
       "    <tr>\n",
       "      <td>9</td>\n",
       "      <td>0.024500</td>\n",
       "      <td>0.099368</td>\n",
       "      <td>0.973446</td>\n",
       "      <td>0.972993</td>\n",
       "    </tr>\n",
       "    <tr>\n",
       "      <td>10</td>\n",
       "      <td>0.024500</td>\n",
       "      <td>0.103395</td>\n",
       "      <td>0.972798</td>\n",
       "      <td>0.972314</td>\n",
       "    </tr>\n",
       "  </tbody>\n",
       "</table><p>"
      ]
     },
     "metadata": {},
     "output_type": "display_data"
    },
    {
     "data": {
      "text/plain": [
       "<IPython.core.display.HTML object>"
      ],
      "text/html": []
     },
     "metadata": {},
     "output_type": "display_data"
    },
    {
     "name": "stdout",
     "output_type": "stream",
     "text": [
      "Fold 1 F1 Score: \u001B[32m0.9723\u001B[0m\n",
      "Confusion Matrix:\n",
      " [[1040    2   14    0    0]\n",
      " [   9   81    4    0    0]\n",
      " [  10    1  377    0    0]\n",
      " [   0    0    2    1    0]\n",
      " [   0    0    0    0    3]]\n",
      "              precision    recall  f1-score      support\n",
      "A              0.982059  0.984848  0.983452  1056.000000\n",
      "B              0.964286  0.861702  0.910112    94.000000\n",
      "C              0.949622  0.971649  0.960510   388.000000\n",
      "D              1.000000  0.333333  0.500000     3.000000\n",
      "E              1.000000  1.000000  1.000000     3.000000\n",
      "accuracy       0.972798  0.972798  0.972798     0.972798\n",
      "macro avg      0.979193  0.830307  0.870815  1544.000000\n",
      "weighted avg   0.972895  0.972798  0.972314  1544.000000\n"
     ]
    },
    {
     "data": {
      "text/plain": [
       "<Figure size 640x480 with 2 Axes>"
      ],
      "image/png": "[encoded data removed]"
     },
     "metadata": {},
     "output_type": "display_data"
    },
    {
     "name": "stdout",
     "output_type": "stream",
     "text": [
      "\u001B[34m[Fold 2 / 5]\u001B[0m\n"
     ]
    },
    {
     "name": "stderr",
     "output_type": "stream",
     "text": [
      "Some weights of ViTForImageClassification were not initialized from the model checkpoint at google/vit-base-patch16-224-in21k and are newly initialized: ['classifier.bias', 'classifier.weight']\n",
      "You should probably TRAIN this model on a down-stream task to be able to use it for predictions and inference.\n",
      "C:\\Users\\ArchWizard7\\AppData\\Local\\Temp\\ipykernel_57324\\3512132755.py:54: FutureWarning: `tokenizer` is deprecated and will be removed in version 5.0.0 for `Trainer.__init__`. Use `processing_class` instead.\n",
      "  trainer = Trainer(\n"
     ]
    },
    {
     "data": {
      "text/plain": [
       "<IPython.core.display.HTML object>"
      ],
      "text/html": [
       "\n",
       "    <div>\n",
       "      \n",
       "      <progress value='1930' max='1930' style='width:300px; height:20px; vertical-align: middle;'></progress>\n",
       "      [1930/1930 18:07, Epoch 10/10]\n",
       "    </div>\n",
       "    <table border=\"1\" class=\"dataframe\">\n",
       "  <thead>\n",
       " <tr style=\"text-align: left;\">\n",
       "      <th>Epoch</th>\n",
       "      <th>Training Loss</th>\n",
       "      <th>Validation Loss</th>\n",
       "      <th>Accuracy</th>\n",
       "      <th>F1</th>\n",
       "    </tr>\n",
       "  </thead>\n",
       "  <tbody>\n",
       "    <tr>\n",
       "      <td>1</td>\n",
       "      <td>No log</td>\n",
       "      <td>0.196075</td>\n",
       "      <td>0.953338</td>\n",
       "      <td>0.951237</td>\n",
       "    </tr>\n",
       "    <tr>\n",
       "      <td>2</td>\n",
       "      <td>No log</td>\n",
       "      <td>0.190965</td>\n",
       "      <td>0.950097</td>\n",
       "      <td>0.947721</td>\n",
       "    </tr>\n",
       "    <tr>\n",
       "      <td>3</td>\n",
       "      <td>0.234300</td>\n",
       "      <td>0.189736</td>\n",
       "      <td>0.955282</td>\n",
       "      <td>0.953582</td>\n",
       "    </tr>\n",
       "    <tr>\n",
       "      <td>4</td>\n",
       "      <td>0.234300</td>\n",
       "      <td>0.137840</td>\n",
       "      <td>0.968244</td>\n",
       "      <td>0.967693</td>\n",
       "    </tr>\n",
       "    <tr>\n",
       "      <td>5</td>\n",
       "      <td>0.234300</td>\n",
       "      <td>0.166964</td>\n",
       "      <td>0.964355</td>\n",
       "      <td>0.963272</td>\n",
       "    </tr>\n",
       "    <tr>\n",
       "      <td>6</td>\n",
       "      <td>0.052600</td>\n",
       "      <td>0.148083</td>\n",
       "      <td>0.967596</td>\n",
       "      <td>0.967048</td>\n",
       "    </tr>\n",
       "    <tr>\n",
       "      <td>7</td>\n",
       "      <td>0.052600</td>\n",
       "      <td>0.181435</td>\n",
       "      <td>0.962411</td>\n",
       "      <td>0.961321</td>\n",
       "    </tr>\n",
       "    <tr>\n",
       "      <td>8</td>\n",
       "      <td>0.020300</td>\n",
       "      <td>0.168947</td>\n",
       "      <td>0.965651</td>\n",
       "      <td>0.964971</td>\n",
       "    </tr>\n",
       "    <tr>\n",
       "      <td>9</td>\n",
       "      <td>0.020300</td>\n",
       "      <td>0.170969</td>\n",
       "      <td>0.966299</td>\n",
       "      <td>0.965671</td>\n",
       "    </tr>\n",
       "    <tr>\n",
       "      <td>10</td>\n",
       "      <td>0.020300</td>\n",
       "      <td>0.170248</td>\n",
       "      <td>0.966299</td>\n",
       "      <td>0.965671</td>\n",
       "    </tr>\n",
       "  </tbody>\n",
       "</table><p>"
      ]
     },
     "metadata": {},
     "output_type": "display_data"
    },
    {
     "data": {
      "text/plain": [
       "<IPython.core.display.HTML object>"
      ],
      "text/html": []
     },
     "metadata": {},
     "output_type": "display_data"
    },
    {
     "name": "stdout",
     "output_type": "stream",
     "text": [
      "Fold 2 F1 Score: \u001B[32m0.9657\u001B[0m\n",
      "Confusion Matrix:\n",
      " [[1046    2   17    0    0]\n",
      " [  12   80    4    0    0]\n",
      " [  11    2  362    1    0]\n",
      " [   0    0    2    0    0]\n",
      " [   1    0    0    0    3]]\n",
      "              precision    recall  f1-score      support\n",
      "A              0.977570  0.982160  0.979859  1065.000000\n",
      "B              0.952381  0.833333  0.888889    96.000000\n",
      "C              0.940260  0.962766  0.951380   376.000000\n",
      "D              0.000000  0.000000  0.000000     2.000000\n",
      "E              1.000000  0.750000  0.857143     4.000000\n",
      "accuracy       0.966299  0.966299  0.966299     0.966299\n",
      "macro avg      0.774042  0.705652  0.735454  1543.000000\n",
      "weighted avg   0.965702  0.966299  0.965671  1543.000000\n"
     ]
    },
    {
     "data": {
      "text/plain": [
       "<Figure size 640x480 with 2 Axes>"
      ],
      "image/png": "[encoded data removed]"
     },
     "metadata": {},
     "output_type": "display_data"
    },
    {
     "name": "stdout",
     "output_type": "stream",
     "text": [
      "\u001B[34m[Fold 3 / 5]\u001B[0m\n"
     ]
    },
    {
     "name": "stderr",
     "output_type": "stream",
     "text": [
      "Some weights of ViTForImageClassification were not initialized from the model checkpoint at google/vit-base-patch16-224-in21k and are newly initialized: ['classifier.bias', 'classifier.weight']\n",
      "You should probably TRAIN this model on a down-stream task to be able to use it for predictions and inference.\n",
      "C:\\Users\\ArchWizard7\\AppData\\Local\\Temp\\ipykernel_57324\\3512132755.py:54: FutureWarning: `tokenizer` is deprecated and will be removed in version 5.0.0 for `Trainer.__init__`. Use `processing_class` instead.\n",
      "  trainer = Trainer(\n"
     ]
    },
    {
     "data": {
      "text/plain": [
       "<IPython.core.display.HTML object>"
      ],
      "text/html": [
       "\n",
       "    <div>\n",
       "      \n",
       "      <progress value='1930' max='1930' style='width:300px; height:20px; vertical-align: middle;'></progress>\n",
       "      [1930/1930 17:51, Epoch 10/10]\n",
       "    </div>\n",
       "    <table border=\"1\" class=\"dataframe\">\n",
       "  <thead>\n",
       " <tr style=\"text-align: left;\">\n",
       "      <th>Epoch</th>\n",
       "      <th>Training Loss</th>\n",
       "      <th>Validation Loss</th>\n",
       "      <th>Accuracy</th>\n",
       "      <th>F1</th>\n",
       "    </tr>\n",
       "  </thead>\n",
       "  <tbody>\n",
       "    <tr>\n",
       "      <td>1</td>\n",
       "      <td>No log</td>\n",
       "      <td>0.243378</td>\n",
       "      <td>0.931951</td>\n",
       "      <td>0.930312</td>\n",
       "    </tr>\n",
       "    <tr>\n",
       "      <td>2</td>\n",
       "      <td>No log</td>\n",
       "      <td>0.166325</td>\n",
       "      <td>0.957226</td>\n",
       "      <td>0.954282</td>\n",
       "    </tr>\n",
       "    <tr>\n",
       "      <td>3</td>\n",
       "      <td>0.232800</td>\n",
       "      <td>0.170862</td>\n",
       "      <td>0.955930</td>\n",
       "      <td>0.953084</td>\n",
       "    </tr>\n",
       "    <tr>\n",
       "      <td>4</td>\n",
       "      <td>0.232800</td>\n",
       "      <td>0.169943</td>\n",
       "      <td>0.962411</td>\n",
       "      <td>0.961603</td>\n",
       "    </tr>\n",
       "    <tr>\n",
       "      <td>5</td>\n",
       "      <td>0.232800</td>\n",
       "      <td>0.158680</td>\n",
       "      <td>0.964355</td>\n",
       "      <td>0.965472</td>\n",
       "    </tr>\n",
       "    <tr>\n",
       "      <td>6</td>\n",
       "      <td>0.051100</td>\n",
       "      <td>0.156728</td>\n",
       "      <td>0.965003</td>\n",
       "      <td>0.966583</td>\n",
       "    </tr>\n",
       "    <tr>\n",
       "      <td>7</td>\n",
       "      <td>0.051100</td>\n",
       "      <td>0.176690</td>\n",
       "      <td>0.961763</td>\n",
       "      <td>0.962472</td>\n",
       "    </tr>\n",
       "    <tr>\n",
       "      <td>8</td>\n",
       "      <td>0.020800</td>\n",
       "      <td>0.162773</td>\n",
       "      <td>0.963707</td>\n",
       "      <td>0.965453</td>\n",
       "    </tr>\n",
       "    <tr>\n",
       "      <td>9</td>\n",
       "      <td>0.020800</td>\n",
       "      <td>0.168091</td>\n",
       "      <td>0.964355</td>\n",
       "      <td>0.965194</td>\n",
       "    </tr>\n",
       "    <tr>\n",
       "      <td>10</td>\n",
       "      <td>0.020800</td>\n",
       "      <td>0.172397</td>\n",
       "      <td>0.963059</td>\n",
       "      <td>0.964853</td>\n",
       "    </tr>\n",
       "  </tbody>\n",
       "</table><p>"
      ]
     },
     "metadata": {},
     "output_type": "display_data"
    },
    {
     "data": {
      "text/plain": [
       "<IPython.core.display.HTML object>"
      ],
      "text/html": []
     },
     "metadata": {},
     "output_type": "display_data"
    },
    {
     "name": "stdout",
     "output_type": "stream",
     "text": [
      "Fold 3 F1 Score: \u001B[32m0.9649\u001B[0m\n",
      "Confusion Matrix:\n",
      " [[1043    0   14    0    0]\n",
      " [   7   74   14    0    0]\n",
      " [  11    1  366    6    0]\n",
      " [   0    0    0    0    0]\n",
      " [   0    0    1    3    3]]\n",
      "              precision    recall  f1-score      support\n",
      "A              0.983035  0.986755  0.984891  1057.000000\n",
      "B              0.986667  0.778947  0.870588    95.000000\n",
      "C              0.926582  0.953125  0.939666   384.000000\n",
      "D              0.000000  0.000000  0.000000     0.000000\n",
      "E              1.000000  0.428571  0.600000     7.000000\n",
      "accuracy       0.963059  0.963059  0.963059     0.963059\n",
      "macro avg      0.779257  0.629480  0.679029  1543.000000\n",
      "weighted avg   0.969286  0.963059  0.964853  1543.000000\n"
     ]
    },
    {
     "name": "stderr",
     "output_type": "stream",
     "text": [
      "E:\\GR2025\\.venv\\Lib\\site-packages\\sklearn\\metrics\\_classification.py:1731: UndefinedMetricWarning: Recall is ill-defined and being set to 0.0 in labels with no true samples. Use `zero_division` parameter to control this behavior.\n",
      "  _warn_prf(average, modifier, f\"{metric.capitalize()} is\", result.shape[0])\n",
      "E:\\GR2025\\.venv\\Lib\\site-packages\\sklearn\\metrics\\_classification.py:1731: UndefinedMetricWarning: Recall is ill-defined and being set to 0.0 in labels with no true samples. Use `zero_division` parameter to control this behavior.\n",
      "  _warn_prf(average, modifier, f\"{metric.capitalize()} is\", result.shape[0])\n",
      "E:\\GR2025\\.venv\\Lib\\site-packages\\sklearn\\metrics\\_classification.py:1731: UndefinedMetricWarning: Recall is ill-defined and being set to 0.0 in labels with no true samples. Use `zero_division` parameter to control this behavior.\n",
      "  _warn_prf(average, modifier, f\"{metric.capitalize()} is\", result.shape[0])\n"
     ]
    },
    {
     "data": {
      "text/plain": [
       "<Figure size 640x480 with 2 Axes>"
      ],
      "image/png": "[encoded data removed]"
     },
     "metadata": {},
     "output_type": "display_data"
    },
    {
     "name": "stdout",
     "output_type": "stream",
     "text": [
      "\u001B[34m[Fold 4 / 5]\u001B[0m\n"
     ]
    },
    {
     "name": "stderr",
     "output_type": "stream",
     "text": [
      "Some weights of ViTForImageClassification were not initialized from the model checkpoint at google/vit-base-patch16-224-in21k and are newly initialized: ['classifier.bias', 'classifier.weight']\n",
      "You should probably TRAIN this model on a down-stream task to be able to use it for predictions and inference.\n",
      "C:\\Users\\ArchWizard7\\AppData\\Local\\Temp\\ipykernel_57324\\3512132755.py:54: FutureWarning: `tokenizer` is deprecated and will be removed in version 5.0.0 for `Trainer.__init__`. Use `processing_class` instead.\n",
      "  trainer = Trainer(\n"
     ]
    },
    {
     "data": {
      "text/plain": [
       "<IPython.core.display.HTML object>"
      ],
      "text/html": [
       "\n",
       "    <div>\n",
       "      \n",
       "      <progress value='1930' max='1930' style='width:300px; height:20px; vertical-align: middle;'></progress>\n",
       "      [1930/1930 17:45, Epoch 10/10]\n",
       "    </div>\n",
       "    <table border=\"1\" class=\"dataframe\">\n",
       "  <thead>\n",
       " <tr style=\"text-align: left;\">\n",
       "      <th>Epoch</th>\n",
       "      <th>Training Loss</th>\n",
       "      <th>Validation Loss</th>\n",
       "      <th>Accuracy</th>\n",
       "      <th>F1</th>\n",
       "    </tr>\n",
       "  </thead>\n",
       "  <tbody>\n",
       "    <tr>\n",
       "      <td>1</td>\n",
       "      <td>No log</td>\n",
       "      <td>0.222571</td>\n",
       "      <td>0.946209</td>\n",
       "      <td>0.943655</td>\n",
       "    </tr>\n",
       "    <tr>\n",
       "      <td>2</td>\n",
       "      <td>No log</td>\n",
       "      <td>0.185037</td>\n",
       "      <td>0.946209</td>\n",
       "      <td>0.945237</td>\n",
       "    </tr>\n",
       "    <tr>\n",
       "      <td>3</td>\n",
       "      <td>0.237700</td>\n",
       "      <td>0.178658</td>\n",
       "      <td>0.952690</td>\n",
       "      <td>0.950266</td>\n",
       "    </tr>\n",
       "    <tr>\n",
       "      <td>4</td>\n",
       "      <td>0.237700</td>\n",
       "      <td>0.146861</td>\n",
       "      <td>0.959819</td>\n",
       "      <td>0.958891</td>\n",
       "    </tr>\n",
       "    <tr>\n",
       "      <td>5</td>\n",
       "      <td>0.237700</td>\n",
       "      <td>0.191428</td>\n",
       "      <td>0.959819</td>\n",
       "      <td>0.957708</td>\n",
       "    </tr>\n",
       "    <tr>\n",
       "      <td>6</td>\n",
       "      <td>0.055500</td>\n",
       "      <td>0.206401</td>\n",
       "      <td>0.956578</td>\n",
       "      <td>0.954426</td>\n",
       "    </tr>\n",
       "    <tr>\n",
       "      <td>7</td>\n",
       "      <td>0.055500</td>\n",
       "      <td>0.174164</td>\n",
       "      <td>0.963059</td>\n",
       "      <td>0.961326</td>\n",
       "    </tr>\n",
       "    <tr>\n",
       "      <td>8</td>\n",
       "      <td>0.021500</td>\n",
       "      <td>0.175229</td>\n",
       "      <td>0.963707</td>\n",
       "      <td>0.962255</td>\n",
       "    </tr>\n",
       "    <tr>\n",
       "      <td>9</td>\n",
       "      <td>0.021500</td>\n",
       "      <td>0.165705</td>\n",
       "      <td>0.965003</td>\n",
       "      <td>0.964649</td>\n",
       "    </tr>\n",
       "    <tr>\n",
       "      <td>10</td>\n",
       "      <td>0.021500</td>\n",
       "      <td>0.173687</td>\n",
       "      <td>0.965651</td>\n",
       "      <td>0.963934</td>\n",
       "    </tr>\n",
       "  </tbody>\n",
       "</table><p>"
      ]
     },
     "metadata": {},
     "output_type": "display_data"
    },
    {
     "data": {
      "text/plain": [
       "<IPython.core.display.HTML object>"
      ],
      "text/html": []
     },
     "metadata": {},
     "output_type": "display_data"
    },
    {
     "name": "stdout",
     "output_type": "stream",
     "text": [
      "Fold 4 F1 Score: \u001B[32m0.9639\u001B[0m\n",
      "Confusion Matrix:\n",
      " [[1050    1   12    0    0]\n",
      " [   2   69    6    0    0]\n",
      " [  23    4  370    0    0]\n",
      " [   0    0    5    0    0]\n",
      " [   0    0    0    0    1]]\n",
      "              precision    recall  f1-score      support\n",
      "A              0.976744  0.987770  0.982226  1063.000000\n",
      "B              0.932432  0.896104  0.913907    77.000000\n",
      "C              0.941476  0.931990  0.936709   397.000000\n",
      "D              0.000000  0.000000  0.000000     5.000000\n",
      "E              1.000000  1.000000  1.000000     1.000000\n",
      "accuracy       0.965651  0.965651  0.965651     0.965651\n",
      "macro avg      0.770130  0.763173  0.766569  1543.000000\n",
      "weighted avg   0.962309  0.965651  0.963934  1543.000000\n"
     ]
    },
    {
     "name": "stderr",
     "output_type": "stream",
     "text": [
      "E:\\GR2025\\.venv\\Lib\\site-packages\\sklearn\\metrics\\_classification.py:1731: UndefinedMetricWarning: Precision is ill-defined and being set to 0.0 in labels with no predicted samples. Use `zero_division` parameter to control this behavior.\n",
      "  _warn_prf(average, modifier, f\"{metric.capitalize()} is\", result.shape[0])\n",
      "E:\\GR2025\\.venv\\Lib\\site-packages\\sklearn\\metrics\\_classification.py:1731: UndefinedMetricWarning: Precision is ill-defined and being set to 0.0 in labels with no predicted samples. Use `zero_division` parameter to control this behavior.\n",
      "  _warn_prf(average, modifier, f\"{metric.capitalize()} is\", result.shape[0])\n",
      "E:\\GR2025\\.venv\\Lib\\site-packages\\sklearn\\metrics\\_classification.py:1731: UndefinedMetricWarning: Precision is ill-defined and being set to 0.0 in labels with no predicted samples. Use `zero_division` parameter to control this behavior.\n",
      "  _warn_prf(average, modifier, f\"{metric.capitalize()} is\", result.shape[0])\n"
     ]
    },
    {
     "data": {
      "text/plain": [
       "<Figure size 640x480 with 2 Axes>"
      ],
      "image/png": "[encoded data removed]"
     },
     "metadata": {},
     "output_type": "display_data"
    },
    {
     "name": "stdout",
     "output_type": "stream",
     "text": [
      "\u001B[34m[Fold 5 / 5]\u001B[0m\n"
     ]
    },
    {
     "name": "stderr",
     "output_type": "stream",
     "text": [
      "Some weights of ViTForImageClassification were not initialized from the model checkpoint at google/vit-base-patch16-224-in21k and are newly initialized: ['classifier.bias', 'classifier.weight']\n",
      "You should probably TRAIN this model on a down-stream task to be able to use it for predictions and inference.\n",
      "C:\\Users\\ArchWizard7\\AppData\\Local\\Temp\\ipykernel_57324\\3512132755.py:54: FutureWarning: `tokenizer` is deprecated and will be removed in version 5.0.0 for `Trainer.__init__`. Use `processing_class` instead.\n",
      "  trainer = Trainer(\n"
     ]
    },
    {
     "data": {
      "text/plain": [
       "<IPython.core.display.HTML object>"
      ],
      "text/html": [
       "\n",
       "    <div>\n",
       "      \n",
       "      <progress value='1930' max='1930' style='width:300px; height:20px; vertical-align: middle;'></progress>\n",
       "      [1930/1930 17:50, Epoch 10/10]\n",
       "    </div>\n",
       "    <table border=\"1\" class=\"dataframe\">\n",
       "  <thead>\n",
       " <tr style=\"text-align: left;\">\n",
       "      <th>Epoch</th>\n",
       "      <th>Training Loss</th>\n",
       "      <th>Validation Loss</th>\n",
       "      <th>Accuracy</th>\n",
       "      <th>F1</th>\n",
       "    </tr>\n",
       "  </thead>\n",
       "  <tbody>\n",
       "    <tr>\n",
       "      <td>1</td>\n",
       "      <td>No log</td>\n",
       "      <td>0.175513</td>\n",
       "      <td>0.957226</td>\n",
       "      <td>0.954878</td>\n",
       "    </tr>\n",
       "    <tr>\n",
       "      <td>2</td>\n",
       "      <td>No log</td>\n",
       "      <td>0.210964</td>\n",
       "      <td>0.945561</td>\n",
       "      <td>0.942748</td>\n",
       "    </tr>\n",
       "    <tr>\n",
       "      <td>3</td>\n",
       "      <td>0.241200</td>\n",
       "      <td>0.127240</td>\n",
       "      <td>0.969540</td>\n",
       "      <td>0.967630</td>\n",
       "    </tr>\n",
       "    <tr>\n",
       "      <td>4</td>\n",
       "      <td>0.241200</td>\n",
       "      <td>0.132968</td>\n",
       "      <td>0.965651</td>\n",
       "      <td>0.964264</td>\n",
       "    </tr>\n",
       "    <tr>\n",
       "      <td>5</td>\n",
       "      <td>0.241200</td>\n",
       "      <td>0.101668</td>\n",
       "      <td>0.973428</td>\n",
       "      <td>0.972586</td>\n",
       "    </tr>\n",
       "    <tr>\n",
       "      <td>6</td>\n",
       "      <td>0.058500</td>\n",
       "      <td>0.119853</td>\n",
       "      <td>0.968244</td>\n",
       "      <td>0.967597</td>\n",
       "    </tr>\n",
       "    <tr>\n",
       "      <td>7</td>\n",
       "      <td>0.058500</td>\n",
       "      <td>0.109003</td>\n",
       "      <td>0.973428</td>\n",
       "      <td>0.972272</td>\n",
       "    </tr>\n",
       "    <tr>\n",
       "      <td>8</td>\n",
       "      <td>0.022000</td>\n",
       "      <td>0.103387</td>\n",
       "      <td>0.974076</td>\n",
       "      <td>0.972953</td>\n",
       "    </tr>\n",
       "    <tr>\n",
       "      <td>9</td>\n",
       "      <td>0.022000</td>\n",
       "      <td>0.110613</td>\n",
       "      <td>0.973428</td>\n",
       "      <td>0.972400</td>\n",
       "    </tr>\n",
       "    <tr>\n",
       "      <td>10</td>\n",
       "      <td>0.022000</td>\n",
       "      <td>0.108029</td>\n",
       "      <td>0.975373</td>\n",
       "      <td>0.974359</td>\n",
       "    </tr>\n",
       "  </tbody>\n",
       "</table><p>"
      ]
     },
     "metadata": {},
     "output_type": "display_data"
    },
    {
     "data": {
      "text/plain": [
       "<IPython.core.display.HTML object>"
      ],
      "text/html": []
     },
     "metadata": {},
     "output_type": "display_data"
    },
    {
     "name": "stdout",
     "output_type": "stream",
     "text": [
      "Fold 5 F1 Score: \u001B[32m0.9744\u001B[0m\n",
      "Confusion Matrix:\n",
      " [[1045    4   12    0    0]\n",
      " [   3   80    9    0    0]\n",
      " [   7    0  377    0    0]\n",
      " [   0    0    3    0    0]\n",
      " [   0    0    0    0    3]]\n",
      "              precision    recall  f1-score      support\n",
      "A              0.990521  0.984920  0.987713  1061.000000\n",
      "B              0.952381  0.869565  0.909091    92.000000\n",
      "C              0.940150  0.981771  0.960510   384.000000\n",
      "D              0.000000  0.000000  0.000000     3.000000\n",
      "E              1.000000  1.000000  1.000000     3.000000\n",
      "accuracy       0.975373  0.975373  0.975373     0.975373\n",
      "macro avg      0.776610  0.767251  0.771463  1543.000000\n",
      "weighted avg   0.973804  0.975373  0.974359  1543.000000\n"
     ]
    },
    {
     "name": "stderr",
     "output_type": "stream",
     "text": [
      "E:\\GR2025\\.venv\\Lib\\site-packages\\sklearn\\metrics\\_classification.py:1731: UndefinedMetricWarning: Precision is ill-defined and being set to 0.0 in labels with no predicted samples. Use `zero_division` parameter to control this behavior.\n",
      "  _warn_prf(average, modifier, f\"{metric.capitalize()} is\", result.shape[0])\n",
      "E:\\GR2025\\.venv\\Lib\\site-packages\\sklearn\\metrics\\_classification.py:1731: UndefinedMetricWarning: Precision is ill-defined and being set to 0.0 in labels with no predicted samples. Use `zero_division` parameter to control this behavior.\n",
      "  _warn_prf(average, modifier, f\"{metric.capitalize()} is\", result.shape[0])\n",
      "E:\\GR2025\\.venv\\Lib\\site-packages\\sklearn\\metrics\\_classification.py:1731: UndefinedMetricWarning: Precision is ill-defined and being set to 0.0 in labels with no predicted samples. Use `zero_division` parameter to control this behavior.\n",
      "  _warn_prf(average, modifier, f\"{metric.capitalize()} is\", result.shape[0])\n"
     ]
    },
    {
     "data": {
      "text/plain": [
       "<Figure size 640x480 with 2 Axes>"
      ],
      "image/png": "[encoded data removed]"
     },
     "metadata": {},
     "output_type": "display_data"
    },
    {
     "name": "stdout",
     "output_type": "stream",
     "text": [
      "\n",
      "Average F1 Score: 0.9682262929945711\n",
      "Confusion Matrix:\n",
      " [[5224    9   69    0    0]\n",
      " [  33  384   37    0    0]\n",
      " [  62    8 1852    7    0]\n",
      " [   0    0   12    1    0]\n",
      " [   1    0    1    3   13]]\n"
     ]
    }
   ],
   "execution_count": 5
  }
 ],
 "metadata": {
  "kernelspec": {
   "display_name": "Python 3 (ipykernel)",
   "language": "python",
   "name": "python3"
  },
  "language_info": {
   "codemirror_mode": {
    "name": "ipython",
    "version": 3
   },
   "file_extension": ".py",
   "mimetype": "text/x-python",
   "name": "python",
   "nbconvert_exporter": "python",
   "pygments_lexer": "ipython3",
   "version": "3.13.3"
  }
 },
 "nbformat": 4,
 "nbformat_minor": 5
}
