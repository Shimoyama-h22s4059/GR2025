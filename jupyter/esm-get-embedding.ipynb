{
 "cells": [
  {
   "metadata": {},
   "cell_type": "markdown",
   "source": "# ESM の埋め込みベクトルを取得する",
   "id": "8de64cabac680bc8"
  },
  {
   "metadata": {},
   "cell_type": "markdown",
   "source": "## 1. 必要なライブラリのインストール",
   "id": "fa0f64483ca4ba7f"
  },
  {
   "cell_type": "code",
   "id": "initial_id",
   "metadata": {
    "collapsed": true,
    "ExecuteTime": {
     "end_time": "2025-08-03T14:31:12.534121Z",
     "start_time": "2025-08-03T14:31:11.317919Z"
    }
   },
   "source": "!pip install fair-esm",
   "outputs": [
    {
     "name": "stdout",
     "output_type": "stream",
     "text": [
      "Requirement already satisfied: fair-esm in e:\\gr2025\\.venv\\lib\\site-packages (2.0.0)\n"
     ]
    }
   ],
   "execution_count": 2
  },
  {
   "metadata": {
    "ExecuteTime": {
     "end_time": "2025-08-03T14:31:13.430831Z",
     "start_time": "2025-08-03T14:31:13.428573Z"
    }
   },
   "cell_type": "code",
   "source": [
    "import os\n",
    "\n",
    "# 一応環境変数を変更\n",
    "os.environ[\"HF_HOME\"] = \"D:/hf-home\""
   ],
   "id": "5cbdc3dd44354a03",
   "outputs": [],
   "execution_count": 3
  },
  {
   "metadata": {
    "ExecuteTime": {
     "end_time": "2025-08-03T14:59:06.029501Z",
     "start_time": "2025-08-03T14:58:57.596623Z"
    }
   },
   "cell_type": "code",
   "source": [
    "import torch\n",
    "import esm\n",
    "\n",
    "# ESM-1b を読み込み\n",
    "model, alphabet = esm.pretrained.esm1b_t33_650M_UR50S()\n",
    "batch_converter = alphabet.get_batch_converter()\n",
    "\n",
    "# 評価モードにする\n",
    "model.eval()\n",
    "\n",
    "# アミノ酸配列\n",
    "amino_acids = \"ACDEFGHIKLMNPQRSTVWY\"\n",
    "seqs = [(aa, aa) for aa in amino_acids]\n",
    "\n",
    "# トークン化\n",
    "_, _, tokens = batch_converter(seqs)\n",
    "\n",
    "# 埋め込み情報\n",
    "with torch.no_grad():\n",
    "    results = model(tokens, repr_layers=[33], return_contacts=False)\n",
    "\n",
    "# トークン単位の埋め込み（33層目）\n",
    "token_representations = results[\"representations\"][33]\n",
    "\n",
    "embedding_dict = {}\n",
    "\n",
    "# 埋め込みは <cls>, token, <eos> の3つ\n",
    "for i, aa in enumerate(amino_acids):\n",
    "    vec = token_representations[i, 1, :].numpy()\n",
    "    embedding_dict[aa] = vec\n",
    "\n",
    "print(embedding_dict)"
   ],
   "id": "ca61e58ae89830e2",
   "outputs": [
    {
     "name": "stdout",
     "output_type": "stream",
     "text": [
      "{'A': array([ 0.11339767, -0.01012399,  0.25220194, ..., -0.19726606,\n",
      "       -0.02746568, -0.18330735], dtype=float32), 'C': array([-0.12331015, -0.11629812,  0.2763299 , ..., -0.21442588,\n",
      "       -0.05947747, -0.21635804], dtype=float32), 'D': array([ 0.02541378, -0.15991558,  0.1884571 , ..., -0.1508156 ,\n",
      "       -0.06527089, -0.11141248], dtype=float32), 'E': array([ 0.06360463, -0.04435542,  0.19132927, ..., -0.19241521,\n",
      "        0.0078241 , -0.26709664], dtype=float32), 'F': array([ 0.05718051,  0.06145927,  0.24460267, ..., -0.12219335,\n",
      "       -0.05262642, -0.3649092 ], dtype=float32), 'G': array([ 0.21209703, -0.093178  ,  0.25682455, ..., -0.11816211,\n",
      "       -0.06181881, -0.32026413], dtype=float32), 'H': array([ 0.01737899, -0.08932362,  0.1520881 , ..., -0.17507413,\n",
      "       -0.00407022, -0.26191962], dtype=float32), 'I': array([ 0.0723353 ,  0.08427574,  0.1600373 , ..., -0.13815896,\n",
      "       -0.08360748, -0.34114602], dtype=float32), 'K': array([ 0.18613508,  0.24342108, -0.16737859, ...,  0.01945608,\n",
      "       -0.12702969,  0.18032055], dtype=float32), 'L': array([ 0.04131791,  0.01787675,  0.25666332, ..., -0.07137206,\n",
      "       -0.02168752, -0.31905034], dtype=float32), 'M': array([ 0.13094291, -0.06353051,  0.25332546, ..., -0.06061111,\n",
      "       -0.0131635 , -0.2834033 ], dtype=float32), 'N': array([ 0.13292643, -0.15137   ,  0.26286265, ..., -0.27051967,\n",
      "       -0.10074756, -0.42860177], dtype=float32), 'P': array([ 0.09518535, -0.15942194,  0.15029377, ..., -0.12757027,\n",
      "       -0.0248112 , -0.15838683], dtype=float32), 'Q': array([ 0.16428578, -0.12328365,  0.13387585, ..., -0.00890457,\n",
      "       -0.07248337, -0.15498136], dtype=float32), 'R': array([ 0.18580508, -0.04014609,  0.02853715, ..., -0.20274712,\n",
      "        0.2609094 ,  0.07170554], dtype=float32), 'S': array([ 0.14860345, -0.26764062,  0.25910348, ..., -0.19010015,\n",
      "       -0.0076531 , -0.17314374], dtype=float32), 'T': array([ 0.14585117,  0.13481703,  0.2518876 , ..., -0.15836038,\n",
      "       -0.04207794, -0.285748  ], dtype=float32), 'V': array([ 0.11833108,  0.08957469,  0.27101496, ..., -0.17344715,\n",
      "       -0.04534006, -0.37735403], dtype=float32), 'W': array([ 0.11102228,  0.2831744 ,  0.09188271, ..., -0.06949663,\n",
      "       -0.07761291,  0.0389854 ], dtype=float32), 'Y': array([ 0.13233471, -0.20369825,  0.11437264, ..., -0.30163366,\n",
      "       -0.00264534, -0.19229193], dtype=float32)}\n"
     ]
    }
   ],
   "execution_count": 10
  },
  {
   "metadata": {},
   "cell_type": "markdown",
   "source": "## 2. CSV へ保存",
   "id": "ca3f557e3a5941f"
  },
  {
   "metadata": {
    "ExecuteTime": {
     "end_time": "2025-08-03T15:11:49.988895Z",
     "start_time": "2025-08-03T15:11:49.967194Z"
    }
   },
   "cell_type": "code",
   "source": [
    "import csv\n",
    "\n",
    "save_filename = \"../data/esm-embedding-dim-1280.csv\"\n",
    "\n",
    "with open(save_filename, \"w\", encoding=\"utf-8\", newline=\"\") as csv_file:\n",
    "    writer = csv.writer(csv_file)\n",
    "\n",
    "    for key in embedding_dict:\n",
    "        row = [key] + embedding_dict[key].tolist()\n",
    "        writer.writerow(row)"
   ],
   "id": "ae86a294128225d5",
   "outputs": [],
   "execution_count": 22
  }
 ],
 "metadata": {
  "kernelspec": {
   "display_name": "Python 3",
   "language": "python",
   "name": "python3"
  },
  "language_info": {
   "codemirror_mode": {
    "name": "ipython",
    "version": 2
   },
   "file_extension": ".py",
   "mimetype": "text/x-python",
   "name": "python",
   "nbconvert_exporter": "python",
   "pygments_lexer": "ipython2",
   "version": "2.7.6"
  }
 },
 "nbformat": 4,
 "nbformat_minor": 5
}
