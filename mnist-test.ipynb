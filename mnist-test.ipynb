{
 "cells": [
  {
   "metadata": {},
   "cell_type": "markdown",
   "source": "# HuggingFace の `datasets` を用いてMNIST",
   "id": "ce42ed65cb98125d"
  },
  {
   "metadata": {},
   "cell_type": "markdown",
   "source": "## 0. 必要なライブラリ",
   "id": "30d90494254db43f"
  },
  {
   "cell_type": "code",
   "id": "3582d83c1c0cf225",
   "metadata": {
    "ExecuteTime": {
     "end_time": "2025-07-19T23:06:11.515687Z",
     "start_time": "2025-07-19T23:06:10.093296Z"
    }
   },
   "source": "!pip install torch torchvision torchaudio --index-url https://download.pytorch.org/whl/cu118",
   "outputs": [
    {
     "name": "stdout",
     "output_type": "stream",
     "text": [
      "Looking in indexes: https://download.pytorch.org/whl/cu118\n",
      "Requirement already satisfied: torch in e:\\gr2025\\.venv\\lib\\site-packages (2.7.1+cu118)\n",
      "Requirement already satisfied: torchvision in e:\\gr2025\\.venv\\lib\\site-packages (0.22.1+cu118)\n",
      "Requirement already satisfied: torchaudio in e:\\gr2025\\.venv\\lib\\site-packages (2.7.1+cu118)\n",
      "Requirement already satisfied: filelock in e:\\gr2025\\.venv\\lib\\site-packages (from torch) (3.13.1)\n",
      "Requirement already satisfied: typing-extensions>=4.10.0 in e:\\gr2025\\.venv\\lib\\site-packages (from torch) (4.14.1)\n",
      "Requirement already satisfied: sympy>=1.13.3 in e:\\gr2025\\.venv\\lib\\site-packages (from torch) (1.13.3)\n",
      "Requirement already satisfied: networkx in e:\\gr2025\\.venv\\lib\\site-packages (from torch) (3.3)\n",
      "Requirement already satisfied: jinja2 in e:\\gr2025\\.venv\\lib\\site-packages (from torch) (3.1.6)\n",
      "Requirement already satisfied: fsspec in e:\\gr2025\\.venv\\lib\\site-packages (from torch) (2024.6.1)\n",
      "Requirement already satisfied: setuptools in e:\\gr2025\\.venv\\lib\\site-packages (from torch) (80.9.0)\n",
      "Requirement already satisfied: numpy in e:\\gr2025\\.venv\\lib\\site-packages (from torchvision) (2.1.2)\n",
      "Requirement already satisfied: pillow!=8.3.*,>=5.3.0 in e:\\gr2025\\.venv\\lib\\site-packages (from torchvision) (11.0.0)\n",
      "Requirement already satisfied: mpmath<1.4,>=1.1.0 in e:\\gr2025\\.venv\\lib\\site-packages (from sympy>=1.13.3->torch) (1.3.0)\n",
      "Requirement already satisfied: MarkupSafe>=2.0 in e:\\gr2025\\.venv\\lib\\site-packages (from jinja2->torch) (3.0.2)\n"
     ]
    }
   ],
   "execution_count": 1
  },
  {
   "metadata": {
    "ExecuteTime": {
     "end_time": "2025-07-19T11:30:04.298970Z",
     "start_time": "2025-07-19T11:30:02.540841Z"
    }
   },
   "cell_type": "code",
   "source": "!pip install datasets transformers accelerate evaluate",
   "id": "3dd2b3b5635e9607",
   "outputs": [
    {
     "name": "stdout",
     "output_type": "stream",
     "text": [
      "Requirement already satisfied: datasets in e:\\gr2025\\.venv\\lib\\site-packages (4.0.0)\n",
      "Requirement already satisfied: transformers in e:\\gr2025\\.venv\\lib\\site-packages (4.53.2)\n",
      "Requirement already satisfied: accelerate in e:\\gr2025\\.venv\\lib\\site-packages (1.9.0)\n",
      "Requirement already satisfied: evaluate in e:\\gr2025\\.venv\\lib\\site-packages (0.4.5)\n",
      "Requirement already satisfied: filelock in e:\\gr2025\\.venv\\lib\\site-packages (from datasets) (3.13.1)\n",
      "Requirement already satisfied: numpy>=1.17 in e:\\gr2025\\.venv\\lib\\site-packages (from datasets) (2.1.2)\n",
      "Requirement already satisfied: pyarrow>=15.0.0 in e:\\gr2025\\.venv\\lib\\site-packages (from datasets) (21.0.0)\n",
      "Requirement already satisfied: dill<0.3.9,>=0.3.0 in e:\\gr2025\\.venv\\lib\\site-packages (from datasets) (0.3.8)\n",
      "Requirement already satisfied: pandas in e:\\gr2025\\.venv\\lib\\site-packages (from datasets) (2.3.1)\n",
      "Requirement already satisfied: requests>=2.32.2 in e:\\gr2025\\.venv\\lib\\site-packages (from datasets) (2.32.4)\n",
      "Requirement already satisfied: tqdm>=4.66.3 in e:\\gr2025\\.venv\\lib\\site-packages (from datasets) (4.67.1)\n",
      "Requirement already satisfied: xxhash in e:\\gr2025\\.venv\\lib\\site-packages (from datasets) (3.5.0)\n",
      "Requirement already satisfied: multiprocess<0.70.17 in e:\\gr2025\\.venv\\lib\\site-packages (from datasets) (0.70.16)\n",
      "Requirement already satisfied: fsspec<=2025.3.0,>=2023.1.0 in e:\\gr2025\\.venv\\lib\\site-packages (from fsspec[http]<=2025.3.0,>=2023.1.0->datasets) (2024.6.1)\n",
      "Requirement already satisfied: huggingface-hub>=0.24.0 in e:\\gr2025\\.venv\\lib\\site-packages (from datasets) (0.33.4)\n",
      "Requirement already satisfied: packaging in e:\\gr2025\\.venv\\lib\\site-packages (from datasets) (25.0)\n",
      "Requirement already satisfied: pyyaml>=5.1 in e:\\gr2025\\.venv\\lib\\site-packages (from datasets) (6.0.2)\n",
      "Requirement already satisfied: aiohttp!=4.0.0a0,!=4.0.0a1 in e:\\gr2025\\.venv\\lib\\site-packages (from fsspec[http]<=2025.3.0,>=2023.1.0->datasets) (3.12.14)\n",
      "Requirement already satisfied: regex!=2019.12.17 in e:\\gr2025\\.venv\\lib\\site-packages (from transformers) (2024.11.6)\n",
      "Requirement already satisfied: tokenizers<0.22,>=0.21 in e:\\gr2025\\.venv\\lib\\site-packages (from transformers) (0.21.2)\n",
      "Requirement already satisfied: safetensors>=0.4.3 in e:\\gr2025\\.venv\\lib\\site-packages (from transformers) (0.5.3)\n",
      "Requirement already satisfied: typing-extensions>=3.7.4.3 in e:\\gr2025\\.venv\\lib\\site-packages (from huggingface-hub>=0.24.0->datasets) (4.14.1)\n",
      "Requirement already satisfied: psutil in e:\\gr2025\\.venv\\lib\\site-packages (from accelerate) (7.0.0)\n",
      "Requirement already satisfied: torch>=2.0.0 in e:\\gr2025\\.venv\\lib\\site-packages (from accelerate) (2.7.1+cu118)\n",
      "Requirement already satisfied: aiohappyeyeballs>=2.5.0 in e:\\gr2025\\.venv\\lib\\site-packages (from aiohttp!=4.0.0a0,!=4.0.0a1->fsspec[http]<=2025.3.0,>=2023.1.0->datasets) (2.6.1)\n",
      "Requirement already satisfied: aiosignal>=1.4.0 in e:\\gr2025\\.venv\\lib\\site-packages (from aiohttp!=4.0.0a0,!=4.0.0a1->fsspec[http]<=2025.3.0,>=2023.1.0->datasets) (1.4.0)\n",
      "Requirement already satisfied: attrs>=17.3.0 in e:\\gr2025\\.venv\\lib\\site-packages (from aiohttp!=4.0.0a0,!=4.0.0a1->fsspec[http]<=2025.3.0,>=2023.1.0->datasets) (25.3.0)\n",
      "Requirement already satisfied: frozenlist>=1.1.1 in e:\\gr2025\\.venv\\lib\\site-packages (from aiohttp!=4.0.0a0,!=4.0.0a1->fsspec[http]<=2025.3.0,>=2023.1.0->datasets) (1.7.0)\n",
      "Requirement already satisfied: multidict<7.0,>=4.5 in e:\\gr2025\\.venv\\lib\\site-packages (from aiohttp!=4.0.0a0,!=4.0.0a1->fsspec[http]<=2025.3.0,>=2023.1.0->datasets) (6.6.3)\n",
      "Requirement already satisfied: propcache>=0.2.0 in e:\\gr2025\\.venv\\lib\\site-packages (from aiohttp!=4.0.0a0,!=4.0.0a1->fsspec[http]<=2025.3.0,>=2023.1.0->datasets) (0.3.2)\n",
      "Requirement already satisfied: yarl<2.0,>=1.17.0 in e:\\gr2025\\.venv\\lib\\site-packages (from aiohttp!=4.0.0a0,!=4.0.0a1->fsspec[http]<=2025.3.0,>=2023.1.0->datasets) (1.20.1)\n",
      "Requirement already satisfied: idna>=2.0 in e:\\gr2025\\.venv\\lib\\site-packages (from yarl<2.0,>=1.17.0->aiohttp!=4.0.0a0,!=4.0.0a1->fsspec[http]<=2025.3.0,>=2023.1.0->datasets) (3.10)\n",
      "Requirement already satisfied: charset_normalizer<4,>=2 in e:\\gr2025\\.venv\\lib\\site-packages (from requests>=2.32.2->datasets) (3.4.2)\n",
      "Requirement already satisfied: urllib3<3,>=1.21.1 in e:\\gr2025\\.venv\\lib\\site-packages (from requests>=2.32.2->datasets) (2.5.0)\n",
      "Requirement already satisfied: certifi>=2017.4.17 in e:\\gr2025\\.venv\\lib\\site-packages (from requests>=2.32.2->datasets) (2025.7.14)\n",
      "Requirement already satisfied: sympy>=1.13.3 in e:\\gr2025\\.venv\\lib\\site-packages (from torch>=2.0.0->accelerate) (1.13.3)\n",
      "Requirement already satisfied: networkx in e:\\gr2025\\.venv\\lib\\site-packages (from torch>=2.0.0->accelerate) (3.3)\n",
      "Requirement already satisfied: jinja2 in e:\\gr2025\\.venv\\lib\\site-packages (from torch>=2.0.0->accelerate) (3.1.6)\n",
      "Requirement already satisfied: setuptools in e:\\gr2025\\.venv\\lib\\site-packages (from torch>=2.0.0->accelerate) (80.9.0)\n",
      "Requirement already satisfied: mpmath<1.4,>=1.1.0 in e:\\gr2025\\.venv\\lib\\site-packages (from sympy>=1.13.3->torch>=2.0.0->accelerate) (1.3.0)\n",
      "Requirement already satisfied: colorama in e:\\gr2025\\.venv\\lib\\site-packages (from tqdm>=4.66.3->datasets) (0.4.6)\n",
      "Requirement already satisfied: MarkupSafe>=2.0 in e:\\gr2025\\.venv\\lib\\site-packages (from jinja2->torch>=2.0.0->accelerate) (3.0.2)\n",
      "Requirement already satisfied: python-dateutil>=2.8.2 in e:\\gr2025\\.venv\\lib\\site-packages (from pandas->datasets) (2.9.0.post0)\n",
      "Requirement already satisfied: pytz>=2020.1 in e:\\gr2025\\.venv\\lib\\site-packages (from pandas->datasets) (2025.2)\n",
      "Requirement already satisfied: tzdata>=2022.7 in e:\\gr2025\\.venv\\lib\\site-packages (from pandas->datasets) (2025.2)\n",
      "Requirement already satisfied: six>=1.5 in e:\\gr2025\\.venv\\lib\\site-packages (from python-dateutil>=2.8.2->pandas->datasets) (1.17.0)\n"
     ]
    }
   ],
   "execution_count": 23
  },
  {
   "metadata": {
    "ExecuteTime": {
     "end_time": "2025-07-19T11:30:18.842698Z",
     "start_time": "2025-07-19T11:30:17.700920Z"
    }
   },
   "cell_type": "code",
   "source": "!pip install scikit-learn",
   "id": "initial_id",
   "outputs": [
    {
     "name": "stdout",
     "output_type": "stream",
     "text": [
      "Requirement already satisfied: scikit-learn in e:\\gr2025\\.venv\\lib\\site-packages (1.7.1)\n",
      "Requirement already satisfied: numpy>=1.22.0 in e:\\gr2025\\.venv\\lib\\site-packages (from scikit-learn) (2.1.2)\n",
      "Requirement already satisfied: scipy>=1.8.0 in e:\\gr2025\\.venv\\lib\\site-packages (from scikit-learn) (1.16.0)\n",
      "Requirement already satisfied: joblib>=1.2.0 in e:\\gr2025\\.venv\\lib\\site-packages (from scikit-learn) (1.5.1)\n",
      "Requirement already satisfied: threadpoolctl>=3.1.0 in e:\\gr2025\\.venv\\lib\\site-packages (from scikit-learn) (3.6.0)\n"
     ]
    }
   ],
   "execution_count": 24
  },
  {
   "metadata": {
    "ExecuteTime": {
     "end_time": "2025-07-19T11:30:22.902723Z",
     "start_time": "2025-07-19T11:30:21.720237Z"
    }
   },
   "cell_type": "code",
   "source": "!pip install ipywidgets",
   "id": "159b3cb3e0cacfa6",
   "outputs": [
    {
     "name": "stdout",
     "output_type": "stream",
     "text": [
      "Requirement already satisfied: ipywidgets in e:\\gr2025\\.venv\\lib\\site-packages (8.1.7)\n",
      "Requirement already satisfied: comm>=0.1.3 in e:\\gr2025\\.venv\\lib\\site-packages (from ipywidgets) (0.2.2)\n",
      "Requirement already satisfied: ipython>=6.1.0 in e:\\gr2025\\.venv\\lib\\site-packages (from ipywidgets) (9.4.0)\n",
      "Requirement already satisfied: traitlets>=4.3.1 in e:\\gr2025\\.venv\\lib\\site-packages (from ipywidgets) (5.14.3)\n",
      "Requirement already satisfied: widgetsnbextension~=4.0.14 in e:\\gr2025\\.venv\\lib\\site-packages (from ipywidgets) (4.0.14)\n",
      "Requirement already satisfied: jupyterlab_widgets~=3.0.15 in e:\\gr2025\\.venv\\lib\\site-packages (from ipywidgets) (3.0.15)\n",
      "Requirement already satisfied: colorama in e:\\gr2025\\.venv\\lib\\site-packages (from ipython>=6.1.0->ipywidgets) (0.4.6)\n",
      "Requirement already satisfied: decorator in e:\\gr2025\\.venv\\lib\\site-packages (from ipython>=6.1.0->ipywidgets) (5.2.1)\n",
      "Requirement already satisfied: ipython-pygments-lexers in e:\\gr2025\\.venv\\lib\\site-packages (from ipython>=6.1.0->ipywidgets) (1.1.1)\n",
      "Requirement already satisfied: jedi>=0.16 in e:\\gr2025\\.venv\\lib\\site-packages (from ipython>=6.1.0->ipywidgets) (0.19.2)\n",
      "Requirement already satisfied: matplotlib-inline in e:\\gr2025\\.venv\\lib\\site-packages (from ipython>=6.1.0->ipywidgets) (0.1.7)\n",
      "Requirement already satisfied: prompt_toolkit<3.1.0,>=3.0.41 in e:\\gr2025\\.venv\\lib\\site-packages (from ipython>=6.1.0->ipywidgets) (3.0.51)\n",
      "Requirement already satisfied: pygments>=2.4.0 in e:\\gr2025\\.venv\\lib\\site-packages (from ipython>=6.1.0->ipywidgets) (2.19.2)\n",
      "Requirement already satisfied: stack_data in e:\\gr2025\\.venv\\lib\\site-packages (from ipython>=6.1.0->ipywidgets) (0.6.3)\n",
      "Requirement already satisfied: wcwidth in e:\\gr2025\\.venv\\lib\\site-packages (from prompt_toolkit<3.1.0,>=3.0.41->ipython>=6.1.0->ipywidgets) (0.2.13)\n",
      "Requirement already satisfied: parso<0.9.0,>=0.8.4 in e:\\gr2025\\.venv\\lib\\site-packages (from jedi>=0.16->ipython>=6.1.0->ipywidgets) (0.8.4)\n",
      "Requirement already satisfied: executing>=1.2.0 in e:\\gr2025\\.venv\\lib\\site-packages (from stack_data->ipython>=6.1.0->ipywidgets) (2.2.0)\n",
      "Requirement already satisfied: asttokens>=2.1.0 in e:\\gr2025\\.venv\\lib\\site-packages (from stack_data->ipython>=6.1.0->ipywidgets) (3.0.0)\n",
      "Requirement already satisfied: pure-eval in e:\\gr2025\\.venv\\lib\\site-packages (from stack_data->ipython>=6.1.0->ipywidgets) (0.2.3)\n"
     ]
    }
   ],
   "execution_count": 25
  },
  {
   "metadata": {
    "ExecuteTime": {
     "end_time": "2025-07-23T01:28:18.190537Z",
     "start_time": "2025-07-23T01:28:11.423217Z"
    }
   },
   "cell_type": "code",
   "source": [
    "import torch\n",
    "\n",
    "print(torch.__version__)\n",
    "print(torch.cuda.is_available())"
   ],
   "id": "4f2b1a9eb3e61861",
   "outputs": [
    {
     "name": "stdout",
     "output_type": "stream",
     "text": [
      "2.7.1+cu118\n",
      "True\n"
     ]
    }
   ],
   "execution_count": 1
  },
  {
   "metadata": {},
   "cell_type": "markdown",
   "source": "## 1. データの読み込み",
   "id": "1d89a1c064e782b2"
  },
  {
   "metadata": {
    "ExecuteTime": {
     "end_time": "2025-07-23T01:29:14.596444Z",
     "start_time": "2025-07-23T01:29:03.573477Z"
    }
   },
   "cell_type": "code",
   "source": [
    "from datasets import load_dataset\n",
    "\n",
    "# MNISTの読み込み（28×28モノクロ画像）\n",
    "dataset = load_dataset(\"mnist\")\n",
    "print(dataset)"
   ],
   "id": "c796110968841a2c",
   "outputs": [
    {
     "name": "stdout",
     "output_type": "stream",
     "text": [
      "DatasetDict({\n",
      "    train: Dataset({\n",
      "        features: ['image', 'label'],\n",
      "        num_rows: 60000\n",
      "    })\n",
      "    test: Dataset({\n",
      "        features: ['image', 'label'],\n",
      "        num_rows: 10000\n",
      "    })\n",
      "})\n"
     ]
    }
   ],
   "execution_count": 2
  },
  {
   "metadata": {},
   "cell_type": "markdown",
   "source": "## 2. 画像の変換処理（28×28 → 224×224）",
   "id": "71ff820bc375fbb6"
  },
  {
   "metadata": {},
   "cell_type": "markdown",
   "source": "### ① 画像を `float` & `normalized` で保存",
   "id": "bab0587de66b450b"
  },
  {
   "metadata": {
    "ExecuteTime": {
     "end_time": "2025-07-23T01:29:36.808257Z",
     "start_time": "2025-07-23T01:29:30.303144Z"
    }
   },
   "cell_type": "code",
   "source": [
    "from transformers import AutoImageProcessor\n",
    "from torchvision.transforms import Compose, Resize, ToTensor, Grayscale, Normalize\n",
    "\n",
    "# 画像前処理器（モデルに合ったサイズにする）\n",
    "image_processor = AutoImageProcessor.from_pretrained(\"google/vit-base-patch16-224-in21k\", use_fast=True)\n",
    "\n",
    "# transformersのImageProcessorで正規化 + PIL to Tensor\n",
    "normalize = Normalize(mean=image_processor.image_mean, std=image_processor.image_std)\n",
    "\n",
    "# torchvisionで画像変換\n",
    "transform = Compose([\n",
    "    Resize((224, 224)),\n",
    "    Grayscale(num_output_channels=3),\n",
    "    ToTensor(),\n",
    "    normalize\n",
    "])"
   ],
   "id": "bc3600598ddb9a49",
   "outputs": [],
   "execution_count": 3
  },
  {
   "metadata": {},
   "cell_type": "markdown",
   "source": "### ② `datasets.map()` で `tensor` を `numpy` に変換して保存",
   "id": "ddde5e460e442107"
  },
  {
   "metadata": {
    "ExecuteTime": {
     "end_time": "2025-07-23T01:32:37.361396Z",
     "start_time": "2025-07-23T01:30:34.064609Z"
    }
   },
   "cell_type": "code",
   "source": [
    "# 前処理関数を定義（datasets.map に使う）\n",
    "def preprocess(example):\n",
    "    image = transform(example[\"image\"])\n",
    "    example[\"pixel_values\"] = image\n",
    "\n",
    "    return example\n",
    "\n",
    "# 前処理を全データに適用\n",
    "dataset = dataset.map(preprocess, remove_columns=[\"image\"])"
   ],
   "id": "64dd01ffac730f55",
   "outputs": [],
   "execution_count": 4
  },
  {
   "metadata": {},
   "cell_type": "markdown",
   "source": "### ③ `Trainer` が学習時に `PyTorch tensor` として読み込めるように変換",
   "id": "7e470f0e13a3948c"
  },
  {
   "metadata": {
    "ExecuteTime": {
     "end_time": "2025-07-23T01:32:43.171336Z",
     "start_time": "2025-07-23T01:32:43.168682Z"
    }
   },
   "cell_type": "code",
   "source": [
    "# set_formatでテンソルに変換\n",
    "dataset.set_format(type=\"torch\", columns=[\"pixel_values\", \"label\"])"
   ],
   "id": "cc1b4f37e98deee2",
   "outputs": [],
   "execution_count": 5
  },
  {
   "metadata": {},
   "cell_type": "markdown",
   "source": "## 3. ViTモデルの準備",
   "id": "984bb5de7395141a"
  },
  {
   "metadata": {
    "ExecuteTime": {
     "end_time": "2025-07-23T01:32:49.954010Z",
     "start_time": "2025-07-23T01:32:46.268927Z"
    }
   },
   "cell_type": "code",
   "source": [
    "from transformers import AutoModelForImageClassification\n",
    "\n",
    "model = AutoModelForImageClassification.from_pretrained(\n",
    "    \"google/vit-base-patch16-224-in21k\",\n",
    "    num_labels=10  # MNISTは 0〜9\n",
    ")\n",
    "\n",
    "model = model.to(\"cuda\")"
   ],
   "id": "38c0251914b128eb",
   "outputs": [
    {
     "name": "stderr",
     "output_type": "stream",
     "text": [
      "Some weights of ViTForImageClassification were not initialized from the model checkpoint at google/vit-base-patch16-224-in21k and are newly initialized: ['classifier.bias', 'classifier.weight']\n",
      "You should probably TRAIN this model on a down-stream task to be able to use it for predictions and inference.\n"
     ]
    }
   ],
   "execution_count": 6
  },
  {
   "metadata": {
    "ExecuteTime": {
     "end_time": "2025-07-23T01:32:51.303667Z",
     "start_time": "2025-07-23T01:32:51.301243Z"
    }
   },
   "cell_type": "code",
   "source": [
    "print(model.device)\n",
    "print(torch.cuda.is_available())"
   ],
   "id": "838d96bb8f47ee2f",
   "outputs": [
    {
     "name": "stdout",
     "output_type": "stream",
     "text": [
      "cuda:0\n",
      "True\n"
     ]
    }
   ],
   "execution_count": 7
  },
  {
   "metadata": {},
   "cell_type": "markdown",
   "source": "## 4. 学習と評価",
   "id": "24b9f410ac5e65bc"
  },
  {
   "metadata": {
    "ExecuteTime": {
     "end_time": "2025-07-23T01:33:03.401136Z",
     "start_time": "2025-07-23T01:33:03.398448Z"
    }
   },
   "cell_type": "code",
   "source": [
    "import torch\n",
    "\n",
    "print(torch.__version__)\n",
    "print(torch.cuda.is_available())"
   ],
   "id": "78527de96fd9c247",
   "outputs": [
    {
     "name": "stdout",
     "output_type": "stream",
     "text": [
      "2.7.1+cu118\n",
      "True\n"
     ]
    }
   ],
   "execution_count": 8
  },
  {
   "metadata": {
    "ExecuteTime": {
     "end_time": "2025-07-23T08:05:06.883349Z",
     "start_time": "2025-07-23T01:33:11.426924Z"
    }
   },
   "cell_type": "code",
   "source": [
    "from transformers import TrainingArguments, Trainer\n",
    "import evaluate\n",
    "import numpy as np\n",
    "\n",
    "accuracy = evaluate.load(\"accuracy\")\n",
    "\n",
    "def compute_metrics(eval_pred):\n",
    "    logits, labels = eval_pred\n",
    "    preds = np.argmax(logits, axis=-1)\n",
    "    return accuracy.compute(predictions=preds, references=labels)\n",
    "\n",
    "training_args = TrainingArguments(\n",
    "    output_dir=\"./mnist-vit-2\",\n",
    "    per_device_train_batch_size=64,\n",
    "    dataloader_num_workers=2,\n",
    "    dataloader_pin_memory=True,\n",
    "    eval_strategy=\"epoch\",\n",
    "    save_strategy=\"epoch\",\n",
    "    num_train_epochs=3,\n",
    "    logging_dir=\"./logs\",\n",
    "    report_to=\"none\"\n",
    ")\n",
    "\n",
    "trainer = Trainer(\n",
    "    model=model,\n",
    "    args=training_args,\n",
    "    train_dataset=dataset[\"train\"],\n",
    "    eval_dataset=dataset[\"test\"],\n",
    "    tokenizer=image_processor,  # ViTでは ImageProcessor を tokenizer として使う\n",
    "    compute_metrics=compute_metrics\n",
    ")\n",
    "\n",
    "trainer.train()  # 学習"
   ],
   "id": "9d0913b3ca1c3994",
   "outputs": [
    {
     "name": "stderr",
     "output_type": "stream",
     "text": [
      "C:\\Users\\ArchWizard7\\AppData\\Local\\Temp\\ipykernel_28496\\1208683387.py:24: FutureWarning: `tokenizer` is deprecated and will be removed in version 5.0.0 for `Trainer.__init__`. Use `processing_class` instead.\n",
      "  trainer = Trainer(\n"
     ]
    },
    {
     "data": {
      "text/plain": [
       "<IPython.core.display.HTML object>"
      ],
      "text/html": [
       "\n",
       "    <div>\n",
       "      \n",
       "      <progress value='2814' max='2814' style='width:300px; height:20px; vertical-align: middle;'></progress>\n",
       "      [2814/2814 6:30:28, Epoch 3/3]\n",
       "    </div>\n",
       "    <table border=\"1\" class=\"dataframe\">\n",
       "  <thead>\n",
       " <tr style=\"text-align: left;\">\n",
       "      <th>Epoch</th>\n",
       "      <th>Training Loss</th>\n",
       "      <th>Validation Loss</th>\n",
       "      <th>Accuracy</th>\n",
       "    </tr>\n",
       "  </thead>\n",
       "  <tbody>\n",
       "    <tr>\n",
       "      <td>1</td>\n",
       "      <td>0.306700</td>\n",
       "      <td>0.034569</td>\n",
       "      <td>0.995800</td>\n",
       "    </tr>\n",
       "    <tr>\n",
       "      <td>2</td>\n",
       "      <td>0.030800</td>\n",
       "      <td>0.019926</td>\n",
       "      <td>0.996600</td>\n",
       "    </tr>\n",
       "    <tr>\n",
       "      <td>3</td>\n",
       "      <td>0.013100</td>\n",
       "      <td>0.016937</td>\n",
       "      <td>0.997000</td>\n",
       "    </tr>\n",
       "  </tbody>\n",
       "</table><p>"
      ]
     },
     "metadata": {},
     "output_type": "display_data"
    },
    {
     "data": {
      "text/plain": [
       "TrainOutput(global_step=2814, training_loss=0.07696520214650168, metrics={'train_runtime': 23513.7465, 'train_samples_per_second': 7.655, 'train_steps_per_second': 0.12, 'total_flos': 1.394955826274304e+19, 'train_loss': 0.07696520214650168, 'epoch': 3.0})"
      ]
     },
     "execution_count": 9,
     "metadata": {},
     "output_type": "execute_result"
    }
   ],
   "execution_count": 9
  },
  {
   "metadata": {},
   "cell_type": "markdown",
   "source": "## 5. ログを残す",
   "id": "4424578194a0c5fc"
  },
  {
   "metadata": {
    "ExecuteTime": {
     "end_time": "2025-07-23T11:16:27.366183Z",
     "start_time": "2025-07-23T11:16:27.354407Z"
    }
   },
   "cell_type": "code",
   "source": [
    "for log in trainer.state.log_history:\n",
    "    print(log)"
   ],
   "id": "249955479eaa1004",
   "outputs": [
    {
     "name": "stdout",
     "output_type": "stream",
     "text": [
      "{'loss': 0.3067, 'grad_norm': 0.43833282589912415, 'learning_rate': 4.113361762615494e-05, 'epoch': 0.5330490405117271, 'step': 500}\n",
      "{'eval_loss': 0.034569066017866135, 'eval_accuracy': 0.9958, 'eval_runtime': 333.8142, 'eval_samples_per_second': 29.957, 'eval_steps_per_second': 3.745, 'epoch': 1.0, 'step': 938}\n",
      "{'loss': 0.0569, 'grad_norm': 1.1011090278625488, 'learning_rate': 3.224946695095949e-05, 'epoch': 1.0660980810234542, 'step': 1000}\n",
      "{'loss': 0.0308, 'grad_norm': 0.030460184440016747, 'learning_rate': 2.3365316275764036e-05, 'epoch': 1.5991471215351813, 'step': 1500}\n",
      "{'eval_loss': 0.019925637170672417, 'eval_accuracy': 0.9966, 'eval_runtime': 335.2159, 'eval_samples_per_second': 29.832, 'eval_steps_per_second': 3.729, 'epoch': 2.0, 'step': 1876}\n",
      "{'loss': 0.0187, 'grad_norm': 0.12122004479169846, 'learning_rate': 1.4481165600568586e-05, 'epoch': 2.1321961620469083, 'step': 2000}\n",
      "{'loss': 0.0131, 'grad_norm': 0.01887434348464012, 'learning_rate': 5.597014925373135e-06, 'epoch': 2.6652452025586353, 'step': 2500}\n",
      "{'eval_loss': 0.01693720556795597, 'eval_accuracy': 0.997, 'eval_runtime': 331.4326, 'eval_samples_per_second': 30.172, 'eval_steps_per_second': 3.772, 'epoch': 3.0, 'step': 2814}\n",
      "{'train_runtime': 23513.7465, 'train_samples_per_second': 7.655, 'train_steps_per_second': 0.12, 'total_flos': 1.394955826274304e+19, 'train_loss': 0.07696520214650168, 'epoch': 3.0, 'step': 2814}\n"
     ]
    }
   ],
   "execution_count": 10
  }
 ],
 "metadata": {
  "kernelspec": {
   "display_name": "Python 3",
   "language": "python",
   "name": "python3"
  },
  "language_info": {
   "codemirror_mode": {
    "name": "ipython",
    "version": 2
   },
   "file_extension": ".py",
   "mimetype": "text/x-python",
   "name": "python",
   "nbconvert_exporter": "python",
   "pygments_lexer": "ipython2",
   "version": "2.7.6"
  }
 },
 "nbformat": 4,
 "nbformat_minor": 5
}
