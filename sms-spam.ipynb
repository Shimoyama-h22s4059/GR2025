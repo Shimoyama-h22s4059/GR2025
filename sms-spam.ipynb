{
 "cells": [
  {
   "metadata": {},
   "cell_type": "markdown",
   "source": "# `sms-spam` をTransformerを使って学習してみる",
   "id": "a5183310da3f50c0"
  },
  {
   "metadata": {},
   "cell_type": "markdown",
   "source": "# 1. データの読み込みと前処理",
   "id": "48559c2a8e576da3"
  },
  {
   "cell_type": "code",
   "id": "initial_id",
   "metadata": {
    "collapsed": true,
    "ExecuteTime": {
     "end_time": "2025-07-25T03:29:06.863886Z",
     "start_time": "2025-07-25T03:29:02.575683Z"
    }
   },
   "source": [
    "from datasets import load_dataset\n",
    "from transformers import AutoTokenizer\n",
    "\n",
    "# データセット読み込み\n",
    "dataset = load_dataset(\"sms_spam\")\n",
    "\n",
    "# 2クラス（ham or spam）\n",
    "label_names = dataset[\"train\"].features[\"label\"].names\n",
    "\n",
    "# 80% train / 20% test に分割\n",
    "split_dataset = dataset[\"train\"].train_test_split(test_size=0.2, seed=42)\n",
    "\n",
    "# トークナイザ\n",
    "tokenizer = AutoTokenizer.from_pretrained(\"distilbert/distilbert-base-uncased\")\n",
    "\n",
    "# トークナイズ関数\n",
    "def tokenize_fn(example):\n",
    "    return tokenizer(example[\"sms\"], truncation=True, padding=\"max_length\", max_length=128)\n",
    "\n",
    "# 全体に適用\n",
    "tokenized_dataset = split_dataset.map(tokenize_fn, batched=True)\n",
    "\n",
    "# モデル用の column を整える\n",
    "tokenized_dataset = tokenized_dataset.rename_column(\"label\", \"labels\")\n",
    "tokenized_dataset.set_format(type=\"torch\", columns=[\"input_ids\", \"attention_mask\", \"labels\"])"
   ],
   "outputs": [
    {
     "data": {
      "text/plain": [
       "Map:   0%|          | 0/1115 [00:00<?, ? examples/s]"
      ],
      "application/vnd.jupyter.widget-view+json": {
       "version_major": 2,
       "version_minor": 0,
       "model_id": "87e31de0c0d3401db9e5dbf791b1fb9a"
      }
     },
     "metadata": {},
     "output_type": "display_data"
    }
   ],
   "execution_count": 8
  },
  {
   "metadata": {},
   "cell_type": "markdown",
   "source": "## 2. モデルの準備",
   "id": "bbd6908acb99c3d"
  },
  {
   "metadata": {
    "ExecuteTime": {
     "end_time": "2025-07-25T03:29:14.438566Z",
     "start_time": "2025-07-25T03:29:14.224368Z"
    }
   },
   "cell_type": "code",
   "source": [
    "from transformers import AutoModelForSequenceClassification\n",
    "\n",
    "# 2クラス分類用の DistilBERT\n",
    "model = AutoModelForSequenceClassification.from_pretrained(\"distilbert/distilbert-base-uncased\", num_labels=2)"
   ],
   "id": "7ecd0a5950c0497",
   "outputs": [
    {
     "name": "stderr",
     "output_type": "stream",
     "text": [
      "Some weights of DistilBertForSequenceClassification were not initialized from the model checkpoint at distilbert/distilbert-base-uncased and are newly initialized: ['classifier.bias', 'classifier.weight', 'pre_classifier.bias', 'pre_classifier.weight']\n",
      "You should probably TRAIN this model on a down-stream task to be able to use it for predictions and inference.\n"
     ]
    }
   ],
   "execution_count": 9
  },
  {
   "metadata": {},
   "cell_type": "markdown",
   "source": "## 3. 学習設定と `Trainer` の利用",
   "id": "6361c8e169ad912c"
  },
  {
   "metadata": {
    "ExecuteTime": {
     "end_time": "2025-07-25T03:29:33.130710Z",
     "start_time": "2025-07-25T03:29:32.885408Z"
    }
   },
   "cell_type": "code",
   "source": [
    "from transformers import Trainer, TrainingArguments\n",
    "\n",
    "training_args = TrainingArguments(\n",
    "    output_dir=\"./bert-sms-spam\",\n",
    "    eval_strategy=\"epoch\",\n",
    "    save_strategy=\"epoch\",\n",
    "    per_device_train_batch_size=16,\n",
    "    per_device_eval_batch_size=16,\n",
    "    num_train_epochs=3,\n",
    "    logging_steps=10,\n",
    "    load_best_model_at_end=True\n",
    ")\n",
    "\n",
    "trainer = Trainer(\n",
    "    model=model,\n",
    "    args=training_args,\n",
    "    train_dataset=tokenized_dataset[\"train\"],\n",
    "    eval_dataset=tokenized_dataset[\"test\"]\n",
    ")"
   ],
   "id": "c692d718a900d857",
   "outputs": [],
   "execution_count": 10
  },
  {
   "metadata": {
    "ExecuteTime": {
     "end_time": "2025-07-25T03:32:03.839636Z",
     "start_time": "2025-07-25T03:29:59.362349Z"
    }
   },
   "cell_type": "code",
   "source": "trainer.train()",
   "id": "8b3b53c489842c2e",
   "outputs": [
    {
     "data": {
      "text/plain": [
       "<IPython.core.display.HTML object>"
      ],
      "text/html": [
       "\n",
       "    <div>\n",
       "      \n",
       "      <progress value='837' max='837' style='width:300px; height:20px; vertical-align: middle;'></progress>\n",
       "      [837/837 02:02, Epoch 3/3]\n",
       "    </div>\n",
       "    <table border=\"1\" class=\"dataframe\">\n",
       "  <thead>\n",
       " <tr style=\"text-align: left;\">\n",
       "      <th>Epoch</th>\n",
       "      <th>Training Loss</th>\n",
       "      <th>Validation Loss</th>\n",
       "    </tr>\n",
       "  </thead>\n",
       "  <tbody>\n",
       "    <tr>\n",
       "      <td>1</td>\n",
       "      <td>0.091100</td>\n",
       "      <td>0.032209</td>\n",
       "    </tr>\n",
       "    <tr>\n",
       "      <td>2</td>\n",
       "      <td>0.045800</td>\n",
       "      <td>0.060291</td>\n",
       "    </tr>\n",
       "    <tr>\n",
       "      <td>3</td>\n",
       "      <td>0.000400</td>\n",
       "      <td>0.061173</td>\n",
       "    </tr>\n",
       "  </tbody>\n",
       "</table><p>"
      ]
     },
     "metadata": {},
     "output_type": "display_data"
    },
    {
     "data": {
      "text/plain": [
       "TrainOutput(global_step=837, training_loss=0.03341491820052569, metrics={'train_runtime': 124.2873, 'train_samples_per_second': 107.63, 'train_steps_per_second': 6.734, 'total_flos': 443004097955328.0, 'train_loss': 0.03341491820052569, 'epoch': 3.0})"
      ]
     },
     "execution_count": 11,
     "metadata": {},
     "output_type": "execute_result"
    }
   ],
   "execution_count": 11
  },
  {
   "metadata": {},
   "cell_type": "markdown",
   "source": "## 4. 精度の評価",
   "id": "8057452d95d3a777"
  },
  {
   "metadata": {
    "ExecuteTime": {
     "end_time": "2025-07-25T03:35:33.844946Z",
     "start_time": "2025-07-25T03:35:32.132356Z"
    }
   },
   "cell_type": "code",
   "source": [
    "from sklearn.metrics import accuracy_score, precision_recall_fscore_support\n",
    "\n",
    "# 評価用関数\n",
    "def compute_metrics(pred):\n",
    "    labels = pred.label_ids\n",
    "    preds = pred.predictions.argmax(-1)\n",
    "    acc = accuracy_score(labels, preds)\n",
    "    precision, recall, f1, _ = precision_recall_fscore_support(labels, preds, average=\"binary\")\n",
    "\n",
    "    return {\"accuracy\": acc, \"precision\": precision, \"recall\": recall, \"f1\": f1}\n",
    "\n",
    "trainer.compute_metrics = compute_metrics\n",
    "\n",
    "# 評価\n",
    "metrics = trainer.evaluate()\n",
    "print(metrics)"
   ],
   "id": "615b2b7c1b5574e3",
   "outputs": [
    {
     "data": {
      "text/plain": [
       "<IPython.core.display.HTML object>"
      ],
      "text/html": [
       "\n",
       "    <div>\n",
       "      \n",
       "      <progress value='70' max='70' style='width:300px; height:20px; vertical-align: middle;'></progress>\n",
       "      [70/70 00:01]\n",
       "    </div>\n",
       "    "
      ]
     },
     "metadata": {},
     "output_type": "display_data"
    },
    {
     "name": "stdout",
     "output_type": "stream",
     "text": [
      "{'eval_loss': 0.03220876678824425, 'eval_accuracy': 0.9919282511210762, 'eval_precision': 0.9861111111111112, 'eval_recall': 0.9530201342281879, 'eval_f1': 0.9692832764505119, 'eval_runtime': 1.7078, 'eval_samples_per_second': 652.895, 'eval_steps_per_second': 40.989, 'epoch': 3.0}\n"
     ]
    }
   ],
   "execution_count": 12
  }
 ],
 "metadata": {
  "kernelspec": {
   "display_name": "Python 3",
   "language": "python",
   "name": "python3"
  },
  "language_info": {
   "codemirror_mode": {
    "name": "ipython",
    "version": 2
   },
   "file_extension": ".py",
   "mimetype": "text/x-python",
   "name": "python",
   "nbconvert_exporter": "python",
   "pygments_lexer": "ipython2",
   "version": "2.7.6"
  }
 },
 "nbformat": 4,
 "nbformat_minor": 5
}
